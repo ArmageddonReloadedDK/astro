{
 "cells": [
  {
   "cell_type": "code",
   "execution_count": 20,
   "metadata": {},
   "outputs": [],
   "source": [
    "from tensorflow.keras.layers import Activation, Dense, Dropout, SpatialDropout1D\n",
    "from tensorflow.keras.layers import concatenate,Reshape,Add,LSTM,Multiply,Embedding,LSTM, GRU,BatchNormalization\n",
    "\n",
    "from tensorflow.keras.layers import Bidirectional, LeakyReLU\n",
    "from tensorflow.keras.models import Sequential,Model\n",
    "from tensorflow.keras.optimizers import Adam, RMSprop\n",
    "\n",
    "from tensorflow.keras import Model\n",
    "from tensorflow.keras import Input\n",
    "from tensorflow.keras.callbacks import ModelCheckpoint\n",
    "\n",
    "\n",
    "import pandas as pd\n",
    "import numpy as np\n",
    "import matplotlib.pyplot as plt\n",
    "from time import time\n",
    "\n",
    "\n",
    "from gensim.models import Word2Vec\n",
    "from gensim.models import KeyedVectors\n",
    "\n",
    "import re\n",
    "\n",
    "import pymorphy2\n",
    "\n",
    "from tensorflow.keras.initializers import Constant\n",
    "from tensorflow.keras.utils import to_categorical\n",
    "from tensorflow.keras.preprocessing.text import text_to_word_sequence,Tokenizer\n",
    "from tensorflow.keras.preprocessing.sequence import pad_sequences,TimeseriesGenerator\n",
    "\n",
    "from sklearn.model_selection import train_test_split\n",
    "from sklearn.preprocessing import MinMaxScaler \n",
    "import collections\n"
   ]
  },
  {
   "cell_type": "markdown",
   "metadata": {},
   "source": [
    "### Загрузим данные\n",
    "размер словаря - 84267 слов,количество предложений - 73477, максимальная длинна текста - 398 символов, максимальное количество слов в предложении - 190\n"
   ]
  },
  {
   "cell_type": "code",
   "execution_count": 43,
   "metadata": {},
   "outputs": [],
   "source": [
    "text=np.array(pd.read_csv('data.csv'))\n",
    "predictions=text[:,2]"
   ]
  },
  {
   "cell_type": "markdown",
   "metadata": {},
   "source": [
    "### Проведем токенизацию\n",
    "\n",
    "То есть разобьем исходные предложения на слова"
   ]
  },
  {
   "cell_type": "code",
   "execution_count": 2,
   "metadata": {},
   "outputs": [],
   "source": [
    "def processText(data):\n",
    "    tokens=[]\n",
    "    for line in data:\n",
    "        newToken=text_to_word_sequence(line[2],filters='!\"#$%&amp;()*+,-./:;&lt;=>?@[\\\\]^_`{|}~\\t\\n\\ufeff',\n",
    "                                  lower=True,split=' ')\n",
    "        tokens.append(newToken)\n",
    "    return tokens"
   ]
  },
  {
   "cell_type": "code",
   "execution_count": 5,
   "metadata": {},
   "outputs": [
    {
     "name": "stdout",
     "output_type": "stream",
     "text": [
      "['любые', 'разногласия', 'во', 'мнениях', 'скоро', 'улягутся', 'а', 'вы', 'продолжайте', 'делать', 'как', 'делали', 'но', 'постарайтесь', 'не', 'наступать', 'на', 'ноги', 'слишком', 'многим', 'иначе', 'ваши', 'сегодняшние', 'действия', 'сыграют', 'против', 'вас', 'в', 'будущем']\n"
     ]
    }
   ],
   "source": [
    "text_tokens=processText(text)\n",
    "print(text_tokens[0])"
   ]
  },
  {
   "cell_type": "markdown",
   "metadata": {},
   "source": [
    "### Заменим слова в предложениях на соответсвующие в словаре индексы"
   ]
  },
  {
   "cell_type": "code",
   "execution_count": 5,
   "metadata": {},
   "outputs": [],
   "source": [
    "num_words = 20000 #84267\n",
    "tokenizer = Tokenizer(\n",
    "    num_words=num_words,\n",
    "    filters='!\"#$%&amp;()*+,-—./:;&lt;=>?@[\\\\]^_`{|}~\\t\\n\\xa0\\ufeff',\n",
    "    lower=True,\n",
    "    split=' ',\n",
    "    char_level=False) \n",
    "\n",
    "\n",
    "tokenizer.fit_on_texts(text_tokens) \n",
    "sequences = tokenizer.texts_to_sequences(text_tokens)"
   ]
  },
  {
   "cell_type": "markdown",
   "metadata": {},
   "source": [
    "### Зафиксируем характеристики выборки"
   ]
  },
  {
   "cell_type": "code",
   "execution_count": 6,
   "metadata": {},
   "outputs": [
    {
     "name": "stdout",
     "output_type": "stream",
     "text": [
      "максимальное количество слов в предложении  188\n",
      "длина словаря  84267\n",
      "длина эмбеддинга  300\n"
     ]
    }
   ],
   "source": [
    "max_len=0 # максимальная длина предложения\n",
    "\n",
    "for seq in sequences:\n",
    "    l=len(seq)\n",
    "    if l> max_len:\n",
    "        max_len=l\n",
    "\n",
    "\n",
    "vocab_len = len(tokenizer.word_index)\n",
    "embedding_dim=300 # длина эмбеддинга слова\n",
    "\n",
    "print('максимальное количество слов в предложении ', max_len)\n",
    "print('длина словаря ', vocab_len)\n",
    "print('длина эмбеддинга ',embedding_dim)"
   ]
  },
  {
   "cell_type": "markdown",
   "metadata": {},
   "source": [
    "### Дополним предожения нулями до одной длины"
   ]
  },
  {
   "cell_type": "code",
   "execution_count": 7,
   "metadata": {},
   "outputs": [
    {
     "name": "stdout",
     "output_type": "stream",
     "text": [
      "текст предложения\n",
      " [  993     9   459  4145  1640   200     5   440    87     8  1118 12000\n",
      "     2  1851  8608 14200    38   775     1  2501 13658    14    44 16338\n",
      "    34     7  1162   452  1178    57     1     7   207    53     0     0\n",
      "     0     0     0     0     0     0     0     0     0     0     0     0\n",
      "     0     0]\n",
      "размерность всего массива (73477, 188)\n"
     ]
    }
   ],
   "source": [
    "sequences = pad_sequences(sequences = sequences, maxlen = max_len,padding='post')\n",
    "print('текст предложения\\n',sequences[1][:50])\n",
    "print('размерность всего массива',sequences.shape)"
   ]
  },
  {
   "cell_type": "markdown",
   "metadata": {},
   "source": [
    "### Считаем сохраненные веса word2vec"
   ]
  },
  {
   "cell_type": "code",
   "execution_count": 38,
   "metadata": {},
   "outputs": [],
   "source": [
    "model_w2v= KeyedVectors.load_word2vec_format('weights/araneum_upos_skipgram_300_2_2018.vec.gz')\n",
    "#w2v = Word2Vec.load(\"weights/word2vec.model\")"
   ]
  },
  {
   "cell_type": "code",
   "execution_count": 39,
   "metadata": {},
   "outputs": [],
   "source": [
    "# Список значимых частей речи. \n",
    "# Они нам потом понадобятся в немного другом виде. Так что сделаем словарь. чтобы два раза не вставать.\n",
    "conv_pos = {'ADJF':'ADJ', 'ADJS':'ADJ', 'ADV':'ADV', 'NOUN':'NOUN', \n",
    "            'VERB':'VERB', 'PRTF':'ADJ', 'PRTS':'ADJ', 'GRND':'VERB'}\n",
    "\n",
    "tmp_dict = {} # Кеш значимых слов.\n",
    "nones = {} # Кеш незначимых слов.\n",
    "\n",
    "morph = pymorphy2.MorphAnalyzer()\n",
    "\n",
    "# Фильтруем по части речи и возвращаем только начальную форму.\n",
    "def normalizePymorphy(text, need_pos=True):\n",
    "    tokens = re.findall('[A-Za-zА-Яа-яЁё]+\\-[A-Za-zА-Яа-яЁё]+|[A-Za-zА-Яа-яЁё]+', text)\n",
    "    words = []\n",
    "    for t in tokens:\n",
    "        # Если токен уже был закеширован, быстро возьмем результат из него.\n",
    "        if t in tmp_dict.keys():\n",
    "            words.append(tmp_dict[t])\n",
    "        # Аналогично, если он в кеше незначимых слов.\n",
    "        elif t in nones.keys():\n",
    "            pass\n",
    "        # Слово еще не встретилось, будем проводить медленный морфологический анализ.\n",
    "        else:\n",
    "            pv = morph.parse(t)\n",
    "            if pv[0].tag.POS != None:\n",
    "                if pv[0].tag.POS in conv_pos.keys():\n",
    "                    if need_pos:\n",
    "                        word = pv[0].normal_form+\"_\"+conv_pos[pv[0].tag.POS]\n",
    "                    else:\n",
    "                        word = pv[0].normal_form\n",
    "                    # Отправляем слово в результат, ...\n",
    "                    words.append(word)\n",
    "                    # ... и кешируем результат его разбора.\n",
    "                    tmp_dict[t] = word\n",
    "                else:\n",
    "                    # Для незначимых слов можно даже ничего не хранить. Лишь бы потом не обращаться к морфологии.\n",
    "                    nones[t] = \"\"\n",
    "                    \n",
    "    return words"
   ]
  },
  {
   "cell_type": "code",
   "execution_count": 40,
   "metadata": {},
   "outputs": [],
   "source": [
    "index2word_set = set(model_w2v.index_to_key)\n",
    "\n",
    "def text_to_vec(text):\n",
    "    text_vec = np.zeros((model_w2v.vector_size,), dtype=\"float32\")\n",
    "    n_words = 0\n",
    "\n",
    "    for word in normalizePymorphy(text):\n",
    "        if word in index2word_set:\n",
    "            n_words = n_words + 1\n",
    "            text_vec = np.add(text_vec, model_w2v[word]) \n",
    "    \n",
    "    if n_words != 0:\n",
    "        text_vec /= n_words\n",
    "    return text_vec"
   ]
  },
  {
   "cell_type": "code",
   "execution_count": 44,
   "metadata": {},
   "outputs": [],
   "source": [
    "w2v_vectors = [text_to_vec(txt) for txt in predictions]"
   ]
  },
  {
   "cell_type": "markdown",
   "metadata": {},
   "source": [
    "### Создадим матрицу эмбеддингов"
   ]
  },
  {
   "cell_type": "code",
   "execution_count": 11,
   "metadata": {},
   "outputs": [
    {
     "name": "stdout",
     "output_type": "stream",
     "text": [
      "до нормализации\n",
      " [-0.6245368  -1.3930552  -3.2870445  -0.53247976 -1.3066322  -4.748493\n",
      " -0.9808279  -0.87501806 -4.233118    3.80411   ]\n",
      "после нормализации\n",
      " [ 0.00100999 -0.02932662 -0.27354166  0.06112456 -0.14094234 -0.27567697\n",
      "  0.05776033 -0.03154409 -0.17836615  0.26318383]\n"
     ]
    }
   ],
   "source": [
    "embedding_matrix = w2v.wv.vectors\n",
    "\n",
    "scaler=MinMaxScaler((-1,1))\n",
    "print('до нормализации\\n',embedding_matrix[458][:10])\n",
    "\n",
    "embedding_matrix=scaler.fit_transform(embedding_matrix)\n",
    "print('после нормализации\\n',embedding_matrix[458][:10])"
   ]
  },
  {
   "cell_type": "markdown",
   "metadata": {},
   "source": [
    "### Создадим обучающую выборку\n",
    "\n",
    " Например для текста \"The sky was falling due to apocalypse \" будет\n",
    " \n",
    " \"The sky\" -> was\n",
    " \n",
    " \"sky was\" -> falling\n",
    " \n",
    " \" was falling \" -> due \n",
    " \n",
    " \" falling due\" -> to\n",
    " \n",
    " \"due to \" -> apocalypse\n",
    " \n"
   ]
  },
  {
   "cell_type": "code",
   "execution_count": 12,
   "metadata": {},
   "outputs": [],
   "source": [
    "def word2idx(word):\n",
    "    return w2v.wv.vocab[word].index\n",
    "\n",
    "def idx2word(idx):\n",
    "    return w2v.wv.index_to_key[idx]\n"
   ]
  },
  {
   "cell_type": "code",
   "execution_count": 13,
   "metadata": {},
   "outputs": [
    {
     "name": "stdout",
     "output_type": "stream",
     "text": [
      "x shape  (13372814, 5)\n",
      "y shape  (13372814, 300)\n"
     ]
    }
   ],
   "source": [
    "window_step=5\n",
    "N=500000\n",
    "step=1\n",
    "count=0\n",
    "\n",
    "x=[]\n",
    "y=[]\n",
    "\n",
    "\n",
    "for line in sequences:\n",
    "    if count>=N:\n",
    "        break\n",
    "        \n",
    "    for j in range(0, len(line) - step-window_step, step):\n",
    "        temp=[]\n",
    "        for i in range(window_step):\n",
    "            temp.append(line[j+i])\n",
    "       \n",
    "        x.append(temp)\n",
    "        y.append(embedding_matrix[line[j+window_step]])\n",
    "    \n",
    "x=np.array(x)\n",
    "y=np.array(y)\n",
    "    \n",
    "print('x shape ',x.shape)\n",
    "print('y shape ',y.shape)"
   ]
  },
  {
   "cell_type": "code",
   "execution_count": 15,
   "metadata": {},
   "outputs": [],
   "source": [
    "x_train, x_test, y_train, y_test = train_test_split(X,Y, test_size = 0.01,shuffle=False) #, random_state = 42)"
   ]
  },
  {
   "cell_type": "code",
   "execution_count": null,
   "metadata": {},
   "outputs": [],
   "source": [
    "del x_train\n",
    "del y_train\n",
    "del x_test\n",
    "del y_test"
   ]
  },
  {
   "cell_type": "markdown",
   "metadata": {},
   "source": [
    "## Обучим модель"
   ]
  },
  {
   "cell_type": "code",
   "execution_count": 16,
   "metadata": {},
   "outputs": [],
   "source": [
    "model= Sequential()\n",
    "\n",
    "model.add(Embedding(input_dim = vocab_len, \n",
    "                    output_dim = embedding_dim, \n",
    "                    weights=[embedding_matrix],\n",
    "                    trainable=False\n",
    "                             ))\n",
    "model.add(Dense(300,input_shape=(window_step,embedding_dim)))\n",
    "model.add(LeakyReLU(0.2))\n",
    "\n",
    "#modelGRU.add(Embedding(num_words, embedding_size))\n",
    "#modelGRU.add(SpatialDropout1D(0.2))\n",
    "\n",
    "model.add(LSTM(128, return_sequences=True))\n",
    "model.add(LSTM(256,return_sequences=True))\n",
    "model.add(BatchNormalization())\n",
    "\n",
    "model.add(LSTM(256,return_sequences=True))\n",
    "model.add(GRU(512,return_sequences=True))\n",
    "model.add(BatchNormalization())\n",
    "        \n",
    "model.add(LSTM(512,return_sequences=True))\n",
    "model.add(GRU(1024))\n",
    "model.add(BatchNormalization())\n",
    "\n",
    "#modelGRU.add(Bidirectional(LSTM(128)))\n",
    "#modelGRU.add(LSTM(8,return_sequences=True ))\n",
    "#model.add(LSTM(128))\n",
    "\n",
    "model.add(Dense(256))\n",
    "model.add(LeakyReLU(0.2))\n",
    "model.add(Dropout(0.2))\n",
    "\n",
    "model.add(Dense(64))\n",
    "model.add(LeakyReLU(0.2))\n",
    "\n",
    "model.add(Dense(embedding_dim,activation = 'tanh'))\n",
    "#model.summary()\n"
   ]
  },
  {
   "cell_type": "code",
   "execution_count": 17,
   "metadata": {},
   "outputs": [
    {
     "name": "stdout",
     "output_type": "stream",
     "text": [
      "Epoch 1/50\n",
      "4012/4012 [==============================] - 290s 70ms/step - loss: 0.0146 - mae: 0.0614 - val_loss: 0.0093 - val_mae: 0.0379\n",
      "Epoch 2/50\n",
      "4012/4012 [==============================] - 282s 70ms/step - loss: 0.0112 - mae: 0.0455 - val_loss: 0.0093 - val_mae: 0.0378\n",
      "Epoch 3/50\n",
      " 168/4012 [>.............................] - ETA: 4:19 - loss: 0.0112 - mae: 0.0449"
     ]
    },
    {
     "ename": "KeyboardInterrupt",
     "evalue": "",
     "output_type": "error",
     "traceback": [
      "\u001b[1;31m---------------------------------------------------------------------------\u001b[0m",
      "\u001b[1;31mKeyboardInterrupt\u001b[0m                         Traceback (most recent call last)",
      "\u001b[1;32m<ipython-input-17-e3eab032ed9e>\u001b[0m in \u001b[0;36m<module>\u001b[1;34m\u001b[0m\n\u001b[0;32m      2\u001b[0m \u001b[1;31m#optimizer=Adam(0.0001)\u001b[0m\u001b[1;33m\u001b[0m\u001b[1;33m\u001b[0m\u001b[1;33m\u001b[0m\u001b[0m\n\u001b[0;32m      3\u001b[0m \u001b[0mmodel\u001b[0m\u001b[1;33m.\u001b[0m\u001b[0mcompile\u001b[0m\u001b[1;33m(\u001b[0m\u001b[0mloss\u001b[0m\u001b[1;33m=\u001b[0m\u001b[1;34m\"mse\"\u001b[0m\u001b[1;33m,\u001b[0m \u001b[0moptimizer\u001b[0m\u001b[1;33m=\u001b[0m\u001b[0moptimizer\u001b[0m\u001b[1;33m,\u001b[0m\u001b[0mmetrics\u001b[0m\u001b[1;33m=\u001b[0m\u001b[1;33m[\u001b[0m\u001b[1;34m\"mae\"\u001b[0m\u001b[1;33m]\u001b[0m\u001b[1;33m)\u001b[0m\u001b[1;33m\u001b[0m\u001b[1;33m\u001b[0m\u001b[0m\n\u001b[1;32m----> 4\u001b[1;33m \u001b[0mhistory\u001b[0m \u001b[1;33m=\u001b[0m \u001b[0mmodel\u001b[0m\u001b[1;33m.\u001b[0m\u001b[0mfit\u001b[0m\u001b[1;33m(\u001b[0m\u001b[0mx\u001b[0m\u001b[1;33m,\u001b[0m \u001b[0my\u001b[0m\u001b[1;33m,\u001b[0m \u001b[0mbatch_size\u001b[0m\u001b[1;33m=\u001b[0m\u001b[1;36m3000\u001b[0m\u001b[1;33m,\u001b[0m \u001b[0mepochs\u001b[0m\u001b[1;33m=\u001b[0m\u001b[1;36m50\u001b[0m\u001b[1;33m,\u001b[0m \u001b[0mvalidation_split\u001b[0m\u001b[1;33m=\u001b[0m\u001b[1;36m0.1\u001b[0m\u001b[1;33m,\u001b[0m \u001b[0mverbose\u001b[0m\u001b[1;33m=\u001b[0m\u001b[1;36m1\u001b[0m\u001b[1;33m)\u001b[0m\u001b[1;33m\u001b[0m\u001b[1;33m\u001b[0m\u001b[0m\n\u001b[0m",
      "\u001b[1;32mC:\\Anaconda\\envs\\tf2\\lib\\site-packages\\tensorflow\\python\\keras\\engine\\training.py\u001b[0m in \u001b[0;36mfit\u001b[1;34m(self, x, y, batch_size, epochs, verbose, callbacks, validation_split, validation_data, shuffle, class_weight, sample_weight, initial_epoch, steps_per_epoch, validation_steps, validation_batch_size, validation_freq, max_queue_size, workers, use_multiprocessing)\u001b[0m\n\u001b[0;32m   1098\u001b[0m                 _r=1):\n\u001b[0;32m   1099\u001b[0m               \u001b[0mcallbacks\u001b[0m\u001b[1;33m.\u001b[0m\u001b[0mon_train_batch_begin\u001b[0m\u001b[1;33m(\u001b[0m\u001b[0mstep\u001b[0m\u001b[1;33m)\u001b[0m\u001b[1;33m\u001b[0m\u001b[1;33m\u001b[0m\u001b[0m\n\u001b[1;32m-> 1100\u001b[1;33m               \u001b[0mtmp_logs\u001b[0m \u001b[1;33m=\u001b[0m \u001b[0mself\u001b[0m\u001b[1;33m.\u001b[0m\u001b[0mtrain_function\u001b[0m\u001b[1;33m(\u001b[0m\u001b[0miterator\u001b[0m\u001b[1;33m)\u001b[0m\u001b[1;33m\u001b[0m\u001b[1;33m\u001b[0m\u001b[0m\n\u001b[0m\u001b[0;32m   1101\u001b[0m               \u001b[1;32mif\u001b[0m \u001b[0mdata_handler\u001b[0m\u001b[1;33m.\u001b[0m\u001b[0mshould_sync\u001b[0m\u001b[1;33m:\u001b[0m\u001b[1;33m\u001b[0m\u001b[1;33m\u001b[0m\u001b[0m\n\u001b[0;32m   1102\u001b[0m                 \u001b[0mcontext\u001b[0m\u001b[1;33m.\u001b[0m\u001b[0masync_wait\u001b[0m\u001b[1;33m(\u001b[0m\u001b[1;33m)\u001b[0m\u001b[1;33m\u001b[0m\u001b[1;33m\u001b[0m\u001b[0m\n",
      "\u001b[1;32mC:\\Anaconda\\envs\\tf2\\lib\\site-packages\\tensorflow\\python\\eager\\def_function.py\u001b[0m in \u001b[0;36m__call__\u001b[1;34m(self, *args, **kwds)\u001b[0m\n\u001b[0;32m    826\u001b[0m     \u001b[0mtracing_count\u001b[0m \u001b[1;33m=\u001b[0m \u001b[0mself\u001b[0m\u001b[1;33m.\u001b[0m\u001b[0mexperimental_get_tracing_count\u001b[0m\u001b[1;33m(\u001b[0m\u001b[1;33m)\u001b[0m\u001b[1;33m\u001b[0m\u001b[1;33m\u001b[0m\u001b[0m\n\u001b[0;32m    827\u001b[0m     \u001b[1;32mwith\u001b[0m \u001b[0mtrace\u001b[0m\u001b[1;33m.\u001b[0m\u001b[0mTrace\u001b[0m\u001b[1;33m(\u001b[0m\u001b[0mself\u001b[0m\u001b[1;33m.\u001b[0m\u001b[0m_name\u001b[0m\u001b[1;33m)\u001b[0m \u001b[1;32mas\u001b[0m \u001b[0mtm\u001b[0m\u001b[1;33m:\u001b[0m\u001b[1;33m\u001b[0m\u001b[1;33m\u001b[0m\u001b[0m\n\u001b[1;32m--> 828\u001b[1;33m       \u001b[0mresult\u001b[0m \u001b[1;33m=\u001b[0m \u001b[0mself\u001b[0m\u001b[1;33m.\u001b[0m\u001b[0m_call\u001b[0m\u001b[1;33m(\u001b[0m\u001b[1;33m*\u001b[0m\u001b[0margs\u001b[0m\u001b[1;33m,\u001b[0m \u001b[1;33m**\u001b[0m\u001b[0mkwds\u001b[0m\u001b[1;33m)\u001b[0m\u001b[1;33m\u001b[0m\u001b[1;33m\u001b[0m\u001b[0m\n\u001b[0m\u001b[0;32m    829\u001b[0m       \u001b[0mcompiler\u001b[0m \u001b[1;33m=\u001b[0m \u001b[1;34m\"xla\"\u001b[0m \u001b[1;32mif\u001b[0m \u001b[0mself\u001b[0m\u001b[1;33m.\u001b[0m\u001b[0m_experimental_compile\u001b[0m \u001b[1;32melse\u001b[0m \u001b[1;34m\"nonXla\"\u001b[0m\u001b[1;33m\u001b[0m\u001b[1;33m\u001b[0m\u001b[0m\n\u001b[0;32m    830\u001b[0m       \u001b[0mnew_tracing_count\u001b[0m \u001b[1;33m=\u001b[0m \u001b[0mself\u001b[0m\u001b[1;33m.\u001b[0m\u001b[0mexperimental_get_tracing_count\u001b[0m\u001b[1;33m(\u001b[0m\u001b[1;33m)\u001b[0m\u001b[1;33m\u001b[0m\u001b[1;33m\u001b[0m\u001b[0m\n",
      "\u001b[1;32mC:\\Anaconda\\envs\\tf2\\lib\\site-packages\\tensorflow\\python\\eager\\def_function.py\u001b[0m in \u001b[0;36m_call\u001b[1;34m(self, *args, **kwds)\u001b[0m\n\u001b[0;32m    853\u001b[0m       \u001b[1;31m# In this case we have created variables on the first call, so we run the\u001b[0m\u001b[1;33m\u001b[0m\u001b[1;33m\u001b[0m\u001b[1;33m\u001b[0m\u001b[0m\n\u001b[0;32m    854\u001b[0m       \u001b[1;31m# defunned version which is guaranteed to never create variables.\u001b[0m\u001b[1;33m\u001b[0m\u001b[1;33m\u001b[0m\u001b[1;33m\u001b[0m\u001b[0m\n\u001b[1;32m--> 855\u001b[1;33m       \u001b[1;32mreturn\u001b[0m \u001b[0mself\u001b[0m\u001b[1;33m.\u001b[0m\u001b[0m_stateless_fn\u001b[0m\u001b[1;33m(\u001b[0m\u001b[1;33m*\u001b[0m\u001b[0margs\u001b[0m\u001b[1;33m,\u001b[0m \u001b[1;33m**\u001b[0m\u001b[0mkwds\u001b[0m\u001b[1;33m)\u001b[0m  \u001b[1;31m# pylint: disable=not-callable\u001b[0m\u001b[1;33m\u001b[0m\u001b[1;33m\u001b[0m\u001b[0m\n\u001b[0m\u001b[0;32m    856\u001b[0m     \u001b[1;32melif\u001b[0m \u001b[0mself\u001b[0m\u001b[1;33m.\u001b[0m\u001b[0m_stateful_fn\u001b[0m \u001b[1;32mis\u001b[0m \u001b[1;32mnot\u001b[0m \u001b[1;32mNone\u001b[0m\u001b[1;33m:\u001b[0m\u001b[1;33m\u001b[0m\u001b[1;33m\u001b[0m\u001b[0m\n\u001b[0;32m    857\u001b[0m       \u001b[1;31m# Release the lock early so that multiple threads can perform the call\u001b[0m\u001b[1;33m\u001b[0m\u001b[1;33m\u001b[0m\u001b[1;33m\u001b[0m\u001b[0m\n",
      "\u001b[1;32mC:\\Anaconda\\envs\\tf2\\lib\\site-packages\\tensorflow\\python\\eager\\function.py\u001b[0m in \u001b[0;36m__call__\u001b[1;34m(self, *args, **kwargs)\u001b[0m\n\u001b[0;32m   2941\u001b[0m        filtered_flat_args) = self._maybe_define_function(args, kwargs)\n\u001b[0;32m   2942\u001b[0m     return graph_function._call_flat(\n\u001b[1;32m-> 2943\u001b[1;33m         filtered_flat_args, captured_inputs=graph_function.captured_inputs)  # pylint: disable=protected-access\n\u001b[0m\u001b[0;32m   2944\u001b[0m \u001b[1;33m\u001b[0m\u001b[0m\n\u001b[0;32m   2945\u001b[0m   \u001b[1;33m@\u001b[0m\u001b[0mproperty\u001b[0m\u001b[1;33m\u001b[0m\u001b[1;33m\u001b[0m\u001b[0m\n",
      "\u001b[1;32mC:\\Anaconda\\envs\\tf2\\lib\\site-packages\\tensorflow\\python\\eager\\function.py\u001b[0m in \u001b[0;36m_call_flat\u001b[1;34m(self, args, captured_inputs, cancellation_manager)\u001b[0m\n\u001b[0;32m   1917\u001b[0m       \u001b[1;31m# No tape is watching; skip to running the function.\u001b[0m\u001b[1;33m\u001b[0m\u001b[1;33m\u001b[0m\u001b[1;33m\u001b[0m\u001b[0m\n\u001b[0;32m   1918\u001b[0m       return self._build_call_outputs(self._inference_function.call(\n\u001b[1;32m-> 1919\u001b[1;33m           ctx, args, cancellation_manager=cancellation_manager))\n\u001b[0m\u001b[0;32m   1920\u001b[0m     forward_backward = self._select_forward_and_backward_functions(\n\u001b[0;32m   1921\u001b[0m         \u001b[0margs\u001b[0m\u001b[1;33m,\u001b[0m\u001b[1;33m\u001b[0m\u001b[1;33m\u001b[0m\u001b[0m\n",
      "\u001b[1;32mC:\\Anaconda\\envs\\tf2\\lib\\site-packages\\tensorflow\\python\\eager\\function.py\u001b[0m in \u001b[0;36mcall\u001b[1;34m(self, ctx, args, cancellation_manager)\u001b[0m\n\u001b[0;32m    558\u001b[0m               \u001b[0minputs\u001b[0m\u001b[1;33m=\u001b[0m\u001b[0margs\u001b[0m\u001b[1;33m,\u001b[0m\u001b[1;33m\u001b[0m\u001b[1;33m\u001b[0m\u001b[0m\n\u001b[0;32m    559\u001b[0m               \u001b[0mattrs\u001b[0m\u001b[1;33m=\u001b[0m\u001b[0mattrs\u001b[0m\u001b[1;33m,\u001b[0m\u001b[1;33m\u001b[0m\u001b[1;33m\u001b[0m\u001b[0m\n\u001b[1;32m--> 560\u001b[1;33m               ctx=ctx)\n\u001b[0m\u001b[0;32m    561\u001b[0m         \u001b[1;32melse\u001b[0m\u001b[1;33m:\u001b[0m\u001b[1;33m\u001b[0m\u001b[1;33m\u001b[0m\u001b[0m\n\u001b[0;32m    562\u001b[0m           outputs = execute.execute_with_cancellation(\n",
      "\u001b[1;32mC:\\Anaconda\\envs\\tf2\\lib\\site-packages\\tensorflow\\python\\eager\\execute.py\u001b[0m in \u001b[0;36mquick_execute\u001b[1;34m(op_name, num_outputs, inputs, attrs, ctx, name)\u001b[0m\n\u001b[0;32m     58\u001b[0m     \u001b[0mctx\u001b[0m\u001b[1;33m.\u001b[0m\u001b[0mensure_initialized\u001b[0m\u001b[1;33m(\u001b[0m\u001b[1;33m)\u001b[0m\u001b[1;33m\u001b[0m\u001b[1;33m\u001b[0m\u001b[0m\n\u001b[0;32m     59\u001b[0m     tensors = pywrap_tfe.TFE_Py_Execute(ctx._handle, device_name, op_name,\n\u001b[1;32m---> 60\u001b[1;33m                                         inputs, attrs, num_outputs)\n\u001b[0m\u001b[0;32m     61\u001b[0m   \u001b[1;32mexcept\u001b[0m \u001b[0mcore\u001b[0m\u001b[1;33m.\u001b[0m\u001b[0m_NotOkStatusException\u001b[0m \u001b[1;32mas\u001b[0m \u001b[0me\u001b[0m\u001b[1;33m:\u001b[0m\u001b[1;33m\u001b[0m\u001b[1;33m\u001b[0m\u001b[0m\n\u001b[0;32m     62\u001b[0m     \u001b[1;32mif\u001b[0m \u001b[0mname\u001b[0m \u001b[1;32mis\u001b[0m \u001b[1;32mnot\u001b[0m \u001b[1;32mNone\u001b[0m\u001b[1;33m:\u001b[0m\u001b[1;33m\u001b[0m\u001b[1;33m\u001b[0m\u001b[0m\n",
      "\u001b[1;31mKeyboardInterrupt\u001b[0m: "
     ]
    }
   ],
   "source": [
    "optimizer=RMSprop(0.0001)\n",
    "#optimizer=Adam(0.0001)\n",
    "model.compile(loss=\"mse\", optimizer=optimizer,metrics=[\"mae\"])\n",
    "history = model.fit(x, y, batch_size=3000, epochs=50, validation_split=0.1, verbose=1)"
   ]
  },
  {
   "cell_type": "code",
   "execution_count": 94,
   "metadata": {},
   "outputs": [
    {
     "ename": "NameError",
     "evalue": "name 'sentStep' is not defined",
     "output_type": "error",
     "traceback": [
      "\u001b[1;31m---------------------------------------------------------------------------\u001b[0m",
      "\u001b[1;31mNameError\u001b[0m                                 Traceback (most recent call last)",
      "\u001b[1;32m<ipython-input-94-86a53b96eca3>\u001b[0m in \u001b[0;36m<module>\u001b[1;34m\u001b[0m\n\u001b[0;32m      4\u001b[0m                               \u001b[0moutput_dim\u001b[0m \u001b[1;33m=\u001b[0m \u001b[0membeddingDim\u001b[0m\u001b[1;33m,\u001b[0m\u001b[1;33m\u001b[0m\u001b[1;33m\u001b[0m\u001b[0m\n\u001b[0;32m      5\u001b[0m \u001b[1;33m\u001b[0m\u001b[0m\n\u001b[1;32m----> 6\u001b[1;33m                               \u001b[0minput_length\u001b[0m \u001b[1;33m=\u001b[0m\u001b[0msentStep\u001b[0m\u001b[1;33m,\u001b[0m\u001b[1;33m\u001b[0m\u001b[1;33m\u001b[0m\u001b[0m\n\u001b[0m\u001b[0;32m      7\u001b[0m                              ))\n\u001b[0;32m      8\u001b[0m \u001b[1;31m#modelGRU.add(Embedding(num_words, embedding_size))\u001b[0m\u001b[1;33m\u001b[0m\u001b[1;33m\u001b[0m\u001b[1;33m\u001b[0m\u001b[0m\n",
      "\u001b[1;31mNameError\u001b[0m: name 'sentStep' is not defined"
     ]
    }
   ],
   "source": [
    "modelGRU = Sequential()\n",
    "#embedding_layer = w2v.wv.get_keras_embedding(train_embeddings=False)\n",
    "modelGRU.add(Embedding(input_dim = N, \n",
    "                              output_dim = embedding_dim, \n",
    "                              \n",
    "                              input_length =s, \n",
    "                             ))\n",
    "#modelGRU.add(Embedding(num_words, embedding_size))\n",
    "#modelGRU.add(SpatialDropout1D(0.2))\n",
    "modelGRU.add(Bidirectional(GRU(128, return_sequences=True)))\n",
    "modelGRU.add(Bidirectional(GRU(256)))\n",
    "#modelGRU.add(Bidirectional(LSTM(128)))\n",
    "#modelGRU.add(LSTM(8,return_sequences=True ))\n",
    "#modelGRU.add(LSTM(128))\n",
    "modelGRU.add(Dropout(0.2))\n",
    "\n",
    "modelGRU.add(Dense(64))\n",
    "modelGRU.add(LeakyReLU(0.2))\n",
    "\n",
    "modelGRU.add(Dense(num_words,activation = 'softmax'))\n",
    "#modelGRU.summary()\n"
   ]
  },
  {
   "cell_type": "code",
   "execution_count": 24,
   "metadata": {},
   "outputs": [],
   "source": [
    "model.save_weights('modelGRU.h5')"
   ]
  },
  {
   "cell_type": "code",
   "execution_count": 15,
   "metadata": {},
   "outputs": [],
   "source": [
    "model.load_weights_weights('modelGRU.h5')"
   ]
  },
  {
   "cell_type": "code",
   "execution_count": 90,
   "metadata": {},
   "outputs": [
    {
     "name": "stdout",
     "output_type": "stream",
     "text": [
      "Model: \"sequential_8\"\n",
      "_________________________________________________________________\n",
      "Layer (type)                 Output Shape              Param #   \n",
      "=================================================================\n",
      "dense_26 (Dense)             (None, 256)               77056     \n",
      "_________________________________________________________________\n",
      "leaky_re_lu_18 (LeakyReLU)   (None, 256)               0         \n",
      "_________________________________________________________________\n",
      "dense_27 (Dense)             (None, 1024)              263168    \n",
      "_________________________________________________________________\n",
      "leaky_re_lu_19 (LeakyReLU)   (None, 1024)              0         \n",
      "_________________________________________________________________\n",
      "dense_28 (Dense)             (None, 84267)             86373675  \n",
      "_________________________________________________________________\n",
      "activation_6 (Activation)    (None, 84267)             0         \n",
      "=================================================================\n",
      "Total params: 86,713,899\n",
      "Trainable params: 86,713,899\n",
      "Non-trainable params: 0\n",
      "_________________________________________________________________\n"
     ]
    }
   ],
   "source": [
    "emb2indx=Sequential()\n",
    "\n",
    "emb2indx.add(Dense(256,input_shape=(300,)))\n",
    "emb2indx.add(LeakyReLU(0.2))\n",
    "\n",
    "emb2indx.add(Dense(1024))\n",
    "emb2indx.add(LeakyReLU(0.2))\n",
    "\n",
    "\n",
    "emb2indx.add(Dense(vocab_len))\n",
    "emb2indx.add(Activation('softmax'))\n",
    "\n",
    "emb2indx.summary()"
   ]
  },
  {
   "cell_type": "code",
   "execution_count": 91,
   "metadata": {},
   "outputs": [],
   "source": [
    "embedding_matrix_label=np.arange(0,vocab_len)\n",
    "\n",
    "x_train, _, y_train, _ = train_test_split(embedding_matrix,\n",
    "                                          embedding_matrix_label,\n",
    "                                          test_size = 0.01,\n",
    "                                          shuffle=True) #, random_state = 42)"
   ]
  },
  {
   "cell_type": "code",
   "execution_count": 92,
   "metadata": {},
   "outputs": [
    {
     "name": "stdout",
     "output_type": "stream",
     "text": [
      "Epoch 1/20\n",
      "147/147 [==============================] - 6s 40ms/step - loss: 11.6079 - categorical_accuracy: 0.0000e+00 - val_loss: 11.4582 - val_categorical_accuracy: 0.0000e+00\n",
      "Epoch 2/20\n",
      "147/147 [==============================] - 6s 39ms/step - loss: 11.6012 - categorical_accuracy: 0.0000e+00 - val_loss: 13.0873 - val_categorical_accuracy: 0.0000e+00\n",
      "Epoch 3/20\n",
      "147/147 [==============================] - 6s 39ms/step - loss: 9.8262 - categorical_accuracy: 4.2658e-05 - val_loss: 14.3321 - val_categorical_accuracy: 0.0000e+00\n",
      "Epoch 4/20\n",
      "147/147 [==============================] - 6s 39ms/step - loss: 5.6799 - categorical_accuracy: 9.8322e-06 - val_loss: 24.9401 - val_categorical_accuracy: 0.0000e+00\n",
      "Epoch 5/20\n",
      "147/147 [==============================] - 6s 39ms/step - loss: 2.4213 - categorical_accuracy: 0.0000e+00 - val_loss: 41.9075 - val_categorical_accuracy: 0.0000e+00\n",
      "Epoch 6/20\n",
      "147/147 [==============================] - 6s 39ms/step - loss: 1.7615 - categorical_accuracy: 2.0889e-05 - val_loss: 53.4045 - val_categorical_accuracy: 0.0000e+00\n",
      "Epoch 7/20\n",
      "147/147 [==============================] - 6s 39ms/step - loss: 1.3582 - categorical_accuracy: 1.0167e-06 - val_loss: 65.5816 - val_categorical_accuracy: 0.0000e+00\n",
      "Epoch 8/20\n",
      "147/147 [==============================] - 6s 39ms/step - loss: 1.1739 - categorical_accuracy: 5.6894e-06 - val_loss: 75.6631 - val_categorical_accuracy: 0.0000e+00\n",
      "Epoch 9/20\n",
      "147/147 [==============================] - 6s 39ms/step - loss: 0.9863 - categorical_accuracy: 2.0463e-05 - val_loss: 84.7980 - val_categorical_accuracy: 0.0000e+00\n",
      "Epoch 10/20\n",
      "147/147 [==============================] - 6s 39ms/step - loss: 0.8427 - categorical_accuracy: 1.3078e-06 - val_loss: 92.9437 - val_categorical_accuracy: 0.0000e+00\n",
      "Epoch 11/20\n",
      "147/147 [==============================] - 6s 39ms/step - loss: 0.8453 - categorical_accuracy: 3.5481e-06 - val_loss: 105.7402 - val_categorical_accuracy: 0.0000e+00\n",
      "Epoch 12/20\n",
      "147/147 [==============================] - 6s 39ms/step - loss: 0.8661 - categorical_accuracy: 7.7579e-06 - val_loss: 114.1044 - val_categorical_accuracy: 0.0000e+00\n",
      "Epoch 13/20\n",
      "147/147 [==============================] - 6s 39ms/step - loss: 0.9150 - categorical_accuracy: 5.2854e-06 - val_loss: 126.5969 - val_categorical_accuracy: 0.0000e+00\n",
      "Epoch 14/20\n",
      "147/147 [==============================] - 6s 39ms/step - loss: 0.9159 - categorical_accuracy: 2.8683e-06 - val_loss: 138.8759 - val_categorical_accuracy: 0.0000e+00\n",
      "Epoch 15/20\n",
      "147/147 [==============================] - 6s 39ms/step - loss: 0.9772 - categorical_accuracy: 8.0817e-06 - val_loss: 152.6115 - val_categorical_accuracy: 0.0000e+00\n",
      "Epoch 16/20\n",
      "147/147 [==============================] - 6s 39ms/step - loss: 1.0309 - categorical_accuracy: 3.6277e-05 - val_loss: 167.6904 - val_categorical_accuracy: 0.0000e+00\n",
      "Epoch 17/20\n",
      "147/147 [==============================] - 6s 39ms/step - loss: 1.0196 - categorical_accuracy: 7.4418e-06 - val_loss: 179.5642 - val_categorical_accuracy: 0.0000e+00\n",
      "Epoch 18/20\n",
      "147/147 [==============================] - 6s 39ms/step - loss: 0.9780 - categorical_accuracy: 5.0227e-06 - val_loss: 193.6515 - val_categorical_accuracy: 0.0000e+00\n",
      "Epoch 19/20\n",
      "147/147 [==============================] - 6s 39ms/step - loss: 1.1150 - categorical_accuracy: 1.2522e-05 - val_loss: 205.6947 - val_categorical_accuracy: 0.0000e+00\n",
      "Epoch 20/20\n",
      "147/147 [==============================] - 6s 39ms/step - loss: 0.9667 - categorical_accuracy: 6.1062e-06 - val_loss: 221.2190 - val_categorical_accuracy: 0.0000e+00\n"
     ]
    }
   ],
   "source": [
    "optimizer=RMSprop(0.01)\n",
    "optimizer=Adam(0.01)\n",
    "emb2indx.compile(loss=\"sparse_categorical_crossentropy\", optimizer=optimizer,metrics=[\"categorical_accuracy\"])\n",
    "history2 = emb2indx.fit(x_train, y_train, batch_size=512, epochs=20, validation_split=0.1, verbose=1)"
   ]
  },
  {
   "cell_type": "code",
   "execution_count": 93,
   "metadata": {},
   "outputs": [
    {
     "data": {
      "image/png": "[encoded data removed]",
      "text/plain": [
       "<Figure size 720x720 with 1 Axes>"
      ]
     },
     "metadata": {
      "needs_background": "light"
     },
     "output_type": "display_data"
    }
   ],
   "source": [
    "plt.figure(figsize=(10,10))\n",
    "plt.plot(history2.history['loss'])\n",
    "plt.plot(history2.history['val_loss'])\n",
    "plt.legend(['loss','vall_loss'],fontsize=15)\n",
    "plt.xlabel('epochs',fontsize=15)\n",
    "plt.show()"
   ]
  },
  {
   "cell_type": "code",
   "execution_count": 58,
   "metadata": {},
   "outputs": [
    {
     "name": "stdout",
     "output_type": "stream",
     "text": [
      "[[  1.11940563  -4.47298622   0.65774113  -4.86403894   2.4788835\n",
      "   -1.92764044   0.06084801  -0.94689554   3.41244149  -2.22464442\n",
      "    1.65917277   4.02326965  -3.81203103  -0.07682221  -2.97399664\n",
      "    3.43047047   1.5191133    3.48144889  -3.05387735  -0.19981249]\n",
      " [  8.76150036  -3.02618313  -5.61167622  -7.557127     2.9316082\n",
      "  -11.12590027   3.86868095  -4.16566563  -0.45326442   2.6480093\n",
      "   -5.87803841  -7.29429388   2.15030169  -1.23684454   0.30451331\n",
      "    0.68259573  -5.05772114   2.52857542  12.65536308   2.92942691]\n",
      " [ -5.33199835   0.51617199  -2.11480713   0.29691482  -1.58108556\n",
      "    2.70423245  -4.69053364  -4.81633234  -3.94052768   2.50122547\n",
      "    4.3491683    2.68520594  -3.42910099   2.8538785    6.86081362\n",
      "    4.45629978   4.4436059    5.10120296  -5.38503122  -6.79748487]\n",
      " [  0.10566183   1.39336932  -1.75582969   1.68297565   1.41040981\n",
      "   -5.65944958   3.47622252  -6.91624498   3.06348443   4.80276775\n",
      "    4.22399759   0.09041955   1.41429913  -2.21025276  -0.32724872\n",
      "   -4.47960091   0.48247364  -2.49254847  -2.17884827  -1.29262948]\n",
      " [ -1.5177753   -0.28004608  -2.4656527   -1.19690382  -1.64444351\n",
      "    0.88431764  -1.47736371  -2.14096546  -1.2187115    1.89097512\n",
      "   -1.20614505   0.77594435  -2.49850583  -3.39855242  -0.85534745\n",
      "    1.05574822   1.18501079   1.45868003   1.85069036   2.04112792]]\n"
     ]
    }
   ],
   "source": [
    "words=['Сегодня раки сделали весам хороший']\n",
    "start_words=np.zeros((1,5,embedding_dim))\n",
    "\n",
    "sents = tokenizer.texts_to_sequences(words)\n",
    "\n",
    "for i,sent in enumerate(sents[0]):\n",
    "    embedding=embedding_matrix[sent].reshape((1,-1))\n",
    "    start_words[0,i]=scaler.inverse_transform(embedding)\n",
    "\n",
    "print(start_words[0,:,:20])"
   ]
  },
  {
   "cell_type": "code",
   "execution_count": 41,
   "metadata": {},
   "outputs": [
    {
     "name": "stdout",
     "output_type": "stream",
     "text": [
      "['Сегодня раки сделали весам хороший']\n",
      "людьми\n",
      "60\n",
      "людьми\n",
      "60\n",
      "людьми\n",
      "60\n",
      "людьми\n",
      "60\n",
      "людьми\n",
      "60\n",
      "людьми\n",
      "60\n",
      "людьми\n",
      "60\n",
      "людьми\n",
      "60\n",
      "людьми\n",
      "60\n",
      "людьми\n",
      "60\n",
      "людьми\n",
      "60\n",
      "людьми\n",
      "60\n",
      "людьми\n",
      "60\n",
      "людьми\n",
      "60\n",
      "людьми\n",
      "60\n",
      "людьми\n",
      "60\n",
      "людьми\n",
      "60\n",
      "людьми\n",
      "60\n",
      "людьми\n",
      "60\n",
      "людьми\n",
      "60\n"
     ]
    }
   ],
   "source": [
    "n=20\n",
    "\n",
    "for i in range(n):\n",
    "    res=model.predict(start_words)\n",
    "    \n",
    "    predWord=reverse_word_map[nextIndex]\n",
    "    print(predWord)\n",
    "    for j in range(newWords.shape[1]-1):\n",
    "        newWords[0][j]=newWords[0][j+1]\n",
    "    newWords[0][2]=nextIndex\n",
    "    print(nextIndex)\n",
    "    "
   ]
  },
  {
   "cell_type": "code",
   "execution_count": null,
   "metadata": {},
   "outputs": [],
   "source": []
  }
 ],
 "metadata": {
  "kernelspec": {
   "display_name": "tf2",
   "language": "python",
   "name": "tf2"
  },
  "language_info": {
   "codemirror_mode": {
    "name": "ipython",
    "version": 3
   },
   "file_extension": ".py",
   "mimetype": "text/x-python",
   "name": "python",
   "nbconvert_exporter": "python",
   "pygments_lexer": "ipython3",
   "version": "3.7.10"
  },
  "pycharm": {
   "stem_cell": {
    "cell_type": "raw",
    "metadata": {
     "collapsed": false
    },
    "source": []
   }
  }
 },
 "nbformat": 4,
 "nbformat_minor": 1
}
