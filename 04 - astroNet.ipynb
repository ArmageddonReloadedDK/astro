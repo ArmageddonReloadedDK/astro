{
 "cells": [
  {
   "cell_type": "code",
   "execution_count": 1,
   "metadata": {},
   "outputs": [
    {
     "name": "stderr",
     "output_type": "stream",
     "text": [
      "Using TensorFlow backend.\n"
     ]
    }
   ],
   "source": [
    "from keras.layers.core import Activation, Dense, Dropout, SpatialDropout1D\n",
    "from keras.layers import concatenate,Reshape,Add,LSTM,Multiply\n",
    "from keras.layers.embeddings import Embedding\n",
    "from keras.layers.recurrent import LSTM, GRU\n",
    "from keras.layers import Bidirectional, LeakyReLU\n",
    "from keras.models import Sequential,Model\n",
    "from keras.optimizers import Adam, RMSprop\n",
    "\n",
    "from keras import Model\n",
    "from keras import Input\n",
    "from keras.callbacks import ModelCheckpoint\n",
    "\n",
    "import cython\n",
    "import pandas as pd\n",
    "import numpy as np\n",
    "from matplotlib import pyplot as plt\n",
    "from time import time\n",
    "from gensim.models import Word2Vec\n",
    "from keras.initializers import Constant\n",
    "from keras.utils import to_categorical\n",
    "from keras.preprocessing.text import text_to_word_sequence,Tokenizer\n",
    "from keras.preprocessing.sequence import pad_sequences,TimeseriesGenerator\n",
    "\n",
    "from sklearn.model_selection import train_test_split\n",
    "from sklearn.preprocessing import MinMaxScaler \n"
   ]
  },
  {
   "cell_type": "markdown",
   "metadata": {},
   "source": [
    "# Внимание! \n",
    "\n",
    "Если планируете запускать весь ноутбук, то убедитесь, что количество озу в вашем пека >=32 гб. Либо коллаб в помощь"
   ]
  },
  {
   "cell_type": "markdown",
   "metadata": {},
   "source": [
    "### Загрузим данные"
   ]
  },
  {
   "cell_type": "markdown",
   "metadata": {},
   "source": [
    "размер словаря - 84267 слов,количество предложений - 73477, максимальная длинна текста - 398 символов, максимальное количество слов в предложении - 190\n"
   ]
  },
  {
   "cell_type": "code",
   "execution_count": 2,
   "metadata": {},
   "outputs": [],
   "source": [
    "data=np.array(pd.read_csv('data.csv'))"
   ]
  },
  {
   "cell_type": "markdown",
   "metadata": {},
   "source": [
    "### Проведем токенизацию\n",
    "\n",
    "То есть разобьем исходные предложения на слова"
   ]
  },
  {
   "cell_type": "code",
   "execution_count": 3,
   "metadata": {},
   "outputs": [],
   "source": [
    "def processText(data):\n",
    "    tokens=[]\n",
    "    for line in data:\n",
    "        newToken=text_to_word_sequence(text=line[2],filters='!\"#$%&amp;()*+,-./:;&lt;=>?@[\\\\]^_`{|}~\\t\\n\\ufeff',\n",
    "                                  lower=True,split=' ')\n",
    "        tokens.append(newToken)\n",
    "    return tokens"
   ]
  },
  {
   "cell_type": "code",
   "execution_count": 4,
   "metadata": {},
   "outputs": [
    {
     "name": "stdout",
     "output_type": "stream",
     "text": [
      "['любые', 'разногласия', 'во', 'мнениях', 'скоро', 'улягутся', 'а', 'вы', 'продолжайте', 'делать', 'как', 'делали', 'но', 'постарайтесь', 'не', 'наступать', 'на', 'ноги', 'слишком', 'многим', 'иначе', 'ваши', 'сегодняшние', 'действия', 'сыграют', 'против', 'вас', 'в', 'будущем']\n"
     ]
    }
   ],
   "source": [
    "wordLists=processText(data)\n",
    "print(wordLists[0])"
   ]
  },
  {
   "cell_type": "markdown",
   "metadata": {},
   "source": [
    "### Заменим слова в предложениях на соответсвующие в словаре индексы"
   ]
  },
  {
   "cell_type": "code",
   "execution_count": 5,
   "metadata": {},
   "outputs": [
    {
     "name": "stdout",
     "output_type": "stream",
     "text": [
      "[293, 448, 66, 8385, 4715, 15933, 22, 8, 10529, 336, 34, 10057, 25, 127, 3, 16752, 7, 12640, 169, 755, 254, 43, 3549, 279, 4619, 953, 12, 2, 614]\n"
     ]
    }
   ],
   "source": [
    "num_words = 20000 #84267\n",
    "tokenizer = Tokenizer(\n",
    "    num_words=num_words,\n",
    "    filters='!\"#$%&amp;()*+,-—./:;&lt;=>?@[\\\\]^_`{|}~\\t\\n\\xa0\\ufeff',\n",
    "    lower=True,\n",
    "    split=' ',\n",
    "    char_level=False) \n",
    "\n",
    "\n",
    "tokenizer.fit_on_texts(wordLists) \n",
    "sequences = np.array(tokenizer.texts_to_sequences(wordLists))\n",
    "print(sequences[0])"
   ]
  },
  {
   "cell_type": "markdown",
   "metadata": {},
   "source": [
    "### Зафиксируем характеристики выборки"
   ]
  },
  {
   "cell_type": "code",
   "execution_count": 6,
   "metadata": {},
   "outputs": [],
   "source": [
    "sentLen = len(max(sequences, key = len)) # max_len\n",
    "word2index = tokenizer.word_index       #word_index\n",
    "wordsNum = len(tokenizer.word_index) + 1 # num_words\n",
    "embeddingDim=300"
   ]
  },
  {
   "cell_type": "markdown",
   "metadata": {},
   "source": [
    "### Дополним предожения нулями до одной длины"
   ]
  },
  {
   "cell_type": "code",
   "execution_count": 7,
   "metadata": {},
   "outputs": [
    {
     "name": "stdout",
     "output_type": "stream",
     "text": [
      "[  293   448    66  8385  4715 15933    22     8 10529   336    34 10057\n",
      "    25   127     3 16752     7 12640   169   755   254    43  3549   279\n",
      "  4619   953    12     2   614     0     0     0     0     0     0     0\n",
      "     0     0     0     0     0     0     0     0     0     0     0     0\n",
      "     0     0     0     0     0     0     0     0     0     0     0     0\n",
      "     0     0     0     0     0     0     0     0     0     0     0     0\n",
      "     0     0     0     0     0     0     0     0     0     0     0     0\n",
      "     0     0     0     0     0     0     0     0     0     0     0     0\n",
      "     0     0     0     0     0     0     0     0     0     0     0     0\n",
      "     0     0     0     0     0     0     0     0     0     0     0     0\n",
      "     0     0     0     0     0     0     0     0     0     0     0     0\n",
      "     0     0     0     0     0     0     0     0     0     0     0     0\n",
      "     0     0     0     0     0     0     0     0     0     0     0     0\n",
      "     0     0     0     0     0     0     0     0     0     0     0     0\n",
      "     0     0     0     0     0     0     0     0     0     0     0     0\n",
      "     0     0     0     0     0     0     0     0]\n",
      "(188,)\n",
      "(73477, 188)\n"
     ]
    }
   ],
   "source": [
    "sequences = pad_sequences(sequences = sequences, maxlen = sentLen,padding='post')\n",
    "print(sequences[0])\n",
    "print(sequences[0].shape)\n",
    "print(sequences.shape)"
   ]
  },
  {
   "cell_type": "code",
   "execution_count": null,
   "metadata": {},
   "outputs": [],
   "source": [
    "w2v = Word2Vec.load(\"word2vec.model\")"
   ]
  },
  {
   "cell_type": "code",
   "execution_count": null,
   "metadata": {},
   "outputs": [],
   "source": [
    "embeddingMatrix = np.zeros((wordsNum, embeddingDim))\n",
    "for word, i in tokenizer.word_index.items():\n",
    "    if i > wordsNum: #если индекс превышает кол-во слов в словаре, то скипаем  \n",
    "        continue\n",
    "    embeddingVector = w2v[word] #получаем вектор соответствущий слову в модели word2vec\n",
    "    if embeddingVector is not None:  #если слово отсутствует в словаре word2vec, то оно в матрице np.zeroes останется равным 0\n",
    "        embeddingMatrix[i] = embeddingVector #если слово найдено в словаре токенизатора, то в embedding_matrix проставляем вектор соответствующий слову"
   ]
  },
  {
   "cell_type": "markdown",
   "metadata": {},
   "source": [
    "### Отнормируем вектора embedding'ов. "
   ]
  },
  {
   "cell_type": "code",
   "execution_count": null,
   "metadata": {},
   "outputs": [],
   "source": [
    "scaler=MinMaxScaler((-2,2))"
   ]
  },
  {
   "cell_type": "markdown",
   "metadata": {},
   "source": [
    "До нормализации"
   ]
  },
  {
   "cell_type": "code",
   "execution_count": null,
   "metadata": {},
   "outputs": [],
   "source": [
    "embeddingMatrix[458][:40]"
   ]
  },
  {
   "cell_type": "code",
   "execution_count": null,
   "metadata": {},
   "outputs": [],
   "source": [
    "embeddingMatrix=scaler.fit_transform(embeddingMatrix)"
   ]
  },
  {
   "cell_type": "code",
   "execution_count": null,
   "metadata": {},
   "outputs": [],
   "source": [
    "w2v.init_sims(replace=True)"
   ]
  },
  {
   "cell_type": "markdown",
   "metadata": {},
   "source": [
    "После нормализации"
   ]
  },
  {
   "cell_type": "code",
   "execution_count": null,
   "metadata": {},
   "outputs": [],
   "source": [
    "embeddingMatrix[458][:40]"
   ]
  },
  {
   "cell_type": "markdown",
   "metadata": {},
   "source": [
    "### Приведем датасет к специальному виду\n",
    "\n",
    " Например для текста \"The sky was falling due to apocalypse \" будет\n",
    " \n",
    " \"The sky\" -> was\n",
    " \n",
    " \"sky was\" -> falling\n",
    " \n",
    " \" was falling \" -> due \n",
    " \n",
    " \" falling due\" -> to\n",
    " \n",
    " \"due to \" -> apocalypse\n",
    " \n"
   ]
  },
  {
   "cell_type": "code",
   "execution_count": 8,
   "metadata": {},
   "outputs": [],
   "source": [
    "def word2idx(word):\n",
    "    return w2v.wv.vocab[word].index\n",
    "def idx2word(idx):\n",
    "    return w2v.wv.index2word[idx]"
   ]
  },
  {
   "cell_type": "code",
   "execution_count": 9,
   "metadata": {},
   "outputs": [],
   "source": [
    "seqlen=10\n",
    "step=1\n",
    "inputSent = []\n",
    "labelSent = []\n",
    "count=0\n",
    "N=500000\n",
    "for i,line in enumerate(sequences):\n",
    "    if count>=N:\n",
    "        break\n",
    "    for j in range(0, len(line) - step, step):\n",
    "        count+=1\n",
    "        inputSent.append(line[j])\n",
    "        labelSent.append(line[j + step])"
   ]
  },
  {
   "cell_type": "code",
   "execution_count": 10,
   "metadata": {},
   "outputs": [
    {
     "data": {
      "text/plain": [
       "[293, 448, 66, 8385, 4715]"
      ]
     },
     "execution_count": 10,
     "metadata": {},
     "output_type": "execute_result"
    }
   ],
   "source": [
    "inputSent[0:5]"
   ]
  },
  {
   "cell_type": "code",
   "execution_count": 11,
   "metadata": {},
   "outputs": [
    {
     "data": {
      "text/plain": [
       "[448, 66, 8385, 4715]"
      ]
     },
     "execution_count": 11,
     "metadata": {},
     "output_type": "execute_result"
    }
   ],
   "source": [
    "labelSent[0:4]\n"
   ]
  },
  {
   "cell_type": "code",
   "execution_count": 12,
   "metadata": {},
   "outputs": [],
   "source": [
    "sentStep=3\n",
    "X=np.zeros((len(inputSent),3))\n",
    "for i in range(len(inputSent)-2):\n",
    "    X[i]=(inputSent[i],inputSent[i+1],inputSent[i+2])"
   ]
  },
  {
   "cell_type": "markdown",
   "metadata": {},
   "source": [
    "Соотнесем кадому слову из выборки Y вектор embedding'а"
   ]
  },
  {
   "cell_type": "code",
   "execution_count": 13,
   "metadata": {},
   "outputs": [],
   "source": [
    "\n",
    "Y=np.zeros((X.shape[0],num_words),dtype='bool')\n"
   ]
  },
  {
   "cell_type": "code",
   "execution_count": null,
   "metadata": {},
   "outputs": [],
   "source": [
    "#Y=to_categorical(labelSent)"
   ]
  },
  {
   "cell_type": "code",
   "execution_count": 14,
   "metadata": {},
   "outputs": [],
   "source": [
    "for i,line in enumerate(Y):\n",
    "    index=labelSent[i]\n",
    "    line[index]=1"
   ]
  },
  {
   "cell_type": "code",
   "execution_count": null,
   "metadata": {},
   "outputs": [],
   "source": [
    "for i,index in enumerate(labelSent):\n",
    "    Y[i]=w2v[idx2word(index)]"
   ]
  },
  {
   "cell_type": "code",
   "execution_count": null,
   "metadata": {},
   "outputs": [],
   "source": [
    "Y=scaler.fit_transform(Y)"
   ]
  },
  {
   "cell_type": "code",
   "execution_count": 15,
   "metadata": {},
   "outputs": [],
   "source": [
    "x_train, x_test, y_train, y_test = train_test_split(X,Y, test_size = 0.01,shuffle=False) #, random_state = 42)"
   ]
  },
  {
   "cell_type": "code",
   "execution_count": null,
   "metadata": {},
   "outputs": [],
   "source": [
    "del X"
   ]
  },
  {
   "cell_type": "code",
   "execution_count": null,
   "metadata": {},
   "outputs": [],
   "source": [
    "del Y"
   ]
  },
  {
   "cell_type": "code",
   "execution_count": null,
   "metadata": {},
   "outputs": [],
   "source": [
    "del x_train\n",
    "del y_train\n",
    "del x_test\n",
    "del y_test"
   ]
  },
  {
   "cell_type": "code",
   "execution_count": null,
   "metadata": {},
   "outputs": [],
   "source": [
    "np.save('x_train.npy',x_train)\n",
    "np.save('y_train.npy',y_train)\n",
    "np.save('x_test.npy',x_test)\n",
    "np.save('y_test.npy',y_test)"
   ]
  },
  {
   "cell_type": "code",
   "execution_count": null,
   "metadata": {},
   "outputs": [],
   "source": [
    "x_train=np.load('x_train.npy')\n",
    "x_test=np.load('x_test.npy')\n",
    "y_train=np.load('y_train.npy')\n",
    "y_test=np.load('y_test.npy')"
   ]
  },
  {
   "cell_type": "code",
   "execution_count": null,
   "metadata": {},
   "outputs": [],
   "source": [
    "x_train[0]"
   ]
  },
  {
   "cell_type": "markdown",
   "metadata": {},
   "source": [
    "## Раздел \"спасите, не работает\""
   ]
  },
  {
   "cell_type": "markdown",
   "metadata": {},
   "source": [
    "Поставлена задача по входному эмбеддингу слова определить эмбеддинг следующего слова, то есть - задача регресси. Однако по факту ничего не работает. \n",
    "\n",
    "Либо модель плохая (да), либо оптимизатор плохой (да) и все в таком духе.\n",
    "\n",
    "Варианты с GRU, SLTM не работают.\n",
    "\n",
    "Протестированы регрессионные функции потерь: косинусная метрика, среднеквадратичная "
   ]
  },
  {
   "cell_type": "code",
   "execution_count": 25,
   "metadata": {},
   "outputs": [
    {
     "name": "stdout",
     "output_type": "stream",
     "text": [
      "Model: \"sequential_3\"\n",
      "_________________________________________________________________\n",
      "Layer (type)                 Output Shape              Param #   \n",
      "=================================================================\n",
      "embedding_3 (Embedding)      (None, 3, 300)            6000300   \n",
      "_________________________________________________________________\n",
      "bidirectional_5 (Bidirection (None, 3, 256)            329472    \n",
      "_________________________________________________________________\n",
      "bidirectional_6 (Bidirection (None, 512)               787968    \n",
      "_________________________________________________________________\n",
      "dropout_3 (Dropout)          (None, 512)               0         \n",
      "_________________________________________________________________\n",
      "dense_5 (Dense)              (None, 64)                32832     \n",
      "_________________________________________________________________\n",
      "leaky_re_lu_3 (LeakyReLU)    (None, 64)                0         \n",
      "_________________________________________________________________\n",
      "dense_6 (Dense)              (None, 20000)             1300000   \n",
      "=================================================================\n",
      "Total params: 8,450,572\n",
      "Trainable params: 8,450,572\n",
      "Non-trainable params: 0\n",
      "_________________________________________________________________\n"
     ]
    }
   ],
   "source": [
    "modelGRU = Sequential()\n",
    "#embedding_layer = w2v.wv.get_keras_embedding(train_embeddings=False)\n",
    "modelGRU.add(Embedding(input_dim = num_words+1, \n",
    "                              output_dim = embeddingDim, \n",
    "                              \n",
    "                              input_length =sentStep, \n",
    "                             ))\n",
    "#modelGRU.add(Embedding(num_words, embedding_size))\n",
    "#modelGRU.add(SpatialDropout1D(0.2))\n",
    "modelGRU.add(Bidirectional(GRU(128, return_sequences=True)))\n",
    "modelGRU.add(Bidirectional(GRU(256)))\n",
    "#modelGRU.add(Bidirectional(LSTM(128)))\n",
    "#modelGRU.add(LSTM(8,return_sequences=True ))\n",
    "#modelGRU.add(LSTM(128))\n",
    "modelGRU.add(Dropout(0.2))\n",
    "\n",
    "modelGRU.add(Dense(64))\n",
    "modelGRU.add(LeakyReLU(0.2))\n",
    "\n",
    "modelGRU.add(Dense(num_words,activation = 'softmax'))\n",
    "modelGRU.summary()\n"
   ]
  },
  {
   "cell_type": "code",
   "execution_count": 17,
   "metadata": {},
   "outputs": [],
   "source": [
    "optimizer=RMSprop(0.001)\n",
    "checkpoint = ModelCheckpoint(\n",
    "    'output/{val_acc:.4f}.hdf5',\n",
    "    monitor='val_acc',\n",
    "    verbose=1, \n",
    "    save_best_only=True,\n",
    "    mode='auto')"
   ]
  },
  {
   "cell_type": "code",
   "execution_count": 26,
   "metadata": {},
   "outputs": [
    {
     "name": "stdout",
     "output_type": "stream",
     "text": [
      "Train on 470285 samples, validate on 24752 samples\n",
      "Epoch 1/20\n",
      "470285/470285 [==============================] - 150s 318us/step - loss: 2.4250 - categorical_accuracy: 0.6892 - val_loss: 1.8846 - val_categorical_accuracy: 0.7252\n",
      "Epoch 2/20\n",
      "470285/470285 [==============================] - 149s 318us/step - loss: 1.7279 - categorical_accuracy: 0.7367 - val_loss: 1.2771 - val_categorical_accuracy: 0.7804\n",
      "Epoch 3/20\n",
      "470285/470285 [==============================] - 149s 316us/step - loss: 1.1845 - categorical_accuracy: 0.8007 - val_loss: 0.8898 - val_categorical_accuracy: 0.8350\n",
      "Epoch 4/20\n",
      "470285/470285 [==============================] - 149s 316us/step - loss: 0.9343 - categorical_accuracy: 0.8382 - val_loss: 0.7141 - val_categorical_accuracy: 0.8713\n",
      "Epoch 5/20\n",
      "470285/470285 [==============================] - 148s 314us/step - loss: 0.7927 - categorical_accuracy: 0.8640 - val_loss: 0.5886 - val_categorical_accuracy: 0.8986\n",
      "Epoch 6/20\n",
      "470285/470285 [==============================] - 148s 316us/step - loss: 0.6749 - categorical_accuracy: 0.8864 - val_loss: 0.4776 - val_categorical_accuracy: 0.9203\n",
      "Epoch 7/20\n",
      "470285/470285 [==============================] - 149s 316us/step - loss: 0.5699 - categorical_accuracy: 0.9069 - val_loss: 0.3905 - val_categorical_accuracy: 0.9365\n",
      "Epoch 8/20\n",
      "470285/470285 [==============================] - 149s 316us/step - loss: 0.4731 - categorical_accuracy: 0.9250 - val_loss: 0.3081 - val_categorical_accuracy: 0.9538\n",
      "Epoch 9/20\n",
      "470285/470285 [==============================] - 149s 316us/step - loss: 0.3871 - categorical_accuracy: 0.9414 - val_loss: 0.2395 - val_categorical_accuracy: 0.9663\n",
      "Epoch 10/20\n",
      "470285/470285 [==============================] - 148s 315us/step - loss: 0.3164 - categorical_accuracy: 0.9540 - val_loss: 0.1946 - val_categorical_accuracy: 0.9717\n",
      "Epoch 11/20\n",
      "470285/470285 [==============================] - 147s 313us/step - loss: 0.2607 - categorical_accuracy: 0.9634 - val_loss: 0.1616 - val_categorical_accuracy: 0.9746\n",
      "Epoch 12/20\n",
      "470285/470285 [==============================] - 146s 311us/step - loss: 0.2205 - categorical_accuracy: 0.9693 - val_loss: 0.1268 - val_categorical_accuracy: 0.9811\n",
      "Epoch 13/20\n",
      "470285/470285 [==============================] - 148s 316us/step - loss: 0.1896 - categorical_accuracy: 0.9740 - val_loss: 0.1075 - val_categorical_accuracy: 0.9846\n",
      "Epoch 14/20\n",
      "470285/470285 [==============================] - 151s 320us/step - loss: 0.1648 - categorical_accuracy: 0.9778 - val_loss: 0.0877 - val_categorical_accuracy: 0.9879\n",
      "Epoch 15/20\n",
      "470285/470285 [==============================] - 155s 330us/step - loss: 0.1459 - categorical_accuracy: 0.9803 - val_loss: 0.0741 - val_categorical_accuracy: 0.9895\n",
      "Epoch 16/20\n",
      "470285/470285 [==============================] - 155s 329us/step - loss: 0.1311 - categorical_accuracy: 0.9821 - val_loss: 0.0622 - val_categorical_accuracy: 0.9915\n",
      "Epoch 17/20\n",
      "470285/470285 [==============================] - 155s 330us/step - loss: 0.1201 - categorical_accuracy: 0.9838 - val_loss: 0.0542 - val_categorical_accuracy: 0.9928\n",
      "Epoch 18/20\n",
      "470285/470285 [==============================] - 155s 329us/step - loss: 0.1103 - categorical_accuracy: 0.9852 - val_loss: 0.0497 - val_categorical_accuracy: 0.9930\n",
      "Epoch 19/20\n",
      "470285/470285 [==============================] - 153s 326us/step - loss: 0.1030 - categorical_accuracy: 0.9861 - val_loss: 0.0467 - val_categorical_accuracy: 0.9936\n",
      "Epoch 20/20\n",
      "470285/470285 [==============================] - 153s 325us/step - loss: 0.0961 - categorical_accuracy: 0.9872 - val_loss: 0.0425 - val_categorical_accuracy: 0.9948\n"
     ]
    }
   ],
   "source": [
    "modelGRU.compile(loss=\"categorical_crossentropy\", optimizer=optimizer,metrics=[\"categorical_accuracy\"])\n",
    "historyGRU = modelGRU.fit(x_train, y_train, batch_size=2048, epochs=20, validation_split=0.05, verbose=1)"
   ]
  },
  {
   "cell_type": "code",
   "execution_count": null,
   "metadata": {},
   "outputs": [],
   "source": [
    "import matplotlib.pyplot as plt"
   ]
  },
  {
   "cell_type": "code",
   "execution_count": 27,
   "metadata": {},
   "outputs": [],
   "source": [
    "modelGRU.save_weights('modelGRU.h5')"
   ]
  },
  {
   "cell_type": "code",
   "execution_count": 30,
   "metadata": {},
   "outputs": [
    {
     "data": {
      "text/plain": [
       "[<matplotlib.lines.Line2D at 0x25dcfa95320>]"
      ]
     },
     "execution_count": 30,
     "metadata": {},
     "output_type": "execute_result"
    },
    {
     "data": {
      "image/png": "[encoded data removed]",
      "text/plain": [
       "<Figure size 432x288 with 1 Axes>"
      ]
     },
     "metadata": {
      "needs_background": "light"
     },
     "output_type": "display_data"
    }
   ],
   "source": [
    "plt.plot(historyGRU.history['loss'])\n",
    "plt.plot(historyGRU.history['categorical_accuracy'])"
   ]
  },
  {
   "cell_type": "code",
   "execution_count": 129,
   "metadata": {},
   "outputs": [
    {
     "name": "stdout",
     "output_type": "stream",
     "text": [
      "['Деньги раки весы']\n",
      "прибыль\n",
      "589\n",
      "весы\n",
      "923\n",
      "прибыль\n",
      "589\n",
      "весы\n",
      "923\n",
      "прибыль\n",
      "589\n",
      "весы\n",
      "923\n",
      "прибыль\n",
      "589\n",
      "весы\n",
      "923\n",
      "прибыль\n",
      "589\n",
      "весы\n",
      "923\n",
      "прибыль\n",
      "589\n",
      "весы\n",
      "923\n",
      "прибыль\n",
      "589\n",
      "весы\n",
      "923\n",
      "прибыль\n",
      "589\n",
      "весы\n",
      "923\n",
      "прибыль\n",
      "589\n",
      "весы\n",
      "923\n",
      "прибыль\n",
      "589\n",
      "весы\n",
      "923\n"
     ]
    }
   ],
   "source": [
    "n=20\n",
    "words=['Деньги раки весы']\n",
    "newWords=np.zeros((1,3))\n",
    "sentences = np.array(tokenizer.texts_to_sequences(words))\n",
    "newWords[0]=(sentences[0][0],sentences[0][1],sentences[0][2])\n",
    "reverse_word_map = dict(map(reversed, tokenizer.word_index.items()))\n",
    "print(words)\n",
    "for i in range(n):\n",
    "    res=modelGRU.predict(newWords)\n",
    "    nextIndex=res.argmax()\n",
    "    predWord=reverse_word_map[nextIndex]\n",
    "    print(predWord)\n",
    "    for j in range(newWords.shape[1]-1):\n",
    "        newWords[0][j]=newWords[0][j+1]\n",
    "    newWords[0][2]=nextIndex\n",
    "    print(nextIndex)\n",
    "    "
   ]
  }
 ],
 "metadata": {
  "kernelspec": {
   "display_name": "env_neuro",
   "language": "python",
   "name": "env_neuro"
  },
  "language_info": {
   "codemirror_mode": {
    "name": "ipython",
    "version": 3
   },
   "file_extension": ".py",
   "mimetype": "text/x-python",
   "name": "python",
   "nbconvert_exporter": "python",
   "pygments_lexer": "ipython3",
   "version": "3.6.10"
  },
  "pycharm": {
   "stem_cell": {
    "cell_type": "raw",
    "metadata": {
     "collapsed": false
    },
    "source": []
   }
  }
 },
 "nbformat": 4,
 "nbformat_minor": 1
}
