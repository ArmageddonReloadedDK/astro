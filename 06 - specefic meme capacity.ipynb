{
 "cells": [
  {
   "cell_type": "code",
   "execution_count": null,
   "metadata": {
    "collapsed": true
   },
   "outputs": [],
   "source": [
    "import json\n",
    "from collections import Counter\n",
    "from matplotlib import pyplot as plt\n",
    "import numpy as np\n",
    "import matplotlib as mpl\n",
    "import pylab\n",
    "import pandas as pd"
   ]
  },
  {
   "cell_type": "code",
   "execution_count": null,
   "outputs": [],
   "source": [
    "with open(\"result.json\", \"r\", encoding='utf-8') as read_file:\n",
    "    data = json.load(read_file)"
   ],
   "metadata": {
    "collapsed": false,
    "pycharm": {
     "name": "#%%\n"
    }
   }
  },
  {
   "cell_type": "code",
   "execution_count": null,
   "outputs": [],
   "source": [
    "messages_num=[msg.get('from') for msg in data['messages'] if msg.get('from') is not None]\n",
    "cnt=Counter(messages_num)"
   ],
   "metadata": {
    "collapsed": false,
    "pycharm": {
     "name": "#%%\n"
    }
   }
  },
  {
   "cell_type": "code",
   "execution_count": null,
   "outputs": [],
   "source": [
    "mes_cnt=np.array(cnt.most_common())\n",
    "messages_df = pd.DataFrame({'author': mes_cnt[:,0],\n",
    "                   'messages num': mes_cnt[:,1].astype(np.int32)})"
   ],
   "metadata": {
    "collapsed": false,
    "pycharm": {
     "name": "#%%\n"
    }
   }
  },
  {
   "cell_type": "code",
   "execution_count": null,
   "outputs": [],
   "source": [
    "messages_df.sort_values('messages num', inplace=True)\n",
    "messages_df.plot(x='author',y='messages num', kind='barh',figsize=(15,10),grid=True)\n",
    "plt.savefig('messages.png')\n",
    "plt.show()"
   ],
   "metadata": {
    "collapsed": false,
    "pycharm": {
     "name": "#%%\n"
    }
   }
  },
  {
   "cell_type": "code",
   "execution_count": null,
   "outputs": [],
   "source": [
    "files_num = [msg.get('from') for msg in data['messages'] if msg.get('file')=='(File not included. Change data exporting settings to download.)']\n",
    "files_cnt = Counter(files_num)\n",
    "files_cnt = np.array(files_cnt.most_common())"
   ],
   "metadata": {
    "collapsed": false,
    "pycharm": {
     "name": "#%%\n"
    }
   }
  },
  {
   "cell_type": "code",
   "execution_count": null,
   "outputs": [],
   "source": [
    "files_df = pd.DataFrame({'author': files_cnt[:, 0],\n",
    "                   'images num': files_cnt[:, 1].astype(np.int32)})\n",
    "files_df.sort_values('images num', inplace=True)\n",
    "files_df.plot(x='author', y='images num', kind='barh', figsize=(15, 10), grid=True)\n",
    "plt.savefig('files.png')\n",
    "plt.show()"
   ],
   "metadata": {
    "collapsed": false,
    "pycharm": {
     "name": "#%%\n"
    }
   }
  },
  {
   "cell_type": "code",
   "execution_count": null,
   "outputs": [],
   "source": [
    "k=[]\n",
    "for file_line in files_df.values:\n",
    "    name,file_num=file_line\n",
    "    mes_num=messages_df[messages_df.author==name].values[0][-1]\n",
    "    k.append(int(file_num)/int(mes_num))"
   ],
   "metadata": {
    "collapsed": false,
    "pycharm": {
     "name": "#%%\n"
    }
   }
  },
  {
   "cell_type": "code",
   "execution_count": null,
   "outputs": [],
   "source": [
    "k_df=pd.DataFrame({'author':files_df['author'],'meme constant':k})"
   ],
   "metadata": {
    "collapsed": false,
    "pycharm": {
     "name": "#%%\n"
    }
   }
  },
  {
   "cell_type": "code",
   "execution_count": null,
   "outputs": [],
   "source": [
    "k_df.sort_values('meme constant', inplace=True)\n",
    "k_df.plot(x='author', y='meme constant', kind='barh', figsize=(15, 10), grid=True)\n",
    "plt.savefig('meme constant.png')\n",
    "plt.show()"
   ],
   "metadata": {
    "collapsed": false,
    "pycharm": {
     "name": "#%%\n"
    }
   }
  }
 ],
 "metadata": {
  "kernelspec": {
   "name": "tf2",
   "language": "python",
   "display_name": "tf2"
  },
  "language_info": {
   "codemirror_mode": {
    "name": "ipython",
    "version": 2
   },
   "file_extension": ".py",
   "mimetype": "text/x-python",
   "name": "python",
   "nbconvert_exporter": "python",
   "pygments_lexer": "ipython2",
   "version": "2.7.6"
  }
 },
 "nbformat": 4,
 "nbformat_minor": 0
}