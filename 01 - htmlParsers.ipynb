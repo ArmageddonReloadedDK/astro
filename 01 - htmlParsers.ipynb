{
 "cells": [
  {
   "cell_type": "code",
   "execution_count": 291,
   "metadata": {},
   "outputs": [],
   "source": [
    "import requests\n",
    "from bs4 import BeautifulSoup\n",
    "import pandas as pd\n",
    "import numpy as np\n",
    "import asyncio\n",
    "import aiohttp\n",
    "import nest_asyncio\n",
    "from selenium import webdriver\n",
    "from loguru import logger\n",
    "\n",
    "\n",
    "nest_asyncio.apply()\n"
   ]
  },
  {
   "cell_type": "markdown",
   "metadata": {},
   "source": [
    "## Спарсим рамблер"
   ]
  },
  {
   "cell_type": "markdown",
   "metadata": {},
   "source": [
    "Это работает так: сначала код запрашивает требуемую страинцу у рамблера, тот в ответ отправляет html страницу, а затем идет поиск тега, в котором находится текст гороскопа. "
   ]
  },
  {
   "cell_type": "code",
   "execution_count": null,
   "metadata": {},
   "outputs": [],
   "source": [
    "signs=['aries','gemini','taurus','cancer','leo','virgo','libra','scorpio','sagittarius','capricorn','aquarius','pisces']\n",
    "data = pd.read_csv('data.csv', names=['date', 'sign', 'text'])\n",
    "\n",
    "for i in range(2004,2021):\n",
    "    for j in range(1,13):\n",
    "        for k in range(1,32):\n",
    "            for sign in signs:\n",
    "                try:\n",
    "                    year=i\n",
    "                    month=j\n",
    "                    day=k\n",
    "                    if month<10:\n",
    "                        month='0'+str(month)\n",
    "                    if day<10:\n",
    "                        day='0'+str(day)\n",
    "                    date='%s-%s-%s'%(year,month,day)\n",
    "                    url = 'https://horoscopes.rambler.ru/%s/%s/?updated'% (sign,date)  # url для второй страницы\n",
    "                    print(url)\n",
    "                    r = requests.get(url)\n",
    "                    response = r.text.encode('utf-8')\n",
    "\n",
    "                    soup = BeautifulSoup(response, features=\"lxml\")\n",
    "                    text = soup.find('div', {'class': '_1dQ3'}).text\n",
    "                    data=data.append({'date': date, 'sign': sign, 'text': text}, ignore_index=True)\n",
    "                    data.to_csv('data.csv', encoding = 'utf-8')\n",
    "                    print('saved date=', date, ' sign=', sign)\n",
    "                except Exception:\n",
    "                    continue"
   ]
  },
  {
   "cell_type": "markdown",
   "metadata": {},
   "source": [
    "## Сайт Ростова-на-Дону"
   ]
  },
  {
   "cell_type": "markdown",
   "metadata": {},
   "source": [
    "https://www.1rnd.ru/"
   ]
  },
  {
   "cell_type": "code",
   "execution_count": null,
   "metadata": {},
   "outputs": [],
   "source": [
    "news=[]\n",
    "url='https://www.1rnd.ru/news/3089599'\n",
    "print(url)\n",
    "r = requests.get(url)\n",
    "response = r.text\n",
    "soup = BeautifulSoup(response, 'html.parser')\n",
    "\n",
    "news_text=soup.findAll('p', {'style': \"text-align:justify;\"})\n",
    "date_text=soup.findAll('div', {'class': \"article-info__time\"})\n",
    "header_text=soup.findAll('div',{'class':'title-container inner-title'})\n",
    "\n",
    "if news_text:\n",
    "    print('success')\n",
    "    text_line=''\n",
    "    for text in news_text:\n",
    "         text_line=text_line+text.get_text()\n",
    "    news.append([header_text[0].get_text(),date_text[0].get_text().split(),text_line])"
   ]
  },
  {
   "cell_type": "code",
   "execution_count": null,
   "metadata": {},
   "outputs": [],
   "source": [
    "news = pd.DataFrame({'header': [0], 'date': [0], 'news': [0]})"
   ]
  },
  {
   "cell_type": "code",
   "execution_count": null,
   "metadata": {},
   "outputs": [],
   "source": [
    "start1=7135\n",
    "start2=300000\n",
    "start3=600000\n",
    "start4=900000\n",
    "start5=1200000\n",
    "start6=1500000\n",
    "start7=1800000\n",
    "start8=2100000\n",
    "start9=2400000\n",
    "start10=2700000\n",
    "\n",
    "end1=299999\n",
    "end2=599999\n",
    "end3=899999\n",
    "end4=1199999\n",
    "end5=1499999\n",
    "end6=1799999\n",
    "end7=2099999\n",
    "end8=2399999\n",
    "end9=2699999\n",
    "end10=2999999\n",
    "\n",
    "\n",
    "async def get_news(start,end):\n",
    "    global news\n",
    "    for i in range(start,end):\n",
    "        url ='https://www.1rnd.ru/news/{0}'.format(str(i)) \n",
    "        print(url)\n",
    "        \n",
    "        async with aiohttp.ClientSession() as session:\n",
    "            async with session.get(url) as response:\n",
    "\n",
    "                response = await response.text()\n",
    "                soup = BeautifulSoup(response, 'html.parser')\n",
    "\n",
    "                news_text=soup.findAll('p', {'style': \"text-align:justify;\"})\n",
    "                date_text=soup.findAll('div', {'class': \"article-info__time\"})\n",
    "                header_text=soup.findAll('div',{'class':'title-container inner-title'})\n",
    "\n",
    "                if news_text:\n",
    "                    print('success')\n",
    "                    text_line=''\n",
    "                    for text in news_text:\n",
    "                         text_line=text_line+text.get_text()\n",
    "                            \n",
    "                    date=date_text[0].get_text()\n",
    "                    header=header_text[0].get_text()\n",
    "\n",
    "                    news=news.append({'header': header, 'date': date, 'news': text_line}, ignore_index=True)\n",
    "                    news.to_csv('news.csv', encoding = 'utf-8')\n",
    "\n",
    "futures = [get_news(start1,end1),\n",
    "           get_news(start2,end2),\n",
    "           get_news(start3,end3),\n",
    "           get_news(start4,end4),\n",
    "           get_news(start5,end5),\n",
    "           get_news(start6,end6),\n",
    "           get_news(start7,end7),\n",
    "           get_news(start8,end8),\n",
    "           get_news(start9,end9),\n",
    "           get_news(start10,end10)]\n",
    "\n",
    "loop = asyncio.get_event_loop()\n",
    "loop.run_until_complete(asyncio.wait(futures))\n",
    "loop.close()"
   ]
  },
  {
   "cell_type": "markdown",
   "metadata": {},
   "source": [
    "Товарная единица - ивент\n",
    "\n",
    "Нужно определить - \n",
    " - [ ] категория\n",
    " - [x] стоимость \n",
    " - [x] геопозиция\n",
    " - [x] дата\n",
    " - [x] длительность\n",
    " - [x] количество людей\n",
    " - [ ] список услуг (недоступно)\n",
    " - [x] кто проводит\n",
    " - [x] сайт"
   ]
  },
  {
   "cell_type": "markdown",
   "metadata": {
    "pycharm": {
     "name": "#%% md\n"
    }
   },
   "source": [
    "# BookYogaRetreats"
   ]
  },
  {
   "cell_type": "code",
   "execution_count": 177,
   "metadata": {
    "pycharm": {
     "name": "#%%\n"
    }
   },
   "outputs": [
    {
     "name": "stdout",
     "output_type": "stream",
     "text": [
      "https://www.bookyogaretreats.com/?page=1\n"
     ]
    }
   ],
   "source": [
    "page=1\n",
    "base_url='www.bookyogaretreats.com'\n",
    "url = f'https://{base_url}/?page={page}'\n",
    "print(url)\n",
    "r = requests.get(url)\n",
    "response = r.text.encode('utf-8')\n",
    "\n",
    "soup = BeautifulSoup(response)\n",
    "text = soup.findAll('a', {'class': 'js-showcard-link'},href=True)\n",
    "card_urls=[]\n",
    "for t in text:\n",
    "    card_urls.append(t['href'])\n",
    "# data=data.append({'date': date, 'sign': sign, 'text': text}, ignore_index=True)\n",
    "# data.to_csv('data.csv', encoding = 'utf-8')\n",
    "# print('saved date=', date, ' sign=', sign)"
   ]
  },
  {
   "cell_type": "code",
   "execution_count": 178,
   "metadata": {},
   "outputs": [
    {
     "data": {
      "text/plain": [
       "['/luxury-executive-wellness/6-day-luxury-wellness-yoga-retreat-in-santa-barbara-florida',\n",
       " '/luxury-executive-wellness/6-day-holistic-wellness-retreat-in-clearwater-beach-florida',\n",
       " '/enliven-retreats/5-day-flourishing-in-uncertain-times-wellness-retreat-in-vermont',\n",
       " '/divinitree-yoga/8-day-ayurvedic-alchemy-cleanse-waterfall-and-beach-journeys-and-yoga-holiday-in-maui-hawaii',\n",
       " '/ccs-hideaway/8-day-phuket-sandbox-all-inclusive-yoga-holiday-in-karon',\n",
       " '/himalayan-yoga-association/6-day-relaxing-and-rejuvenating-yoga-retreat-in-rishikesh-india',\n",
       " '/fykiada-retreats/6-day-luxury-ashtanga-yoga-retreat-with-laruga-glaser-and-david-fredriksson-in-mykonos',\n",
       " '/vivir-by-v-/3-day-wellness-revive-yoga-and-fitness-holiday-in-vejer-de-la-frontera',\n",
       " '/peace-retreat-costa-rica/5-days-adventure-and-yoga-retreat-in-costa-rica',\n",
       " '/peace-retreat-costa-rica/5-day-rejuvenating-body-at-peace-yoga-wellness-retreat-in-los-pargos-guanacaste',\n",
       " '/beyond-yoga-retreat/8-day-all-inclusive-yoga-massage-meditation-and-hiking-retreat-in-puerto-vallarta-mexico',\n",
       " '/mudra-retreats/5-day-yoga-retreat-in-tulum-discovering-the-magical-sacred-mayan-cenotes']"
      ]
     },
     "execution_count": 178,
     "metadata": {},
     "output_type": "execute_result"
    }
   ],
   "source": [
    "card_urls"
   ]
  },
  {
   "cell_type": "code",
   "execution_count": 310,
   "metadata": {},
   "outputs": [
    {
     "name": "stdout",
     "output_type": "stream",
     "text": [
      "https://www.bookyogaretreats.com/yoga-weeks/6-day-urban-yoga-retreat-in-barcelona-catalonia\n"
     ]
    }
   ],
   "source": [
    "page=1\n",
    "base_url='www.bookyogaretreats.com'\n",
    "url = f'https://{base_url}{card_urls[5]}'\n",
    "url='https://www.bookyogaretreats.com/yoga-weeks/6-day-urban-yoga-retreat-in-barcelona-catalonia'\n",
    "print(url)\n",
    "r = requests.get(url)\n",
    "response = r.text.encode('utf-8')\n",
    "\n",
    "soup = BeautifulSoup(response,'html.parser')\n",
    "text = soup.findAll('a', {'class': 'js-showcard-link'})"
   ]
  },
  {
   "cell_type": "code",
   "execution_count": 235,
   "metadata": {},
   "outputs": [],
   "source": [
    "# soup"
   ]
  },
  {
   "cell_type": "code",
   "execution_count": 233,
   "metadata": {},
   "outputs": [
    {
     "data": {
      "text/plain": [
       "\"\\n\\n\\n\\n\\n\\nOops! 404 Page Not Found\\nWe can’t find the page you're looking for, but we can help you find an unforgettable holiday!\\n\\n\\nWe can help you find your way via our customer service pageOr, you can locate a specific page via our site map\\n\\n\\nGo back\\nGo to homepage\\n\\n\\nCopyright © 2022 \\nAll rights reserved.\\nMade with love by\\nTripaneer.\\n\""
      ]
     },
     "execution_count": 233,
     "metadata": {},
     "output_type": "execute_result"
    }
   ],
   "source": [
    "soup.findAll('div', {'id': 'error-page'})[0].text"
   ]
  },
  {
   "cell_type": "code",
   "execution_count": 237,
   "metadata": {},
   "outputs": [
    {
     "data": {
      "text/plain": [
       "[]"
      ]
     },
     "execution_count": 237,
     "metadata": {},
     "output_type": "execute_result"
    }
   ],
   "source": [
    "soup.findAll('div', {'id': 'error-page'})"
   ]
  },
  {
   "cell_type": "markdown",
   "metadata": {},
   "source": [
    "# Completed\n"
   ]
  },
  {
   "cell_type": "code",
   "execution_count": 311,
   "metadata": {},
   "outputs": [
    {
     "data": {
      "text/plain": [
       "'6'"
      ]
     },
     "execution_count": 311,
     "metadata": {},
     "output_type": "execute_result"
    }
   ],
   "source": [
    "duration=soup.findAll('div', {'class': 'subtitle-small listing-query-box__duration js-sc3-inquiry-modal-duration js-insert-duration'})[0].text\n",
    "duration=duration.replace('\\n','').split(' ')[0]\n",
    "duration"
   ]
  },
  {
   "cell_type": "code",
   "execution_count": 312,
   "metadata": {},
   "outputs": [
    {
     "data": {
      "text/plain": [
       "'6 Day Urban Yoga Retreat in Barcelona, Catalonia'"
      ]
     },
     "execution_count": 312,
     "metadata": {},
     "output_type": "execute_result"
    }
   ],
   "source": [
    "title=soup.findAll('h1', {'class': 'listing-title__title title listing-title-new'})[0].text\n",
    "title"
   ]
  },
  {
   "cell_type": "code",
   "execution_count": 313,
   "metadata": {},
   "outputs": [
    {
     "name": "stdout",
     "output_type": "stream",
     "text": [
      "None\n"
     ]
    }
   ],
   "source": [
    "arrival=soup.findAll('span', {'class': 'js-sc1-inquiry-modal-arrival'})\n",
    "if len(arrival)!=0:\n",
    "    arrival=arrival[0].text\n",
    "else:\n",
    "    arrival=None\n",
    "    \n",
    "print(arrival)"
   ]
  },
  {
   "cell_type": "code",
   "execution_count": 314,
   "metadata": {},
   "outputs": [
    {
     "name": "stdout",
     "output_type": "stream",
     "text": [
      "None\n"
     ]
    }
   ],
   "source": [
    "departure=soup.findAll('span', {'class': 'js-sc1-inquiry-modal-departure'})\n",
    "if len(departure)!=0:\n",
    "    departure=departure[0].text\n",
    "else:\n",
    "    departure=None\n",
    "    \n",
    "print(departure)"
   ]
  },
  {
   "cell_type": "code",
   "execution_count": 315,
   "metadata": {},
   "outputs": [
    {
     "data": {
      "text/plain": [
       "'Yoga Weeks'"
      ]
     },
     "execution_count": 315,
     "metadata": {},
     "output_type": "execute_result"
    }
   ],
   "source": [
    "organizer=soup.findAll('div', {'class': 'listing-organizer-card__content'})[0].text[20:].split('\\n')[0]\n",
    "organizer"
   ]
  },
  {
   "cell_type": "code",
   "execution_count": 316,
   "metadata": {},
   "outputs": [
    {
     "data": {
      "text/plain": [
       "'6'"
      ]
     },
     "execution_count": 316,
     "metadata": {},
     "output_type": "execute_result"
    }
   ],
   "source": [
    "arr=soup.findAll('div', {'class': 'listing-overview__notes'})[0].text.split('\\n')\n",
    "arr=[ a for a in arr if a!='']\n",
    "duration=arr[0].split(' ')[0]\n",
    "duration"
   ]
  },
  {
   "cell_type": "code",
   "execution_count": 317,
   "metadata": {},
   "outputs": [
    {
     "name": "stdout",
     "output_type": "stream",
     "text": [
      "Call Carme 40, Pral 2, 08001, Barcelona, Spain\n"
     ]
    }
   ],
   "source": [
    "location=soup.findAll('div', {'class': 'listing-title__location listing-location-new'})\n",
    "if len(location[0])!=0:\n",
    "    location=location[0].text\n",
    "else:\n",
    "    location=None\n",
    "\n",
    "print(location)"
   ]
  },
  {
   "cell_type": "code",
   "execution_count": 318,
   "metadata": {},
   "outputs": [
    {
     "name": "stdout",
     "output_type": "stream",
     "text": [
      "['6 days with instruction in\\xa0English', 'The organizer also speaks:\\xa0French, German, Spanish', 'Group size: Maximum of 10 participants']\n",
      "10\n"
     ]
    }
   ],
   "source": [
    "arr=soup.findAll('div', {'class': 'listing-overview__notes'})[0].text.split('\\n')\n",
    "arr=[ a for a in arr if a!='']\n",
    "group_size=[a for a in arr if 'Group' in a]\n",
    "\n",
    "if len(group_size)!=0:\n",
    "    if len(group_size[0].split(' '))==6:\n",
    "         group_size=group_size[0].split(' ')[4]\n",
    "    elif len(group_size[0].split(' '))==4:\n",
    "        group_size=group_size[0].split(' ')[2]\n",
    "else:\n",
    "    group_size=None\n",
    "\n",
    "print(arr)\n",
    "print(group_size)"
   ]
  },
  {
   "cell_type": "code",
   "execution_count": null,
   "metadata": {},
   "outputs": [],
   "source": [
    "driver = webdriver.Firefox(executable_path= r\"D:\\загрузки\\geckodriver-v0.30.0-win64\\geckodriver.exe\")"
   ]
  },
  {
   "cell_type": "code",
   "execution_count": 252,
   "metadata": {},
   "outputs": [
    {
     "name": "stderr",
     "output_type": "stream",
     "text": [
      "<ipython-input-252-a47f4b609ba8>:2: DeprecationWarning: find_elements_by_* commands are deprecated. Please use find_elements() instead\n",
      "  driver.find_elements_by_class_name('price')[0].text.split(' ')[1]\n"
     ]
    },
    {
     "data": {
      "text/plain": [
       "'97'"
      ]
     },
     "execution_count": 252,
     "metadata": {},
     "output_type": "execute_result"
    }
   ],
   "source": [
    "driver.get(url)\n",
    "driver.find_elements_by_class_name('price')[0].text.split(' ')[1]"
   ]
  },
  {
   "cell_type": "code",
   "execution_count": 300,
   "metadata": {},
   "outputs": [],
   "source": [
    "#main page\n",
    "\n",
    "main_page_url='https://www.bookyogaretreats.com'\n",
    "r = requests.get(main_page_url)\n",
    "response = r.text.encode('utf-8')\n",
    "\n",
    "soup = BeautifulSoup(response)\n",
    "\n",
    "categories_raw=soup.findAll('li', {'class': 'fakeCheck'})\n",
    "categories_raw=[' '.join(category.text.replace('\\n','').split(' ')[:-1]) for category in categories_raw][12:-4]\n",
    "categories=[]\n",
    "\n",
    "for i,category in enumerate(categories_raw):\n",
    "        if 'level' in category.lower():\n",
    "            categories.append(category.split(' ')[1])\n",
    "        else:\n",
    "            categories.append(category)\n",
    "\n",
    "# categories"
   ]
  },
  {
   "cell_type": "code",
   "execution_count": 238,
   "metadata": {},
   "outputs": [
    {
     "data": {
      "text/plain": [
       "[]"
      ]
     },
     "execution_count": 238,
     "metadata": {},
     "output_type": "execute_result"
    }
   ],
   "source": [
    "soup.findAll('div', {'id': 'error-page'})"
   ]
  },
  {
   "cell_type": "markdown",
   "metadata": {},
   "source": [
    "# Pipeline"
   ]
  },
  {
   "cell_type": "code",
   "execution_count": 257,
   "metadata": {},
   "outputs": [],
   "source": [
    "'https://www.bookyogaretreats.com/sr?c=budget-retreats&page=1'"
   ]
  },
  {
   "cell_type": "code",
   "execution_count": 299,
   "metadata": {},
   "outputs": [
    {
     "name": "stdout",
     "output_type": "stream",
     "text": [
      "NEW Category Page  https://www.bookyogaretreats.com/sr?c=budget-retreats&page=200 \n",
      "----------------------\n",
      "####ERROR####\n",
      "NEW Category Page  https://www.bookyogaretreats.com/sr?c=luxury-holidays&page=200 \n",
      "----------------------\n",
      "####ERROR####\n",
      "NEW Category Page  https://www.bookyogaretreats.com/sr?c=all-inclusive-yoga-retreats&page=200 \n",
      "----------------------\n",
      "####ERROR####\n",
      "NEW Category Page  https://www.bookyogaretreats.com/sr?c=advanced&page=200 \n",
      "----------------------\n",
      "####ERROR####\n",
      "NEW Category Page  https://www.bookyogaretreats.com/sr?c=beginner&page=200 \n",
      "----------------------\n",
      "category beginner, url https://www.bookyogaretreats.com/oh-my-yoga-montpellier/15-jours-en-vacances-de-trek-et-yoga-sur-l-altiplano-en-bolivie\n",
      "category beginner, url https://www.bookyogaretreats.com/vawanda-1/3-jours-en-week-end-de-yoga-kundalini-meditation-et-ayurveda-en-ardeche\n",
      "category beginner, url https://www.bookyogaretreats.com/tantra-valencia/4-dias-de-retiro-de-yoga-y-tantra-relaciones-autenticas-en-almeria-andalucia\n",
      "category beginner, url https://www.bookyogaretreats.com/moksha-1/4-jours-en-stage-de-yoga-et-ayurveda-dans-le-luxembourg-belge\n",
      "category beginner, url https://www.bookyogaretreats.com/semelles-au-vent/6-jours-en-stage-de-yoga-jeune-et-randonnees-a-lavergne-lot-et-garonne\n",
      "category beginner, url https://www.bookyogaretreats.com/ginkgoyogastudio/3-jours-en-week-end-en-stage-de-yoga-et-detox-digitale-a-saint-pierre-les-etieux-centre\n",
      "category beginner, url https://www.bookyogaretreats.com/clarity-process-austria/10-tage-clarity-retreat-mit-yoga-meditation-und-achtsamkeit-in-der-villa-istra-opatija\n",
      "category beginner, url https://www.bookyogaretreats.com/sat-atma/8-jours-en-stage-de-yoga-meditation-marches-et-jeune-a-saint-martial-cevennes\n",
      "category beginner, url https://www.bookyogaretreats.com/les-terrasses-du-lac/7-jours-en-stage-de-yoga-randonnees-et-cours-de-cuisine-vegetarienne-au-lac-de-naussac-lozere\n",
      "category beginner, url https://www.bookyogaretreats.com/mind-body-flow-retreats/12-tage-luxus-coaching-yoga-retreat-in-exklusiver-villa-direkt-am-meer-auf-kreta\n",
      "category beginner, url https://www.bookyogaretreats.com/das-alpenhaus-gasteinertal/3-tage-yoga-motion-retreat-mit-sandra-konig-in-bad-hofgastein-land-salzburg\n",
      "category beginner, url https://www.bookyogaretreats.com/so-ham-yoga-terapeutico-y-ayurveda-1/3-dias-de-retiro-para-liberar-tu-mente-con-yoga-y-meditacion-en-la-naturaleza-de-sant-ferriol\n",
      "NEW Category Page  https://www.bookyogaretreats.com/sr?c=beginner&page=201 \n",
      "----------------------\n",
      "category beginner, url https://www.bookyogaretreats.com/california-fitness-centar/8-tage-yoga-urlaub-nur-fur-yogalehrer-in-makarska\n",
      "category beginner, url https://www.bookyogaretreats.com/lola-angual-yoga/retraite-coeur-magique\n",
      "category beginner, url https://www.bookyogaretreats.com/das-alpenhaus-gasteinertal/4-tage-yoga-aufbaukurs-mit-theorie-retreat-mit-steffi-in-bad-hofgastein-land-salzburg\n",
      "category beginner, url https://www.bookyogaretreats.com/so-ham-yoga-terapeutico-y-ayurveda-1/3-dias-de-retiro-para-parar-y-respirar-con-yoga-relajacion-y-naturaleza-en-sant-ferriol\n",
      "category beginner, url https://www.bookyogaretreats.com/academy-am-meer/trommeln-und-lachyoga-direkt-am-meer-auf-teneriffa\n",
      "category beginner, url https://www.bookyogaretreats.com/m-yoga/4-jours-en-stage-de-yoga-et-bains-sonores-en-normandie\n",
      "category beginner, url https://www.bookyogaretreats.com/om-yoga-nature/5-tage-yoga-natur-und-waldkrafttage-retreat-im-thuringer-wald\n",
      "category beginner, url https://www.bookyogaretreats.com/le-jardin-de-sophia/6-jours-en-stage-de-yoga-guerison-et-d-evolution-personnelle-dans-les-pyrenees\n",
      "category beginner, url https://www.bookyogaretreats.com/vitality-concept/3-jours-en-week-end-de-yoga-sport-nutrition-et-developpement-personnel-a-cotignac\n",
      "category beginner, url https://www.bookyogaretreats.com/so-ham-yoga-terapeutico-y-ayurveda-1/3-dias-de-descanso-con-yoga-y-naturaleza-para-conectar-contigo-mismo-en-sant-ferriol\n",
      "category beginner, url https://www.bookyogaretreats.com/arrow-yoga/4-dias-de-retiro-holistico-equinoccio-con-yoga-en-tepoztlan\n"
     ]
    },
    {
     "ename": "KeyboardInterrupt",
     "evalue": "",
     "output_type": "error",
     "traceback": [
      "\u001b[1;31m---------------------------------------------------------------------------\u001b[0m",
      "\u001b[1;31mKeyboardInterrupt\u001b[0m                         Traceback (most recent call last)",
      "\u001b[1;32m<ipython-input-299-dfae94a6273e>\u001b[0m in \u001b[0;36m<module>\u001b[1;34m\u001b[0m\n\u001b[0;32m     46\u001b[0m             \u001b[0murl\u001b[0m \u001b[1;33m=\u001b[0m \u001b[1;34mf'{main_page_url}{card_url}'\u001b[0m\u001b[1;33m\u001b[0m\u001b[1;33m\u001b[0m\u001b[0m\n\u001b[0;32m     47\u001b[0m             \u001b[0mprint\u001b[0m\u001b[1;33m(\u001b[0m\u001b[1;34mf'category {cat}, url {url}'\u001b[0m\u001b[1;33m)\u001b[0m\u001b[1;33m\u001b[0m\u001b[1;33m\u001b[0m\u001b[0m\n\u001b[1;32m---> 48\u001b[1;33m             \u001b[0mr\u001b[0m \u001b[1;33m=\u001b[0m \u001b[0mrequests\u001b[0m\u001b[1;33m.\u001b[0m\u001b[0mget\u001b[0m\u001b[1;33m(\u001b[0m\u001b[0murl\u001b[0m\u001b[1;33m)\u001b[0m\u001b[1;33m\u001b[0m\u001b[1;33m\u001b[0m\u001b[0m\n\u001b[0m\u001b[0;32m     49\u001b[0m             \u001b[0mresponse\u001b[0m \u001b[1;33m=\u001b[0m \u001b[0mr\u001b[0m\u001b[1;33m.\u001b[0m\u001b[0mtext\u001b[0m\u001b[1;33m.\u001b[0m\u001b[0mencode\u001b[0m\u001b[1;33m(\u001b[0m\u001b[1;34m'utf-8'\u001b[0m\u001b[1;33m)\u001b[0m\u001b[1;33m\u001b[0m\u001b[1;33m\u001b[0m\u001b[0m\n\u001b[0;32m     50\u001b[0m             \u001b[0msoup\u001b[0m \u001b[1;33m=\u001b[0m \u001b[0mBeautifulSoup\u001b[0m\u001b[1;33m(\u001b[0m\u001b[0mresponse\u001b[0m\u001b[1;33m,\u001b[0m\u001b[1;34m'html.parser'\u001b[0m\u001b[1;33m)\u001b[0m\u001b[1;33m\u001b[0m\u001b[1;33m\u001b[0m\u001b[0m\n",
      "\u001b[1;32mC:\\Anaconda\\envs\\torch\\lib\\site-packages\\requests\\api.py\u001b[0m in \u001b[0;36mget\u001b[1;34m(url, params, **kwargs)\u001b[0m\n\u001b[0;32m     73\u001b[0m     \"\"\"\n\u001b[0;32m     74\u001b[0m \u001b[1;33m\u001b[0m\u001b[0m\n\u001b[1;32m---> 75\u001b[1;33m     \u001b[1;32mreturn\u001b[0m \u001b[0mrequest\u001b[0m\u001b[1;33m(\u001b[0m\u001b[1;34m'get'\u001b[0m\u001b[1;33m,\u001b[0m \u001b[0murl\u001b[0m\u001b[1;33m,\u001b[0m \u001b[0mparams\u001b[0m\u001b[1;33m=\u001b[0m\u001b[0mparams\u001b[0m\u001b[1;33m,\u001b[0m \u001b[1;33m**\u001b[0m\u001b[0mkwargs\u001b[0m\u001b[1;33m)\u001b[0m\u001b[1;33m\u001b[0m\u001b[1;33m\u001b[0m\u001b[0m\n\u001b[0m\u001b[0;32m     76\u001b[0m \u001b[1;33m\u001b[0m\u001b[0m\n\u001b[0;32m     77\u001b[0m \u001b[1;33m\u001b[0m\u001b[0m\n",
      "\u001b[1;32mC:\\Anaconda\\envs\\torch\\lib\\site-packages\\requests\\api.py\u001b[0m in \u001b[0;36mrequest\u001b[1;34m(method, url, **kwargs)\u001b[0m\n\u001b[0;32m     59\u001b[0m     \u001b[1;31m# cases, and look like a memory leak in others.\u001b[0m\u001b[1;33m\u001b[0m\u001b[1;33m\u001b[0m\u001b[1;33m\u001b[0m\u001b[0m\n\u001b[0;32m     60\u001b[0m     \u001b[1;32mwith\u001b[0m \u001b[0msessions\u001b[0m\u001b[1;33m.\u001b[0m\u001b[0mSession\u001b[0m\u001b[1;33m(\u001b[0m\u001b[1;33m)\u001b[0m \u001b[1;32mas\u001b[0m \u001b[0msession\u001b[0m\u001b[1;33m:\u001b[0m\u001b[1;33m\u001b[0m\u001b[1;33m\u001b[0m\u001b[0m\n\u001b[1;32m---> 61\u001b[1;33m         \u001b[1;32mreturn\u001b[0m \u001b[0msession\u001b[0m\u001b[1;33m.\u001b[0m\u001b[0mrequest\u001b[0m\u001b[1;33m(\u001b[0m\u001b[0mmethod\u001b[0m\u001b[1;33m=\u001b[0m\u001b[0mmethod\u001b[0m\u001b[1;33m,\u001b[0m \u001b[0murl\u001b[0m\u001b[1;33m=\u001b[0m\u001b[0murl\u001b[0m\u001b[1;33m,\u001b[0m \u001b[1;33m**\u001b[0m\u001b[0mkwargs\u001b[0m\u001b[1;33m)\u001b[0m\u001b[1;33m\u001b[0m\u001b[1;33m\u001b[0m\u001b[0m\n\u001b[0m\u001b[0;32m     62\u001b[0m \u001b[1;33m\u001b[0m\u001b[0m\n\u001b[0;32m     63\u001b[0m \u001b[1;33m\u001b[0m\u001b[0m\n",
      "\u001b[1;32mC:\\Anaconda\\envs\\torch\\lib\\site-packages\\requests\\sessions.py\u001b[0m in \u001b[0;36mrequest\u001b[1;34m(self, method, url, params, data, headers, cookies, files, auth, timeout, allow_redirects, proxies, hooks, stream, verify, cert, json)\u001b[0m\n\u001b[0;32m    527\u001b[0m         }\n\u001b[0;32m    528\u001b[0m         \u001b[0msend_kwargs\u001b[0m\u001b[1;33m.\u001b[0m\u001b[0mupdate\u001b[0m\u001b[1;33m(\u001b[0m\u001b[0msettings\u001b[0m\u001b[1;33m)\u001b[0m\u001b[1;33m\u001b[0m\u001b[1;33m\u001b[0m\u001b[0m\n\u001b[1;32m--> 529\u001b[1;33m         \u001b[0mresp\u001b[0m \u001b[1;33m=\u001b[0m \u001b[0mself\u001b[0m\u001b[1;33m.\u001b[0m\u001b[0msend\u001b[0m\u001b[1;33m(\u001b[0m\u001b[0mprep\u001b[0m\u001b[1;33m,\u001b[0m \u001b[1;33m**\u001b[0m\u001b[0msend_kwargs\u001b[0m\u001b[1;33m)\u001b[0m\u001b[1;33m\u001b[0m\u001b[1;33m\u001b[0m\u001b[0m\n\u001b[0m\u001b[0;32m    530\u001b[0m \u001b[1;33m\u001b[0m\u001b[0m\n\u001b[0;32m    531\u001b[0m         \u001b[1;32mreturn\u001b[0m \u001b[0mresp\u001b[0m\u001b[1;33m\u001b[0m\u001b[1;33m\u001b[0m\u001b[0m\n",
      "\u001b[1;32mC:\\Anaconda\\envs\\torch\\lib\\site-packages\\requests\\sessions.py\u001b[0m in \u001b[0;36msend\u001b[1;34m(self, request, **kwargs)\u001b[0m\n\u001b[0;32m    685\u001b[0m \u001b[1;33m\u001b[0m\u001b[0m\n\u001b[0;32m    686\u001b[0m         \u001b[1;32mif\u001b[0m \u001b[1;32mnot\u001b[0m \u001b[0mstream\u001b[0m\u001b[1;33m:\u001b[0m\u001b[1;33m\u001b[0m\u001b[1;33m\u001b[0m\u001b[0m\n\u001b[1;32m--> 687\u001b[1;33m             \u001b[0mr\u001b[0m\u001b[1;33m.\u001b[0m\u001b[0mcontent\u001b[0m\u001b[1;33m\u001b[0m\u001b[1;33m\u001b[0m\u001b[0m\n\u001b[0m\u001b[0;32m    688\u001b[0m \u001b[1;33m\u001b[0m\u001b[0m\n\u001b[0;32m    689\u001b[0m         \u001b[1;32mreturn\u001b[0m \u001b[0mr\u001b[0m\u001b[1;33m\u001b[0m\u001b[1;33m\u001b[0m\u001b[0m\n",
      "\u001b[1;32mC:\\Anaconda\\envs\\torch\\lib\\site-packages\\requests\\models.py\u001b[0m in \u001b[0;36mcontent\u001b[1;34m(self)\u001b[0m\n\u001b[0;32m    836\u001b[0m                 \u001b[0mself\u001b[0m\u001b[1;33m.\u001b[0m\u001b[0m_content\u001b[0m \u001b[1;33m=\u001b[0m \u001b[1;32mNone\u001b[0m\u001b[1;33m\u001b[0m\u001b[1;33m\u001b[0m\u001b[0m\n\u001b[0;32m    837\u001b[0m             \u001b[1;32melse\u001b[0m\u001b[1;33m:\u001b[0m\u001b[1;33m\u001b[0m\u001b[1;33m\u001b[0m\u001b[0m\n\u001b[1;32m--> 838\u001b[1;33m                 \u001b[0mself\u001b[0m\u001b[1;33m.\u001b[0m\u001b[0m_content\u001b[0m \u001b[1;33m=\u001b[0m \u001b[1;34mb''\u001b[0m\u001b[1;33m.\u001b[0m\u001b[0mjoin\u001b[0m\u001b[1;33m(\u001b[0m\u001b[0mself\u001b[0m\u001b[1;33m.\u001b[0m\u001b[0miter_content\u001b[0m\u001b[1;33m(\u001b[0m\u001b[0mCONTENT_CHUNK_SIZE\u001b[0m\u001b[1;33m)\u001b[0m\u001b[1;33m)\u001b[0m \u001b[1;32mor\u001b[0m \u001b[1;34mb''\u001b[0m\u001b[1;33m\u001b[0m\u001b[1;33m\u001b[0m\u001b[0m\n\u001b[0m\u001b[0;32m    839\u001b[0m \u001b[1;33m\u001b[0m\u001b[0m\n\u001b[0;32m    840\u001b[0m         \u001b[0mself\u001b[0m\u001b[1;33m.\u001b[0m\u001b[0m_content_consumed\u001b[0m \u001b[1;33m=\u001b[0m \u001b[1;32mTrue\u001b[0m\u001b[1;33m\u001b[0m\u001b[1;33m\u001b[0m\u001b[0m\n",
      "\u001b[1;32mC:\\Anaconda\\envs\\torch\\lib\\site-packages\\requests\\models.py\u001b[0m in \u001b[0;36mgenerate\u001b[1;34m()\u001b[0m\n\u001b[0;32m    758\u001b[0m             \u001b[1;32mif\u001b[0m \u001b[0mhasattr\u001b[0m\u001b[1;33m(\u001b[0m\u001b[0mself\u001b[0m\u001b[1;33m.\u001b[0m\u001b[0mraw\u001b[0m\u001b[1;33m,\u001b[0m \u001b[1;34m'stream'\u001b[0m\u001b[1;33m)\u001b[0m\u001b[1;33m:\u001b[0m\u001b[1;33m\u001b[0m\u001b[1;33m\u001b[0m\u001b[0m\n\u001b[0;32m    759\u001b[0m                 \u001b[1;32mtry\u001b[0m\u001b[1;33m:\u001b[0m\u001b[1;33m\u001b[0m\u001b[1;33m\u001b[0m\u001b[0m\n\u001b[1;32m--> 760\u001b[1;33m                     \u001b[1;32mfor\u001b[0m \u001b[0mchunk\u001b[0m \u001b[1;32min\u001b[0m \u001b[0mself\u001b[0m\u001b[1;33m.\u001b[0m\u001b[0mraw\u001b[0m\u001b[1;33m.\u001b[0m\u001b[0mstream\u001b[0m\u001b[1;33m(\u001b[0m\u001b[0mchunk_size\u001b[0m\u001b[1;33m,\u001b[0m \u001b[0mdecode_content\u001b[0m\u001b[1;33m=\u001b[0m\u001b[1;32mTrue\u001b[0m\u001b[1;33m)\u001b[0m\u001b[1;33m:\u001b[0m\u001b[1;33m\u001b[0m\u001b[1;33m\u001b[0m\u001b[0m\n\u001b[0m\u001b[0;32m    761\u001b[0m                         \u001b[1;32myield\u001b[0m \u001b[0mchunk\u001b[0m\u001b[1;33m\u001b[0m\u001b[1;33m\u001b[0m\u001b[0m\n\u001b[0;32m    762\u001b[0m                 \u001b[1;32mexcept\u001b[0m \u001b[0mProtocolError\u001b[0m \u001b[1;32mas\u001b[0m \u001b[0me\u001b[0m\u001b[1;33m:\u001b[0m\u001b[1;33m\u001b[0m\u001b[1;33m\u001b[0m\u001b[0m\n",
      "\u001b[1;32mC:\\Anaconda\\envs\\torch\\lib\\site-packages\\urllib3\\response.py\u001b[0m in \u001b[0;36mstream\u001b[1;34m(self, amt, decode_content)\u001b[0m\n\u001b[0;32m    570\u001b[0m         \"\"\"\n\u001b[0;32m    571\u001b[0m         \u001b[1;32mif\u001b[0m \u001b[0mself\u001b[0m\u001b[1;33m.\u001b[0m\u001b[0mchunked\u001b[0m \u001b[1;32mand\u001b[0m \u001b[0mself\u001b[0m\u001b[1;33m.\u001b[0m\u001b[0msupports_chunked_reads\u001b[0m\u001b[1;33m(\u001b[0m\u001b[1;33m)\u001b[0m\u001b[1;33m:\u001b[0m\u001b[1;33m\u001b[0m\u001b[1;33m\u001b[0m\u001b[0m\n\u001b[1;32m--> 572\u001b[1;33m             \u001b[1;32mfor\u001b[0m \u001b[0mline\u001b[0m \u001b[1;32min\u001b[0m \u001b[0mself\u001b[0m\u001b[1;33m.\u001b[0m\u001b[0mread_chunked\u001b[0m\u001b[1;33m(\u001b[0m\u001b[0mamt\u001b[0m\u001b[1;33m,\u001b[0m \u001b[0mdecode_content\u001b[0m\u001b[1;33m=\u001b[0m\u001b[0mdecode_content\u001b[0m\u001b[1;33m)\u001b[0m\u001b[1;33m:\u001b[0m\u001b[1;33m\u001b[0m\u001b[1;33m\u001b[0m\u001b[0m\n\u001b[0m\u001b[0;32m    573\u001b[0m                 \u001b[1;32myield\u001b[0m \u001b[0mline\u001b[0m\u001b[1;33m\u001b[0m\u001b[1;33m\u001b[0m\u001b[0m\n\u001b[0;32m    574\u001b[0m         \u001b[1;32melse\u001b[0m\u001b[1;33m:\u001b[0m\u001b[1;33m\u001b[0m\u001b[1;33m\u001b[0m\u001b[0m\n",
      "\u001b[1;32mC:\\Anaconda\\envs\\torch\\lib\\site-packages\\urllib3\\response.py\u001b[0m in \u001b[0;36mread_chunked\u001b[1;34m(self, amt, decode_content)\u001b[0m\n\u001b[0;32m    762\u001b[0m \u001b[1;33m\u001b[0m\u001b[0m\n\u001b[0;32m    763\u001b[0m             \u001b[1;32mwhile\u001b[0m \u001b[1;32mTrue\u001b[0m\u001b[1;33m:\u001b[0m\u001b[1;33m\u001b[0m\u001b[1;33m\u001b[0m\u001b[0m\n\u001b[1;32m--> 764\u001b[1;33m                 \u001b[0mself\u001b[0m\u001b[1;33m.\u001b[0m\u001b[0m_update_chunk_length\u001b[0m\u001b[1;33m(\u001b[0m\u001b[1;33m)\u001b[0m\u001b[1;33m\u001b[0m\u001b[1;33m\u001b[0m\u001b[0m\n\u001b[0m\u001b[0;32m    765\u001b[0m                 \u001b[1;32mif\u001b[0m \u001b[0mself\u001b[0m\u001b[1;33m.\u001b[0m\u001b[0mchunk_left\u001b[0m \u001b[1;33m==\u001b[0m \u001b[1;36m0\u001b[0m\u001b[1;33m:\u001b[0m\u001b[1;33m\u001b[0m\u001b[1;33m\u001b[0m\u001b[0m\n\u001b[0;32m    766\u001b[0m                     \u001b[1;32mbreak\u001b[0m\u001b[1;33m\u001b[0m\u001b[1;33m\u001b[0m\u001b[0m\n",
      "\u001b[1;32mC:\\Anaconda\\envs\\torch\\lib\\site-packages\\urllib3\\response.py\u001b[0m in \u001b[0;36m_update_chunk_length\u001b[1;34m(self)\u001b[0m\n\u001b[0;32m    692\u001b[0m         \u001b[1;32mif\u001b[0m \u001b[0mself\u001b[0m\u001b[1;33m.\u001b[0m\u001b[0mchunk_left\u001b[0m \u001b[1;32mis\u001b[0m \u001b[1;32mnot\u001b[0m \u001b[1;32mNone\u001b[0m\u001b[1;33m:\u001b[0m\u001b[1;33m\u001b[0m\u001b[1;33m\u001b[0m\u001b[0m\n\u001b[0;32m    693\u001b[0m             \u001b[1;32mreturn\u001b[0m\u001b[1;33m\u001b[0m\u001b[1;33m\u001b[0m\u001b[0m\n\u001b[1;32m--> 694\u001b[1;33m         \u001b[0mline\u001b[0m \u001b[1;33m=\u001b[0m \u001b[0mself\u001b[0m\u001b[1;33m.\u001b[0m\u001b[0m_fp\u001b[0m\u001b[1;33m.\u001b[0m\u001b[0mfp\u001b[0m\u001b[1;33m.\u001b[0m\u001b[0mreadline\u001b[0m\u001b[1;33m(\u001b[0m\u001b[1;33m)\u001b[0m\u001b[1;33m\u001b[0m\u001b[1;33m\u001b[0m\u001b[0m\n\u001b[0m\u001b[0;32m    695\u001b[0m         \u001b[0mline\u001b[0m \u001b[1;33m=\u001b[0m \u001b[0mline\u001b[0m\u001b[1;33m.\u001b[0m\u001b[0msplit\u001b[0m\u001b[1;33m(\u001b[0m\u001b[1;34mb\";\"\u001b[0m\u001b[1;33m,\u001b[0m \u001b[1;36m1\u001b[0m\u001b[1;33m)\u001b[0m\u001b[1;33m[\u001b[0m\u001b[1;36m0\u001b[0m\u001b[1;33m]\u001b[0m\u001b[1;33m\u001b[0m\u001b[1;33m\u001b[0m\u001b[0m\n\u001b[0;32m    696\u001b[0m         \u001b[1;32mtry\u001b[0m\u001b[1;33m:\u001b[0m\u001b[1;33m\u001b[0m\u001b[1;33m\u001b[0m\u001b[0m\n",
      "\u001b[1;32mC:\\Anaconda\\envs\\torch\\lib\\socket.py\u001b[0m in \u001b[0;36mreadinto\u001b[1;34m(self, b)\u001b[0m\n\u001b[0;32m    667\u001b[0m         \u001b[1;32mwhile\u001b[0m \u001b[1;32mTrue\u001b[0m\u001b[1;33m:\u001b[0m\u001b[1;33m\u001b[0m\u001b[1;33m\u001b[0m\u001b[0m\n\u001b[0;32m    668\u001b[0m             \u001b[1;32mtry\u001b[0m\u001b[1;33m:\u001b[0m\u001b[1;33m\u001b[0m\u001b[1;33m\u001b[0m\u001b[0m\n\u001b[1;32m--> 669\u001b[1;33m                 \u001b[1;32mreturn\u001b[0m \u001b[0mself\u001b[0m\u001b[1;33m.\u001b[0m\u001b[0m_sock\u001b[0m\u001b[1;33m.\u001b[0m\u001b[0mrecv_into\u001b[0m\u001b[1;33m(\u001b[0m\u001b[0mb\u001b[0m\u001b[1;33m)\u001b[0m\u001b[1;33m\u001b[0m\u001b[1;33m\u001b[0m\u001b[0m\n\u001b[0m\u001b[0;32m    670\u001b[0m             \u001b[1;32mexcept\u001b[0m \u001b[0mtimeout\u001b[0m\u001b[1;33m:\u001b[0m\u001b[1;33m\u001b[0m\u001b[1;33m\u001b[0m\u001b[0m\n\u001b[0;32m    671\u001b[0m                 \u001b[0mself\u001b[0m\u001b[1;33m.\u001b[0m\u001b[0m_timeout_occurred\u001b[0m \u001b[1;33m=\u001b[0m \u001b[1;32mTrue\u001b[0m\u001b[1;33m\u001b[0m\u001b[1;33m\u001b[0m\u001b[0m\n",
      "\u001b[1;32mC:\\Anaconda\\envs\\torch\\lib\\ssl.py\u001b[0m in \u001b[0;36mrecv_into\u001b[1;34m(self, buffer, nbytes, flags)\u001b[0m\n\u001b[0;32m   1239\u001b[0m                   \u001b[1;34m\"non-zero flags not allowed in calls to recv_into() on %s\"\u001b[0m \u001b[1;33m%\u001b[0m\u001b[1;33m\u001b[0m\u001b[1;33m\u001b[0m\u001b[0m\n\u001b[0;32m   1240\u001b[0m                   self.__class__)\n\u001b[1;32m-> 1241\u001b[1;33m             \u001b[1;32mreturn\u001b[0m \u001b[0mself\u001b[0m\u001b[1;33m.\u001b[0m\u001b[0mread\u001b[0m\u001b[1;33m(\u001b[0m\u001b[0mnbytes\u001b[0m\u001b[1;33m,\u001b[0m \u001b[0mbuffer\u001b[0m\u001b[1;33m)\u001b[0m\u001b[1;33m\u001b[0m\u001b[1;33m\u001b[0m\u001b[0m\n\u001b[0m\u001b[0;32m   1242\u001b[0m         \u001b[1;32melse\u001b[0m\u001b[1;33m:\u001b[0m\u001b[1;33m\u001b[0m\u001b[1;33m\u001b[0m\u001b[0m\n\u001b[0;32m   1243\u001b[0m             \u001b[1;32mreturn\u001b[0m \u001b[0msuper\u001b[0m\u001b[1;33m(\u001b[0m\u001b[1;33m)\u001b[0m\u001b[1;33m.\u001b[0m\u001b[0mrecv_into\u001b[0m\u001b[1;33m(\u001b[0m\u001b[0mbuffer\u001b[0m\u001b[1;33m,\u001b[0m \u001b[0mnbytes\u001b[0m\u001b[1;33m,\u001b[0m \u001b[0mflags\u001b[0m\u001b[1;33m)\u001b[0m\u001b[1;33m\u001b[0m\u001b[1;33m\u001b[0m\u001b[0m\n",
      "\u001b[1;32mC:\\Anaconda\\envs\\torch\\lib\\ssl.py\u001b[0m in \u001b[0;36mread\u001b[1;34m(self, len, buffer)\u001b[0m\n\u001b[0;32m   1097\u001b[0m         \u001b[1;32mtry\u001b[0m\u001b[1;33m:\u001b[0m\u001b[1;33m\u001b[0m\u001b[1;33m\u001b[0m\u001b[0m\n\u001b[0;32m   1098\u001b[0m             \u001b[1;32mif\u001b[0m \u001b[0mbuffer\u001b[0m \u001b[1;32mis\u001b[0m \u001b[1;32mnot\u001b[0m \u001b[1;32mNone\u001b[0m\u001b[1;33m:\u001b[0m\u001b[1;33m\u001b[0m\u001b[1;33m\u001b[0m\u001b[0m\n\u001b[1;32m-> 1099\u001b[1;33m                 \u001b[1;32mreturn\u001b[0m \u001b[0mself\u001b[0m\u001b[1;33m.\u001b[0m\u001b[0m_sslobj\u001b[0m\u001b[1;33m.\u001b[0m\u001b[0mread\u001b[0m\u001b[1;33m(\u001b[0m\u001b[0mlen\u001b[0m\u001b[1;33m,\u001b[0m \u001b[0mbuffer\u001b[0m\u001b[1;33m)\u001b[0m\u001b[1;33m\u001b[0m\u001b[1;33m\u001b[0m\u001b[0m\n\u001b[0m\u001b[0;32m   1100\u001b[0m             \u001b[1;32melse\u001b[0m\u001b[1;33m:\u001b[0m\u001b[1;33m\u001b[0m\u001b[1;33m\u001b[0m\u001b[0m\n\u001b[0;32m   1101\u001b[0m                 \u001b[1;32mreturn\u001b[0m \u001b[0mself\u001b[0m\u001b[1;33m.\u001b[0m\u001b[0m_sslobj\u001b[0m\u001b[1;33m.\u001b[0m\u001b[0mread\u001b[0m\u001b[1;33m(\u001b[0m\u001b[0mlen\u001b[0m\u001b[1;33m)\u001b[0m\u001b[1;33m\u001b[0m\u001b[1;33m\u001b[0m\u001b[0m\n",
      "\u001b[1;31mKeyboardInterrupt\u001b[0m: "
     ]
    }
   ],
   "source": [
    "main_page_url='https://www.bookyogaretreats.com'\n",
    "r = requests.get(main_page_url)\n",
    "response = r.text.encode('utf-8')\n",
    "soup = BeautifulSoup(response)\n",
    "\n",
    "categories_raw=soup.findAll('li', {'class': 'fakeCheck'})\n",
    "categories_raw=[' '.join(category.text.replace('\\n','').split(' ')[:-1]) for category in categories_raw][12:-4]\n",
    "categories=[]\n",
    "\n",
    "driver = webdriver.Firefox(executable_path= r\"D:\\загрузки\\geckodriver-v0.30.0-win64\\geckodriver.exe\")\n",
    "\n",
    "for i,category in enumerate(categories_raw):\n",
    "        if 'level' in category.lower():\n",
    "            categories.append(category.split(' ')[1])\n",
    "        else:\n",
    "            categories.append(category)\n",
    "\n",
    "data={}\n",
    "\n",
    "for category in categories:\n",
    "    cat='-'.join(category.split(' ')).lower()\n",
    "    stop=False\n",
    "    page=1\n",
    "    while stop is False:\n",
    "\n",
    "        category_page_url=main_page_url+f'/sr?c={cat}&page={page}'\n",
    "        print('NEW Category Page ',category_page_url,'\\n----------------------')\n",
    "        # страница каталога с категорией\n",
    "        r = requests.get(category_page_url)\n",
    "        response = r.text.encode('utf-8')\n",
    "        soup = BeautifulSoup(response)\n",
    "        \n",
    "        # если такой страницы нет, т.е. каталог закончился\n",
    "        error=soup.findAll('div', {'id': 'error-page'})\n",
    "\n",
    "        if len(error)>0:\n",
    "            stop=True\n",
    "            print(f'####Category page {page} ERROR####')\n",
    "            break\n",
    "\n",
    "        text = soup.findAll('a', {'class': 'js-showcard-link'},href=True)\n",
    "        card_urls=[]\n",
    "        for t in text:\n",
    "            card_urls.append(t['href'])\n",
    "\n",
    "        for card_url in card_urls:\n",
    "\n",
    "            url = f'{main_page_url}{card_url}'\n",
    "            print(f'category {cat}, url {url}')\n",
    "            r = requests.get(url)\n",
    "            response = r.text.encode('utf-8')\n",
    "            soup = BeautifulSoup(response,'html.parser')\n",
    "            \n",
    "            error=soup.findAll('div', {'id': 'error-page'})\n",
    "            if len(error)>0:\n",
    "                continue\n",
    "                \n",
    "            arr=soup.findAll('div', {'class': 'listing-overview__notes'})[0].text.split('\\n')\n",
    "            arr=[ a for a in arr if a!='']\n",
    "            duration=arr[0].split(' ')[0]\n",
    "            \n",
    "            title=soup.findAll('h1', {'class': 'listing-title__title title listing-title-new'})[0].text\n",
    "            \n",
    "            arrival=soup.findAll('span', {'class': 'js-sc1-inquiry-modal-arrival'})\n",
    "            if len(arrival)!=0:\n",
    "                arrival=arrival[0].text\n",
    "            else:\n",
    "                arrival=None\n",
    "            \n",
    "            departure=soup.findAll('span', {'class': 'js-sc1-inquiry-modal-departure'})\n",
    "            if len(departure)!=0:\n",
    "                departure=departure[0].text\n",
    "            else:\n",
    "                departure=None\n",
    "                \n",
    "            organizer=soup.findAll('div', {'class': 'listing-organizer-card__content'})[0].text[20:].split('\\n')[0]\n",
    "            \n",
    "            location=soup.findAll('div', {'class': 'listing-title__location listing-location-new'})\n",
    "            if len(location[0])!=0:\n",
    "                location=location[0].text\n",
    "            else:\n",
    "                location=None\n",
    "                \n",
    "            arr=soup.findAll('div', {'class': 'listing-overview__notes'})[0].text.split('\\n')\n",
    "            arr=[ a for a in arr if a!='']\n",
    "            group_size=[a for a in arr if 'Group' in a]\n",
    "\n",
    "            if len(group_size)!=0:\n",
    "                if len(group_size[0].split(' '))==6:\n",
    "                     group_size=group_size[0].split(' ')[4]\n",
    "                elif len(group_size[0].split(' '))==4:\n",
    "                    group_size=group_size[0].split(' ')[2]\n",
    "            else:\n",
    "                group_size=None\n",
    "                \n",
    "            driver.get(url)\n",
    "            price=driver.find_elements_by_class_name('price')[0].text.split(' ')[1]\n",
    "\n",
    "            \n",
    "        \n",
    "        page+=1"
   ]
  },
  {
   "cell_type": "code",
   "execution_count": 258,
   "metadata": {},
   "outputs": [],
   "source": [
    "cat='-'.join(categories[0].split(' '))\n",
    "category_page_url=main_page_url+f'/sr?c={cat}'"
   ]
  }
 ],
 "metadata": {
  "kernelspec": {
   "display_name": "torch",
   "language": "python",
   "name": "torch"
  },
  "language_info": {
   "codemirror_mode": {
    "name": "ipython",
    "version": 3
   },
   "file_extension": ".py",
   "mimetype": "text/x-python",
   "name": "python",
   "nbconvert_exporter": "python",
   "pygments_lexer": "ipython3",
   "version": "3.8.12"
  }
 },
 "nbformat": 4,
 "nbformat_minor": 4
}
