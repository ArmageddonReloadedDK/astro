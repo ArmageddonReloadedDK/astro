{
 "cells": [
  {
   "cell_type": "code",
   "execution_count": 1,
   "metadata": {},
   "outputs": [],
   "source": [
    "import requests\n",
    "from bs4 import BeautifulSoup\n",
    "import pandas as pd\n",
    "import numpy as np\n",
    "import asyncio\n",
    "import aiohttp\n",
    "import nest_asyncio\n",
    "from selenium import webdriver\n",
    "from loguru import logger\n",
    "from datetime import datetime\n",
    "\n",
    "from fake_useragent import UserAgent\n",
    "\n",
    "\n",
    "nest_asyncio.apply()\n"
   ]
  },
  {
   "cell_type": "markdown",
   "metadata": {},
   "source": [
    "## Спарсим рамблер"
   ]
  },
  {
   "cell_type": "markdown",
   "metadata": {},
   "source": [
    "Это работает так: сначала код запрашивает требуемую страинцу у рамблера, тот в ответ отправляет html страницу, а затем идет поиск тега, в котором находится текст гороскопа. "
   ]
  },
  {
   "cell_type": "code",
   "execution_count": null,
   "metadata": {},
   "outputs": [],
   "source": [
    "signs=['aries','gemini','taurus','cancer','leo','virgo','libra','scorpio','sagittarius','capricorn','aquarius','pisces']\n",
    "data = pd.read_csv('data.csv', names=['date', 'sign', 'text'])\n",
    "\n",
    "for i in range(2004,2021):\n",
    "    for j in range(1,13):\n",
    "        for k in range(1,32):\n",
    "            for sign in signs:\n",
    "                try:\n",
    "                    year=i\n",
    "                    month=j\n",
    "                    day=k\n",
    "                    if month<10:\n",
    "                        month='0'+str(month)\n",
    "                    if day<10:\n",
    "                        day='0'+str(day)\n",
    "                    date='%s-%s-%s'%(year,month,day)\n",
    "                    url = 'https://horoscopes.rambler.ru/%s/%s/?updated'% (sign,date)  # url для второй страницы\n",
    "                    print(url)\n",
    "                    r = requests.get(url)\n",
    "                    response = r.text.encode('utf-8')\n",
    "\n",
    "                    soup = BeautifulSoup(response, features=\"lxml\")\n",
    "                    text = soup.find('div', {'class': '_1dQ3'}).text\n",
    "                    data=data.append({'date': date, 'sign': sign, 'text': text}, ignore_index=True)\n",
    "                    data.to_csv('data.csv', encoding = 'utf-8')\n",
    "                    print('saved date=', date, ' sign=', sign)\n",
    "                except Exception:\n",
    "                    continue"
   ]
  },
  {
   "cell_type": "markdown",
   "metadata": {},
   "source": [
    "## Сайт Ростова-на-Дону"
   ]
  },
  {
   "cell_type": "markdown",
   "metadata": {},
   "source": [
    "https://www.1rnd.ru/"
   ]
  },
  {
   "cell_type": "code",
   "execution_count": null,
   "metadata": {},
   "outputs": [],
   "source": [
    "news=[]\n",
    "url='https://www.1rnd.ru/news/3089599'\n",
    "print(url)\n",
    "r = requests.get(url)\n",
    "response = r.text\n",
    "soup = BeautifulSoup(response, 'html.parser')\n",
    "\n",
    "news_text=soup.findAll('p', {'style': \"text-align:justify;\"})\n",
    "date_text=soup.findAll('div', {'class': \"article-info__time\"})\n",
    "header_text=soup.findAll('div',{'class':'title-container inner-title'})\n",
    "\n",
    "if news_text:\n",
    "    print('success')\n",
    "    text_line=''\n",
    "    for text in news_text:\n",
    "         text_line=text_line+text.get_text()\n",
    "    news.append([header_text[0].get_text(),date_text[0].get_text().split(),text_line])"
   ]
  },
  {
   "cell_type": "code",
   "execution_count": null,
   "metadata": {},
   "outputs": [],
   "source": [
    "news = pd.DataFrame({'header': [0], 'date': [0], 'news': [0]})"
   ]
  },
  {
   "cell_type": "code",
   "execution_count": null,
   "metadata": {},
   "outputs": [],
   "source": [
    "start1=7135\n",
    "start2=300000\n",
    "start3=600000\n",
    "start4=900000\n",
    "start5=1200000\n",
    "start6=1500000\n",
    "start7=1800000\n",
    "start8=2100000\n",
    "start9=2400000\n",
    "start10=2700000\n",
    "\n",
    "end1=299999\n",
    "end2=599999\n",
    "end3=899999\n",
    "end4=1199999\n",
    "end5=1499999\n",
    "end6=1799999\n",
    "end7=2099999\n",
    "end8=2399999\n",
    "end9=2699999\n",
    "end10=2999999\n",
    "\n",
    "\n",
    "async def get_news(start,end):\n",
    "    global news\n",
    "    for i in range(start,end):\n",
    "        url ='https://www.1rnd.ru/news/{0}'.format(str(i)) \n",
    "        print(url)\n",
    "        \n",
    "        async with aiohttp.ClientSession() as session:\n",
    "            async with session.get(url) as response:\n",
    "\n",
    "                response = await response.text()\n",
    "                soup = BeautifulSoup(response, 'html.parser')\n",
    "\n",
    "                news_text=soup.findAll('p', {'style': \"text-align:justify;\"})\n",
    "                date_text=soup.findAll('div', {'class': \"article-info__time\"})\n",
    "                header_text=soup.findAll('div',{'class':'title-container inner-title'})\n",
    "\n",
    "                if news_text:\n",
    "                    print('success')\n",
    "                    text_line=''\n",
    "                    for text in news_text:\n",
    "                         text_line=text_line+text.get_text()\n",
    "                            \n",
    "                    date=date_text[0].get_text()\n",
    "                    header=header_text[0].get_text()\n",
    "\n",
    "                    news=news.append({'header': header, 'date': date, 'news': text_line}, ignore_index=True)\n",
    "                    news.to_csv('news.csv', encoding = 'utf-8')\n",
    "\n",
    "futures = [get_news(start1,end1),\n",
    "           get_news(start2,end2),\n",
    "           get_news(start3,end3),\n",
    "           get_news(start4,end4),\n",
    "           get_news(start5,end5),\n",
    "           get_news(start6,end6),\n",
    "           get_news(start7,end7),\n",
    "           get_news(start8,end8),\n",
    "           get_news(start9,end9),\n",
    "           get_news(start10,end10)]\n",
    "\n",
    "loop = asyncio.get_event_loop()\n",
    "loop.run_until_complete(asyncio.wait(futures))\n",
    "loop.close()"
   ]
  },
  {
   "cell_type": "markdown",
   "metadata": {},
   "source": [
    "Товарная единица - ивент\n",
    "\n",
    "Нужно определить - \n",
    " - [x] категория\n",
    " - [x] стоимость \n",
    " - [x] геопозиция\n",
    " - [x] дата\n",
    " - [x] длительность\n",
    " - [x] количество людей\n",
    " - [ ] список услуг (недоступно)\n",
    " - [x] кто проводит\n",
    " - [x] сайт"
   ]
  },
  {
   "cell_type": "markdown",
   "metadata": {
    "pycharm": {
     "name": "#%% md\n"
    }
   },
   "source": [
    "# BookYogaRetreats"
   ]
  },
  {
   "cell_type": "code",
   "execution_count": 52,
   "metadata": {
    "pycharm": {
     "name": "#%%\n"
    }
   },
   "outputs": [
    {
     "name": "stdout",
     "output_type": "stream",
     "text": [
      "https://www.bookyogaretreats.com/?page=1\n"
     ]
    }
   ],
   "source": [
    "page=1\n",
    "base_url='www.bookyogaretreats.com'\n",
    "url = f'https://{base_url}/?page={page}'\n",
    "print(url)\n",
    "r = requests.get(url)\n",
    "response = r.text.encode('utf-8')\n",
    "\n",
    "soup = BeautifulSoup(response)\n",
    "text = soup.findAll('a', {'class': 'js-showcard-link'},href=True)\n",
    "card_urls=[]\n",
    "for t in text:\n",
    "    card_urls.append(t['href'])\n",
    "# data=data.append({'date': date, 'sign': sign, 'text': text}, ignore_index=True)\n",
    "# data.to_csv('data.csv', encoding = 'utf-8')\n",
    "# print('saved date=', date, ' sign=', sign)"
   ]
  },
  {
   "cell_type": "code",
   "execution_count": 53,
   "metadata": {},
   "outputs": [
    {
     "data": {
      "text/plain": [
       "['/luxury-executive-wellness/6-day-luxury-wellness-yoga-retreat-in-santa-barbara-florida',\n",
       " '/luxury-executive-wellness/6-day-holistic-wellness-retreat-in-clearwater-beach-florida',\n",
       " '/enliven-retreats/5-day-flourishing-in-uncertain-times-wellness-retreat-in-vermont',\n",
       " '/divinitree-yoga/8-day-ayurvedic-alchemy-cleanse-waterfall-and-beach-journeys-and-yoga-holiday-in-maui-hawaii',\n",
       " '/ccs-hideaway/8-day-phuket-sandbox-all-inclusive-yoga-holiday-in-karon',\n",
       " '/himalayan-yoga-association/6-day-relaxing-and-rejuvenating-yoga-retreat-in-rishikesh-india',\n",
       " '/vivir-by-v-/3-day-wellness-revive-yoga-and-fitness-holiday-in-vejer-de-la-frontera',\n",
       " '/peace-retreat-costa-rica/5-days-adventure-and-yoga-retreat-in-costa-rica',\n",
       " '/peace-retreat-costa-rica/5-day-rejuvenating-body-at-peace-yoga-wellness-retreat-in-los-pargos-guanacaste',\n",
       " '/beyond-yoga-retreat/8-day-all-inclusive-yoga-massage-meditation-and-hiking-retreat-in-puerto-vallarta-mexico',\n",
       " '/fykiada-retreats/6-day-luxury-ashtanga-yoga-retreat-with-laruga-glaser-and-david-fredriksson-in-mykonos',\n",
       " '/mudra-retreats/5-day-yoga-retreat-in-tulum-discovering-the-magical-sacred-mayan-cenotes']"
      ]
     },
     "execution_count": 53,
     "metadata": {},
     "output_type": "execute_result"
    }
   ],
   "source": [
    "card_urls"
   ]
  },
  {
   "cell_type": "code",
   "execution_count": 58,
   "metadata": {},
   "outputs": [
    {
     "name": "stdout",
     "output_type": "stream",
     "text": [
      "https://www.bookyogaretreats.com/fykiada-retreats/6-day-luxury-ashtanga-yoga-retreat-with-laruga-glaser-and-david-fredriksson-in-mykonos\n"
     ]
    }
   ],
   "source": [
    "page=1\n",
    "base_url='www.bookyogaretreats.com'\n",
    "url = f'https://{base_url}{card_urls[10]}'\n",
    "# url='https://www.bookyogaretreats.com/yoga-weeks/6-day-urban-yoga-retreat-in-barcelona-catalonia'\n",
    "print(url)\n",
    "r = requests.get(url)\n",
    "response = r.text.encode('utf-8')\n",
    "\n",
    "soup = BeautifulSoup(response,'html.parser')\n",
    "text = soup.findAll('a', {'class': 'js-showcard-link'})"
   ]
  },
  {
   "cell_type": "code",
   "execution_count": 235,
   "metadata": {},
   "outputs": [],
   "source": [
    "# soup"
   ]
  },
  {
   "cell_type": "code",
   "execution_count": 233,
   "metadata": {},
   "outputs": [
    {
     "data": {
      "text/plain": [
       "\"\\n\\n\\n\\n\\n\\nOops! 404 Page Not Found\\nWe can’t find the page you're looking for, but we can help you find an unforgettable holiday!\\n\\n\\nWe can help you find your way via our customer service pageOr, you can locate a specific page via our site map\\n\\n\\nGo back\\nGo to homepage\\n\\n\\nCopyright © 2022 \\nAll rights reserved.\\nMade with love by\\nTripaneer.\\n\""
      ]
     },
     "execution_count": 233,
     "metadata": {},
     "output_type": "execute_result"
    }
   ],
   "source": [
    "soup.findAll('div', {'id': 'error-page'})[0].text"
   ]
  },
  {
   "cell_type": "code",
   "execution_count": 237,
   "metadata": {},
   "outputs": [
    {
     "data": {
      "text/plain": [
       "[]"
      ]
     },
     "execution_count": 237,
     "metadata": {},
     "output_type": "execute_result"
    }
   ],
   "source": [
    "soup.findAll('div', {'id': 'error-page'})"
   ]
  },
  {
   "cell_type": "markdown",
   "metadata": {},
   "source": [
    "# Completed\n"
   ]
  },
  {
   "cell_type": "code",
   "execution_count": 59,
   "metadata": {},
   "outputs": [
    {
     "data": {
      "text/plain": [
       "'6'"
      ]
     },
     "execution_count": 59,
     "metadata": {},
     "output_type": "execute_result"
    }
   ],
   "source": [
    "duration=soup.findAll('div', {'class': 'subtitle-small listing-query-box__duration js-sc3-inquiry-modal-duration js-insert-duration'})[0].text\n",
    "duration=duration.replace('\\n','').split(' ')[0]\n",
    "duration"
   ]
  },
  {
   "cell_type": "code",
   "execution_count": 60,
   "metadata": {},
   "outputs": [
    {
     "data": {
      "text/plain": [
       "'6 Day Luxury Ashtanga Yoga Retreat with Laruga Glaser and David Fredriksson in Mykonos'"
      ]
     },
     "execution_count": 60,
     "metadata": {},
     "output_type": "execute_result"
    }
   ],
   "source": [
    "title=soup.findAll('h1', {'class': 'listing-title__title title listing-title-new'})[0].text\n",
    "title"
   ]
  },
  {
   "cell_type": "code",
   "execution_count": 110,
   "metadata": {},
   "outputs": [
    {
     "name": "stdout",
     "output_type": "stream",
     "text": [
      "2022-03-17\n"
     ]
    }
   ],
   "source": [
    "arrival=soup.findAll('span', {'class': 'js-sc1-inquiry-modal-arrival'})\n",
    "if len(arrival)!=0:\n",
    "    arrival=arrival[0].text\n",
    "    arrival=arrival.replace(',','').split(' ')\n",
    "    arrival[1]=arrival[1][:3]\n",
    "    arrival=' '.join(arrival[1:])\n",
    "    arrival=datetime.strptime(arrival, '%b %d %Y').date()\n",
    "else:\n",
    "    arrival=None\n",
    "    \n",
    "\n",
    "print(arrival)"
   ]
  },
  {
   "cell_type": "code",
   "execution_count": 108,
   "metadata": {},
   "outputs": [
    {
     "name": "stdout",
     "output_type": "stream",
     "text": [
      "Mar 27 2022\n",
      "2022-03-27\n"
     ]
    }
   ],
   "source": [
    "departure=soup.findAll('span', {'class': 'js-sc1-inquiry-modal-departure'})\n",
    "if len(departure)!=0:\n",
    "    departure=departure[0].text\n",
    "    departure=departure.replace(',','').split(' ')\n",
    "    departure[1]=departure[1][:3]\n",
    "    departure=' '.join(departure[1:])\n",
    "    departure=datetime.strptime(departure, '%b %d %Y').date()\n",
    "else:\n",
    "    departure=None\n",
    "\n",
    "\n",
    "print(departure)"
   ]
  },
  {
   "cell_type": "code",
   "execution_count": 103,
   "metadata": {},
   "outputs": [
    {
     "data": {
      "text/plain": [
       "datetime.date(2022, 4, 17)"
      ]
     },
     "execution_count": 103,
     "metadata": {},
     "output_type": "execute_result"
    }
   ],
   "source": [
    "datetime.strptime(' 17 2022', '%b %d %Y').date()"
   ]
  },
  {
   "cell_type": "code",
   "execution_count": 315,
   "metadata": {},
   "outputs": [
    {
     "data": {
      "text/plain": [
       "'Yoga Weeks'"
      ]
     },
     "execution_count": 315,
     "metadata": {},
     "output_type": "execute_result"
    }
   ],
   "source": [
    "organizer=soup.findAll('div', {'class': 'listing-organizer-card__content'})[0].text[20:].split('\\n')[0]\n",
    "organizer"
   ]
  },
  {
   "cell_type": "code",
   "execution_count": 316,
   "metadata": {},
   "outputs": [
    {
     "data": {
      "text/plain": [
       "'6'"
      ]
     },
     "execution_count": 316,
     "metadata": {},
     "output_type": "execute_result"
    }
   ],
   "source": [
    "arr=soup.findAll('div', {'class': 'listing-overview__notes'})[0].text.split('\\n')\n",
    "arr=[ a for a in arr if a!='']\n",
    "duration=arr[0].split(' ')[0]\n",
    "duration"
   ]
  },
  {
   "cell_type": "code",
   "execution_count": 317,
   "metadata": {},
   "outputs": [
    {
     "name": "stdout",
     "output_type": "stream",
     "text": [
      "Call Carme 40, Pral 2, 08001, Barcelona, Spain\n"
     ]
    }
   ],
   "source": [
    "location=soup.findAll('div', {'class': 'listing-title__location listing-location-new'})\n",
    "if len(location[0])!=0:\n",
    "    location=location[0].text\n",
    "else:\n",
    "    location=None\n",
    "\n",
    "print(location)"
   ]
  },
  {
   "cell_type": "code",
   "execution_count": 318,
   "metadata": {},
   "outputs": [
    {
     "name": "stdout",
     "output_type": "stream",
     "text": [
      "['6 days with instruction in\\xa0English', 'The organizer also speaks:\\xa0French, German, Spanish', 'Group size: Maximum of 10 participants']\n",
      "10\n"
     ]
    }
   ],
   "source": [
    "arr=soup.findAll('div', {'class': 'listing-overview__notes'})[0].text.split('\\n')\n",
    "arr=[ a for a in arr if a!='']\n",
    "group_size=[a for a in arr if 'Group' in a]\n",
    "\n",
    "if len(group_size)!=0:\n",
    "    if len(group_size[0].split(' '))==6:\n",
    "         group_size=group_size[0].split(' ')[4]\n",
    "    elif len(group_size[0].split(' '))==4:\n",
    "        group_size=group_size[0].split(' ')[2]\n",
    "else:\n",
    "    group_size=None\n",
    "\n",
    "print(arr)\n",
    "print(group_size)"
   ]
  },
  {
   "cell_type": "code",
   "execution_count": null,
   "metadata": {},
   "outputs": [],
   "source": [
    "driver = webdriver.Firefox(executable_path= r\"D:\\загрузки\\geckodriver-v0.30.0-win64\\geckodriver.exe\")"
   ]
  },
  {
   "cell_type": "code",
   "execution_count": 252,
   "metadata": {},
   "outputs": [
    {
     "name": "stderr",
     "output_type": "stream",
     "text": [
      "<ipython-input-252-a47f4b609ba8>:2: DeprecationWarning: find_elements_by_* commands are deprecated. Please use find_elements() instead\n",
      "  driver.find_elements_by_class_name('price')[0].text.split(' ')[1]\n"
     ]
    },
    {
     "data": {
      "text/plain": [
       "'97'"
      ]
     },
     "execution_count": 252,
     "metadata": {},
     "output_type": "execute_result"
    }
   ],
   "source": [
    "driver.get(url)\n",
    "driver.find_elements_by_class_name('price')[0].text.split(' ')[1]"
   ]
  },
  {
   "cell_type": "code",
   "execution_count": 300,
   "metadata": {},
   "outputs": [],
   "source": [
    "#main page\n",
    "\n",
    "main_page_url='https://www.bookyogaretreats.com'\n",
    "r = requests.get(main_page_url)\n",
    "response = r.text.encode('utf-8')\n",
    "\n",
    "soup = BeautifulSoup(response)\n",
    "\n",
    "categories_raw=soup.findAll('li', {'class': 'fakeCheck'})\n",
    "categories_raw=[' '.join(category.text.replace('\\n','').split(' ')[:-1]) for category in categories_raw][12:-4]\n",
    "categories=[]\n",
    "\n",
    "for i,category in enumerate(categories_raw):\n",
    "        if 'level' in category.lower():\n",
    "            categories.append(category.split(' ')[1])\n",
    "        else:\n",
    "            categories.append(category)\n",
    "\n",
    "# categories"
   ]
  },
  {
   "cell_type": "code",
   "execution_count": 238,
   "metadata": {},
   "outputs": [
    {
     "data": {
      "text/plain": [
       "[]"
      ]
     },
     "execution_count": 238,
     "metadata": {},
     "output_type": "execute_result"
    }
   ],
   "source": [
    "soup.findAll('div', {'id': 'error-page'})"
   ]
  },
  {
   "cell_type": "markdown",
   "metadata": {},
   "source": [
    "# Pipeline"
   ]
  },
  {
   "cell_type": "code",
   "execution_count": 257,
   "metadata": {},
   "outputs": [],
   "source": [
    "'https://www.bookyogaretreats.com/sr?c=budget-retreats&page=1'"
   ]
  },
  {
   "cell_type": "code",
   "execution_count": 2,
   "metadata": {},
   "outputs": [],
   "source": [
    "data = pd.DataFrame({'title': [0],'duration': [0], 'arrival': [0], 'departure': [0], 'organizer': [0], 'location': [0], 'group_size': [0], 'price': [0]})\n",
    "# data_categories={}"
   ]
  },
  {
   "cell_type": "code",
   "execution_count": 4,
   "metadata": {},
   "outputs": [
    {
     "name": "stderr",
     "output_type": "stream",
     "text": [
      "<ipython-input-4-2945dbf657e9>:15: DeprecationWarning: executable_path has been deprecated, please pass in a Service object\n",
      "  driver = webdriver.Firefox(executable_path= r\"D:\\загрузки\\geckodriver-v0.30.0-win64\\geckodriver.exe\")\n"
     ]
    },
    {
     "name": "stdout",
     "output_type": "stream",
     "text": [
      "NEW Page  https://www.bookyogaretreats.com/?page=137 \n",
      "----------------------\n",
      "category cat , url https://www.bookyogaretreats.com/sanatana-yog-sandesh/10-days-dawn-into-yoga-retreat-in-rishikesh-india\n"
     ]
    },
    {
     "name": "stderr",
     "output_type": "stream",
     "text": [
      "<ipython-input-4-2945dbf657e9>:117: DeprecationWarning: find_elements_by_* commands are deprecated. Please use find_elements() instead\n",
      "  price_list=driver.find_elements_by_class_name('price')[0].text.split(' ')\n"
     ]
    },
    {
     "name": "stdout",
     "output_type": "stream",
     "text": [
      "category cat , url https://www.bookyogaretreats.com/peaceful-mind-the-ancient-yoga/7-day-meditation-and-kundalini-yoga-online-retreats\n",
      "category cat , url https://www.bookyogaretreats.com/my-holistic-bliss-ltd/3-days-yin-yoga-acupuncture-and-wellbeing-retreat-in-hutton-le-hole-north-yorkshire\n",
      "category cat , url https://www.bookyogaretreats.com/sanatana-yog-sandesh/21-day-200-hour-online-hatha-yoga-teacher-training-course\n",
      "category cat , url https://www.bookyogaretreats.com/kukui-surf-yoga/6-day-flowing-desert-yoga-and-surf-holiday-in-imsouane\n",
      "category cat , url https://www.bookyogaretreats.com/yoga-shakti-school/6-month-100-hour-interactive-online-one-to-one-healing-yoga-teacher-training\n",
      "category cat , url https://www.bookyogaretreats.com/kausay/5-day-grounding-and-nourishing-silent-walking-retreat-in-nature-with-daily-yoga-in-valencia\n",
      "category cat , url https://www.bookyogaretreats.com/bala-yoga-school/4-week-300-hour-advanced-online-hatha-and-vinyasa-yoga-teacher-training-course\n",
      "category cat , url https://www.bookyogaretreats.com/karma-diving-yoga/7-days-yoga-initiation-retreat-to-unwind-and-recharge-in-bali\n",
      "category cat , url https://www.bookyogaretreats.com/heart-of-india-indian-classic-yoga/14-day-yoga-and-ayurveda-course-retreat-in-foulain\n",
      "category cat , url https://www.bookyogaretreats.com/surf-n-yoga-fuerteventura/11-day-balance-package-surf-n-yoga-holiday-in-beautiful-fuerteventura\n",
      "category cat , url https://www.bookyogaretreats.com/sublime-sun-van-by-meco-stays/3-day-weekend-art-and-yoga-holiday-in-sesimbra\n",
      "NEW Page  https://www.bookyogaretreats.com/?page=138 \n",
      "----------------------\n",
      "category cat , url https://www.bookyogaretreats.com/sanatana-yog-sandesh/28-day-virtual-300-hour-hatha-yoga-teacher-training\n",
      "category cat , url https://www.bookyogaretreats.com/the-kandy-samadhi-centre/4-days-yoga-retreat-in-sri-lanka\n",
      "category cat , url https://www.bookyogaretreats.com/havana-horses-yoga-natural-horsemanship/4-days-3-nights-empowering-yoga-and-natural-horsemanship-retreat-in-central-java-indonesia\n",
      "category cat , url https://www.bookyogaretreats.com/sandycamps/7-days-surf-camp-and-yoga-retreat-in-imsouane-morocco\n",
      "category cat , url https://www.bookyogaretreats.com/francesca-marchi-scuola-yoga-shivapuri-satyananda-yoga/4-day-shodana-natural-spas-and-yoga-detox-retreat-in-spring-in-assisi\n",
      "category cat , url https://www.bookyogaretreats.com/the-zest-life/3-days-winter-warmer-weekend-relaxation-and-yoga-holiday-on-the-isle-of-anglesey-uk\n",
      "category cat , url https://www.bookyogaretreats.com/anasa-retreats/7-day-massage-meditation-and-yoga-holiday-in-pelion-magnesia\n",
      "category cat , url https://www.bookyogaretreats.com/elemental-yoga-retreat/15-day-awaken-your-inner-healer-wellness-retreat-in-buleleng-bali\n",
      "category cat , url https://www.bookyogaretreats.com/surf-n-yoga-fuerteventura/6-day-balance-package-surf-n-yoga-holiday-in-beautiful-fuerteventura\n",
      "category cat , url https://www.bookyogaretreats.com/retreat-and-rejuvenate/4-day-weekend-yoga-and-wellness-retreat-in-barnstaple-north-devon\n",
      "category cat , url https://www.bookyogaretreats.com/hiwy-hi-retreats/7-day-horseback-riding-and-acroyoga-retreat-in-arta-mallorca\n",
      "category cat , url https://www.bookyogaretreats.com/kalla-yoga/7-day-detox-yoga-and-meditation-retreat-in-marbella\n",
      "NEW Page  https://www.bookyogaretreats.com/?page=139 \n",
      "----------------------\n",
      "category cat , url https://www.bookyogaretreats.com/kashmi-kashmi-retreats/7-day-light-bodies-rising-spiritual-and-yoga-retreat-in-rivas-san-jose-province\n",
      "category cat , url https://www.bookyogaretreats.com/yoga-maithri/one-month-online-yoga-meditation-and-pranayama-retreat\n",
      "category cat , url https://www.bookyogaretreats.com/unlocked/6-day-yoga-and-healing-eco-retreat-in-turre-almeria-andalusia\n",
      "category cat , url https://www.bookyogaretreats.com/gypsea-yoga-school/self-paced-module-1-100-hour-online-foundations-of-yoga-teacher-training\n",
      "category cat , url https://www.bookyogaretreats.com/unalome-yoga-roatan/5-day-yoga-ayurveda-and-relaxation-retreat-in-roatan\n",
      "category cat , url https://www.bookyogaretreats.com/vinyasa-yoga-shala/10-day-20-hour-online-yoga-nidra-teacher-training-course-with-yogini-tanushree\n",
      "category cat , url https://www.bookyogaretreats.com/swasti-yoga-center/200-hour-self-paced-level-1-yoga-protocol-instructor-online-training\n",
      "category cat , url https://www.bookyogaretreats.com/krishna-s-otway-retreat/6-day-complete-self-improvement-yoga-retreat-in-bambra-victoria-in-the-beautiful-otway-ranges\n",
      "category cat , url https://www.bookyogaretreats.com/yoga-tree/4-day-body-mind-and-soul-yoga-retreat-in-perhentian-islands-terengganu\n",
      "category cat , url https://www.bookyogaretreats.com/copal-retreat/7-day-revitalization-ocean-jungle-yoga-holiday-in-paamul-mexico-with-ximena-in-tulum\n",
      "category cat , url https://www.bookyogaretreats.com/untamed-escapes/4-day-esperance-wellness-and-yoga-retreat-in-western-australia\n",
      "category cat , url https://www.bookyogaretreats.com/copal-retreat/7-day-ocean-flow-here-now-yoga-retreat-in-paamul-mexico-with-daniela\n",
      "NEW Page  https://www.bookyogaretreats.com/?page=140 \n",
      "----------------------\n",
      "category cat , url https://www.bookyogaretreats.com/shanti-som-wellbeing-retreat/15-day-detox-retreat-with-yoga-in-monda-malaga\n",
      "category cat , url https://www.bookyogaretreats.com/gypsea-yoga-school/self-paced-module-2-100-hour-online-yoga-teacher-training-with-gypsea-yoga-school\n",
      "category cat , url https://www.bookyogaretreats.com/dubrovnik-yoga-retreats/7-day-yoga-coaching-and-sound-healing-retreat-in-dubrovnik\n",
      "category cat , url https://www.bookyogaretreats.com/santosa-detox-and-wellness-center/5-days-yoga-and-spa-retreat-in-phuket-thailand\n",
      "category cat , url https://www.bookyogaretreats.com/little-vietnam-tours/9-days-different-food-taste-culinary-and-sightseeing-tour-in-vietnam\n",
      "category cat , url https://www.bookyogaretreats.com/titan-fitness-thailand/14-day-fitness-and-yoga-retreat-in-phuket\n",
      "category cat , url https://www.bookyogaretreats.com/tonic-retreats/7-days-adventurous-you-luxury-yoga-and-wellness-retreat-in-magical-marrakech-morocco\n",
      "category cat , url https://www.bookyogaretreats.com/adventureyogi/5-days-short-break-hiking-and-yoga-retreat-in-the-atlas-mountains-morocco\n",
      "category cat , url https://www.bookyogaretreats.com/enliven-retreats/8-day-all-inclusive-yoga-adventure-retreat-in-marche\n",
      "category cat , url https://www.bookyogaretreats.com/inspiro-yoga/3-day-spring-equinox-yoga-retreat-in-osterlen-south-east-sweden\n",
      "category cat , url https://www.bookyogaretreats.com/yoga-conscious/6-day-refresh-renew-and-completely-relax-yoga-holiday-in-faro-algarve\n",
      "category cat , url https://www.bookyogaretreats.com/paros-yoga-shalla/8-weeks-women-empowerment-private-online-coaching\n",
      "NEW Page  https://www.bookyogaretreats.com/?page=141 \n",
      "----------------------\n",
      "category cat , url https://www.bookyogaretreats.com/lotus-love-yoga/8-days-ayurveda-and-yoga-retreat-in-kerala-india-1\n",
      "category cat , url https://www.bookyogaretreats.com/ulpotha/15-day-hatha-vinyasa-yoga-holiday-near-ihala-embogama-north-western\n",
      "category cat , url https://www.bookyogaretreats.com/the-happiness-retreat-greece/8-day-blue-bliss-embodied-spirituality-and-ocean-yoga-retreat-in-anafi-island-cyclades\n",
      "category cat , url https://www.bookyogaretreats.com/samvid-yoga-and-retreats/self-paced-100-hour-insightful-multi-style-online-yoga-course\n",
      "category cat , url https://www.bookyogaretreats.com/shanti-som-wellbeing-retreat/11-day-relaxing-and-inspiring-bliss-of-being-wellness-retreat-in-monda-malaga\n",
      "category cat , url https://www.bookyogaretreats.com/serenity-eco-guesthouse-and-yoga/4-days-wellness-detox-and-yoga-holiday-at-sustainable-eco-retreat-center-in-canggu-bali-indonesia\n",
      "category cat , url https://www.bookyogaretreats.com/lotus-retreats/9-day-yoga-retreat-with-cultural-immersion-in-the-sacred-valley\n",
      "category cat , url https://www.bookyogaretreats.com/anantara-angkor-resort/6-days-self-care-yoga-retreat-in-siem-reap-cambodia\n",
      "category cat , url https://www.bookyogaretreats.com/anaahat-yog/6-day-online-pranayama-teacher-training-course\n",
      "category cat , url https://www.bookyogaretreats.com/rikke-holmkvist-spiritual-counselor-and-clairvoyant-medium/3-day-grounding-therapy-retreat-with-meditation-yoga-and-clairvoyance-reading-in-ubud-bali\n"
     ]
    },
    {
     "name": "stdout",
     "output_type": "stream",
     "text": [
      "category cat , url https://www.bookyogaretreats.com/pathways-country-yoga-retreat/6-day-or-self-paced-online-yoga-nidra-self-help-course\n",
      "category cat , url https://www.bookyogaretreats.com/yoga-farm-ithaca/7-month-spiritual-warrior-300-hour-online-kundalini-yoga-teacher-training-with-6-week-winter-break\n",
      "NEW Page  https://www.bookyogaretreats.com/?page=142 \n",
      "----------------------\n",
      "category cat , url https://www.bookyogaretreats.com/nirvana-yoga-shala/61-day-200-hour-online-kundalini-yoga-teacher-training-international-certification-yoga-alliance\n",
      "category cat , url https://www.bookyogaretreats.com/shanti-yoga-ashram/online-self-paced-100-hour-tantra-yoga-course\n",
      "category cat , url https://www.bookyogaretreats.com/yoga-maithri/5-days-nada-mantra-yoga-retreat-in-kerala-india\n",
      "category cat , url https://www.bookyogaretreats.com/naya-ubud/5-days-balinese-culture-and-yoga-retreat-in-bali-indonesia\n",
      "category cat , url https://www.bookyogaretreats.com/atmashree-yoga-retreat/4-day-short-and-affordable-yoga-and-meditation-retreat-in-pokhara-gandaki-pradesh\n",
      "category cat , url https://www.bookyogaretreats.com/skillful-mind/6-day-luxury-personal-empowerment-retreat-with-yoga-and-meditation-in-buleleng-bali\n",
      "category cat , url https://www.bookyogaretreats.com/amori-villas/4-days-beauty-inside-out-meditation-and-yoga-holiday-in-bali-indonesia\n",
      "category cat , url https://www.bookyogaretreats.com/nepal-ayurveda-home/two-weeks-ayurveda-yoga-detox-retreat-course\n",
      "category cat , url https://www.bookyogaretreats.com/rediscover-thyself/10-days-journey-of-yogic-transformation-through-body-and-mind-yoga-retreat-in-goa-india\n",
      "category cat , url https://www.bookyogaretreats.com/sacred-paths-yoga/1-month-50-hour-yin-yoga-online-facilitator-training\n",
      "category cat , url https://www.bookyogaretreats.com/vivica-schwartz/8-day-visioning-and-yoga-retreat-in-koufonisia-south-aegean\n",
      "category cat , url https://www.bookyogaretreats.com/one-yoga-global/8-day-icelandic-vacation-with-yoga-classes-and-local-excursions-with-bita-and-moses-in-akureyri\n",
      "NEW Page  https://www.bookyogaretreats.com/?page=143 \n",
      "----------------------\n",
      "category cat , url https://www.bookyogaretreats.com/osho-healing-buddha/4-day-art-of-self-healing-with-yoga-meditation-and-reiki-in-namobuddha-bagmati-zone\n",
      "category cat , url https://www.bookyogaretreats.com/shanti-som-wellbeing-retreat/11-day-yoga-holiday-in-marbella-malaga\n",
      "category cat , url https://www.bookyogaretreats.com/original-surf-morocco/8-days-wonderful-yoga-and-surf-camp-tamraght-souss-massa-morocco\n",
      "category cat , url https://www.bookyogaretreats.com/shanti-som-wellbeing-retreat/15-day-weight-loss-and-health-retreat-in-monda-malaga\n",
      "category cat , url https://www.bookyogaretreats.com/glass-house-retreat/8-day-total-health-wellness-retreat-just-outside-of-london-in-essex-england\n",
      "category cat , url https://www.bookyogaretreats.com/move-beyond-it/5-day-private-luxury-life-changing-couple-retreat-with-yoga-meditation-and-spa-in-tuscany\n",
      "category cat , url https://www.bookyogaretreats.com/heart-of-india-indian-classic-yoga/7-day-introduction-to-the-fundamental-principles-of-yoga-retreat-in-haute-marne-champagne-ardenne\n",
      "category cat , url https://www.bookyogaretreats.com/elemental-yoga-retreat/7-day-yin-and-yang-yoga-retreat-in-nepi\n",
      "category cat , url https://www.bookyogaretreats.com/energybliss/8-days-lovely-meditation-and-yoga-retreat-in-that-phanom-thailand\n",
      "category cat , url https://www.bookyogaretreats.com/yalorde-yoga/6-days-certified-thai-massage-course-meditation-and-yoga-retreat-in-ourika-morocco\n",
      "category cat , url https://www.bookyogaretreats.com/himalayan-recreation-treks-expedition-p-ltd/10-days-spectacular-yoga-and-meditation-holiday-in-nepal\n",
      "category cat , url https://www.bookyogaretreats.com/retreat-with-nina-butler/6-day-wine-italian-food-and-yoga-holiday-getaway-in-province-of-perugia-umbria\n",
      "NEW Page  https://www.bookyogaretreats.com/?page=144 \n",
      "----------------------\n",
      "category cat , url https://www.bookyogaretreats.com/shakti-wellness-retreat/7-day-the-transformation-of-life-yoga-and-meditation-retreat-in-tuscany\n",
      "category cat , url https://www.bookyogaretreats.com/yoga-brunch-club-napoli-1/5-day-nature-and-healthy-food-yoga-retreat-with-thai-yoga-massage-and-thermal-pools-in-tuscany\n",
      "category cat , url https://www.bookyogaretreats.com/yoga-studio-nuweiba/7-days-yoga-photography-retreat-in-tuscany-italy\n",
      "category cat , url https://www.bookyogaretreats.com/virginia-marie-yoga/7-days-relax-and-restore-yoga-meditation-and-self-healing-retreat-in-tamarindo\n",
      "category cat , url https://www.bookyogaretreats.com/the-house-of-yoga-1/3-day-online-sivananda-hatha-yoga-meditation-and-essential-oils-retreat\n",
      "category cat , url https://www.bookyogaretreats.com/the-trek-nepal/one-week-holiday-yoga-meditation-tour-around-kathmandu-valley-for-better-health-happiness\n",
      "category cat , url https://www.bookyogaretreats.com/zen-travel/4-days-discover-your-life-purpose-life-coaching-and-yoga-holiday-in-kvareli-georgia\n",
      "category cat , url https://www.bookyogaretreats.com/nella-yoga/8-day-new-year-yoga-holiday-in-morocco\n",
      "category cat , url https://www.bookyogaretreats.com/yoga-retreat-in-las-palmas/7-day-full-reset-body-mind-and-soul-yoga-holiday-in-hikkaduwa-southern-province\n",
      "category cat , url https://www.bookyogaretreats.com/bhakti-prema-yoga-adventures/self-paced-40-hour-online-yin-yoga-teacher-training-course\n",
      "category cat , url https://www.bookyogaretreats.com/himalayan-recreation-treks-expedition-p-ltd/9-days-ghorepani-poon-hill-trek-with-yoga-and-meditation-retreat-in-nepal\n",
      "category cat , url https://www.bookyogaretreats.com/schauer-thai-massage-school/9-day-60-hour-thai-yoga-massage-course-in-ubud-bali\n",
      "NEW Page  https://www.bookyogaretreats.com/?page=145 \n",
      "----------------------\n",
      "category cat , url https://www.bookyogaretreats.com/the-busybuddha-retreat/4-day-mindfulness-and-wellbeing-retreat-for-professionals\n",
      "category cat , url https://www.bookyogaretreats.com/untamed-escapes/4-day-fleurieu-peninsula-yoga-and-wellness-adventure-in-myponga-south-australia\n",
      "category cat , url https://www.bookyogaretreats.com/veronika-karac/5-day-revitalizing-hatha-yoga-retreat-in-santorini-thira\n",
      "category cat , url https://www.bookyogaretreats.com/anantara-angkor-resort/3-day-online-private-yoga-and-emotional-alchemy-training\n",
      "category cat , url https://www.bookyogaretreats.com/the-alena-resort/4-day-relaxation-wellness-meditation-and-purification-yoga-holiday-in-ubud-bali\n",
      "category cat , url https://www.bookyogaretreats.com/govindam-yoga/6-day-yoga-and-meditation-retreat-in-the-tranquility-of-nature-in-the-mountain-of-rishikesh\n",
      "category cat , url https://www.bookyogaretreats.com/ayuskama-ayurveda-rishikesh/7-days-ayurveda-yoga-retreat-rishikesh-india\n",
      "category cat , url https://www.bookyogaretreats.com/tri-bikram-yoga/8-days-detox-meditation-and-yoga-retreat-in-pokhara-nepal\n",
      "category cat , url https://www.bookyogaretreats.com/nepal-ayurveda-home/29-days-ayurveda-panchakarma-and-detox-yoga-retreat-in-khatmandu-nepal\n",
      "category cat , url https://www.bookyogaretreats.com/rikke-holmkvist-spiritual-counselor-and-clairvoyant-medium/3-day-spiritual-mentoring-retreat-with-clairvoyance-reading-yoga-meditation-in-ubud-bali\n",
      "category cat , url https://www.bookyogaretreats.com/pranasanti-yoga/3-day-healing-and-spirituality-yoga-and-meditation-retreat-in-ubud-bali\n",
      "category cat , url https://www.bookyogaretreats.com/naya-ubud/3-days-adventure-yoga-retreat-in-bali-indonesia\n",
      "NEW Page  https://www.bookyogaretreats.com/?page=146 \n",
      "----------------------\n",
      "category cat , url https://www.bookyogaretreats.com/nepal-ayurveda-home/21-days-ayurveda-and-yoga-retreat-course-in-kathmandu-nepal\n",
      "category cat , url https://www.bookyogaretreats.com/bianca-cassingena/4-week-online-self-mastery-program-with-12-live-sessions\n",
      "category cat , url https://www.bookyogaretreats.com/rishikesh-yog-shiksha/7-day-affordable-yoga-retreat-in-rishikesh-uttarakhand\n",
      "category cat , url https://www.bookyogaretreats.com/yogada-in-the-himalayas/10-days-atam-sukha-wellness-retreat-pleasure-thy-self-with-yoga-and-meditation-in-rishikesh\n",
      "category cat , url https://www.bookyogaretreats.com/amaru-wellbeing-resort/8-day-the-wellness-package-all-inclusive-yoga-and-meditation-holiday-in-punta-aposentillo-chinande\n"
     ]
    },
    {
     "name": "stdout",
     "output_type": "stream",
     "text": [
      "category cat , url https://www.bookyogaretreats.com/ajo-wellness-group/3-day-thrive-women-s-wellbeing-retreat-with-yoga-and-mindfulness-in-magaliesburg\n",
      "category cat , url https://www.bookyogaretreats.com/soulflow-oakland/5-day-awakening-your-full-potential-mount-shasta-meditation-retreat-with-yoga-and-martial-arts\n",
      "category cat , url https://www.bookyogaretreats.com/meditation-and-yoga-school/4-days-3-nights-healing-silent-meditation-nature-retreat-near-the-appalachian-mountains\n",
      "category cat , url https://www.bookyogaretreats.com/nirvana-yoga-and-meditation/5-day-50-hour-online-ashtanga-yoga-teacher-training-course\n",
      "category cat , url https://www.bookyogaretreats.com/yogada-in-the-himalayas/7-day-atam-sukha-wellness-retreat-with-yoga-and-ayurveda-in-shivpuri-uttarakhand\n",
      "category cat , url https://www.bookyogaretreats.com/santosa-detox-and-wellness-center/7-days-raw-food-fast-and-detox-retreat-in-phuket-thailand\n",
      "category cat , url https://www.bookyogaretreats.com/elephant-pass-ayurveda-yoga-retreat/14-days-3-hours-daily-yoga-and-ayurveda-retreat-in-india\n",
      "NEW Page  https://www.bookyogaretreats.com/?page=147 \n",
      "----------------------\n",
      "category cat , url https://www.bookyogaretreats.com/ayuskama-ayurveda-rishikesh/7-days-ayurveda-yoga-retreat-rishikesh-india\n",
      "category cat , url https://www.bookyogaretreats.com/tri-bikram-yoga/8-days-detox-meditation-and-yoga-retreat-in-pokhara-nepal\n",
      "category cat , url https://www.bookyogaretreats.com/nepal-ayurveda-home/29-days-ayurveda-panchakarma-and-detox-yoga-retreat-in-khatmandu-nepal\n",
      "category cat , url https://www.bookyogaretreats.com/anantara-angkor-resort/3-day-online-private-yoga-and-emotional-alchemy-training\n",
      "category cat , url https://www.bookyogaretreats.com/the-alena-resort/4-day-relaxation-wellness-meditation-and-purification-yoga-holiday-in-ubud-bali\n",
      "category cat , url https://www.bookyogaretreats.com/govindam-yoga/6-day-yoga-and-meditation-retreat-in-the-tranquility-of-nature-in-the-mountain-of-rishikesh\n",
      "category cat , url https://www.bookyogaretreats.com/naya-ubud/3-days-adventure-yoga-retreat-in-bali-indonesia\n",
      "category cat , url https://www.bookyogaretreats.com/naya-ubud/7-days-balinese-culture-and-yoga-retreat-in-bali-indonesia\n"
     ]
    },
    {
     "ename": "UnexpectedAlertPresentException",
     "evalue": "Alert Text: None\nMessage: Dismissed user prompt dialog: Не удается связаться с сервисом reCAPTCHA. Проверьте подключение к Интернету и повторите попытку.\nStacktrace:\nWebDriverError@chrome://marionette/content/error.js:175:5\nUnexpectedAlertOpenError@chrome://marionette/content/error.js:460:5\nGeckoDriver.prototype._handleUserPrompts@chrome://marionette/content/driver.js:3374:13\n",
     "output_type": "error",
     "traceback": [
      "\u001b[1;31m---------------------------------------------------------------------------\u001b[0m",
      "\u001b[1;31mUnexpectedAlertPresentException\u001b[0m           Traceback (most recent call last)",
      "\u001b[1;32m<ipython-input-4-2945dbf657e9>\u001b[0m in \u001b[0;36m<module>\u001b[1;34m\u001b[0m\n\u001b[0;32m    115\u001b[0m         \u001b[0mdriver\u001b[0m\u001b[1;33m.\u001b[0m\u001b[0mget\u001b[0m\u001b[1;33m(\u001b[0m\u001b[0murl\u001b[0m\u001b[1;33m)\u001b[0m\u001b[1;33m\u001b[0m\u001b[1;33m\u001b[0m\u001b[0m\n\u001b[0;32m    116\u001b[0m \u001b[1;33m\u001b[0m\u001b[0m\n\u001b[1;32m--> 117\u001b[1;33m         \u001b[0mprice_list\u001b[0m\u001b[1;33m=\u001b[0m\u001b[0mdriver\u001b[0m\u001b[1;33m.\u001b[0m\u001b[0mfind_elements_by_class_name\u001b[0m\u001b[1;33m(\u001b[0m\u001b[1;34m'price'\u001b[0m\u001b[1;33m)\u001b[0m\u001b[1;33m[\u001b[0m\u001b[1;36m0\u001b[0m\u001b[1;33m]\u001b[0m\u001b[1;33m.\u001b[0m\u001b[0mtext\u001b[0m\u001b[1;33m.\u001b[0m\u001b[0msplit\u001b[0m\u001b[1;33m(\u001b[0m\u001b[1;34m' '\u001b[0m\u001b[1;33m)\u001b[0m\u001b[1;33m\u001b[0m\u001b[1;33m\u001b[0m\u001b[0m\n\u001b[0m\u001b[0;32m    118\u001b[0m         \u001b[1;32mif\u001b[0m \u001b[0mlen\u001b[0m\u001b[1;33m(\u001b[0m\u001b[0mprice_list\u001b[0m\u001b[1;33m)\u001b[0m\u001b[1;33m<\u001b[0m\u001b[1;36m2\u001b[0m\u001b[1;33m:\u001b[0m\u001b[1;33m\u001b[0m\u001b[1;33m\u001b[0m\u001b[0m\n\u001b[0;32m    119\u001b[0m             \u001b[0mprice\u001b[0m\u001b[1;33m=\u001b[0m\u001b[1;32mNone\u001b[0m\u001b[1;33m\u001b[0m\u001b[1;33m\u001b[0m\u001b[0m\n",
      "\u001b[1;32mC:\\Anaconda\\envs\\torch\\lib\\site-packages\\selenium\\webdriver\\remote\\webdriver.py\u001b[0m in \u001b[0;36mfind_elements_by_class_name\u001b[1;34m(self, name)\u001b[0m\n\u001b[0;32m    781\u001b[0m             \u001b[0mstacklevel\u001b[0m\u001b[1;33m=\u001b[0m\u001b[1;36m2\u001b[0m\u001b[1;33m,\u001b[0m\u001b[1;33m\u001b[0m\u001b[1;33m\u001b[0m\u001b[0m\n\u001b[0;32m    782\u001b[0m         )\n\u001b[1;32m--> 783\u001b[1;33m         \u001b[1;32mreturn\u001b[0m \u001b[0mself\u001b[0m\u001b[1;33m.\u001b[0m\u001b[0mfind_elements\u001b[0m\u001b[1;33m(\u001b[0m\u001b[0mby\u001b[0m\u001b[1;33m=\u001b[0m\u001b[0mBy\u001b[0m\u001b[1;33m.\u001b[0m\u001b[0mCLASS_NAME\u001b[0m\u001b[1;33m,\u001b[0m \u001b[0mvalue\u001b[0m\u001b[1;33m=\u001b[0m\u001b[0mname\u001b[0m\u001b[1;33m)\u001b[0m\u001b[1;33m\u001b[0m\u001b[1;33m\u001b[0m\u001b[0m\n\u001b[0m\u001b[0;32m    784\u001b[0m \u001b[1;33m\u001b[0m\u001b[0m\n\u001b[0;32m    785\u001b[0m     \u001b[1;32mdef\u001b[0m \u001b[0mfind_element_by_css_selector\u001b[0m\u001b[1;33m(\u001b[0m\u001b[0mself\u001b[0m\u001b[1;33m,\u001b[0m \u001b[0mcss_selector\u001b[0m\u001b[1;33m)\u001b[0m \u001b[1;33m->\u001b[0m \u001b[0mWebElement\u001b[0m\u001b[1;33m:\u001b[0m\u001b[1;33m\u001b[0m\u001b[1;33m\u001b[0m\u001b[0m\n",
      "\u001b[1;32mC:\\Anaconda\\envs\\torch\\lib\\site-packages\\selenium\\webdriver\\remote\\webdriver.py\u001b[0m in \u001b[0;36mfind_elements\u001b[1;34m(self, by, value)\u001b[0m\n\u001b[0;32m   1277\u001b[0m         \u001b[1;31m# Return empty list if driver returns null\u001b[0m\u001b[1;33m\u001b[0m\u001b[1;33m\u001b[0m\u001b[1;33m\u001b[0m\u001b[0m\n\u001b[0;32m   1278\u001b[0m         \u001b[1;31m# See https://github.com/SeleniumHQ/selenium/issues/4555\u001b[0m\u001b[1;33m\u001b[0m\u001b[1;33m\u001b[0m\u001b[1;33m\u001b[0m\u001b[0m\n\u001b[1;32m-> 1279\u001b[1;33m         return self.execute(Command.FIND_ELEMENTS, {\n\u001b[0m\u001b[0;32m   1280\u001b[0m             \u001b[1;34m'using'\u001b[0m\u001b[1;33m:\u001b[0m \u001b[0mby\u001b[0m\u001b[1;33m,\u001b[0m\u001b[1;33m\u001b[0m\u001b[1;33m\u001b[0m\u001b[0m\n\u001b[0;32m   1281\u001b[0m             'value': value})['value'] or []\n",
      "\u001b[1;32mC:\\Anaconda\\envs\\torch\\lib\\site-packages\\selenium\\webdriver\\remote\\webdriver.py\u001b[0m in \u001b[0;36mexecute\u001b[1;34m(self, driver_command, params)\u001b[0m\n\u001b[0;32m    422\u001b[0m         \u001b[0mresponse\u001b[0m \u001b[1;33m=\u001b[0m \u001b[0mself\u001b[0m\u001b[1;33m.\u001b[0m\u001b[0mcommand_executor\u001b[0m\u001b[1;33m.\u001b[0m\u001b[0mexecute\u001b[0m\u001b[1;33m(\u001b[0m\u001b[0mdriver_command\u001b[0m\u001b[1;33m,\u001b[0m \u001b[0mparams\u001b[0m\u001b[1;33m)\u001b[0m\u001b[1;33m\u001b[0m\u001b[1;33m\u001b[0m\u001b[0m\n\u001b[0;32m    423\u001b[0m         \u001b[1;32mif\u001b[0m \u001b[0mresponse\u001b[0m\u001b[1;33m:\u001b[0m\u001b[1;33m\u001b[0m\u001b[1;33m\u001b[0m\u001b[0m\n\u001b[1;32m--> 424\u001b[1;33m             \u001b[0mself\u001b[0m\u001b[1;33m.\u001b[0m\u001b[0merror_handler\u001b[0m\u001b[1;33m.\u001b[0m\u001b[0mcheck_response\u001b[0m\u001b[1;33m(\u001b[0m\u001b[0mresponse\u001b[0m\u001b[1;33m)\u001b[0m\u001b[1;33m\u001b[0m\u001b[1;33m\u001b[0m\u001b[0m\n\u001b[0m\u001b[0;32m    425\u001b[0m             response['value'] = self._unwrap_value(\n\u001b[0;32m    426\u001b[0m                 response.get('value', None))\n",
      "\u001b[1;32mC:\\Anaconda\\envs\\torch\\lib\\site-packages\\selenium\\webdriver\\remote\\errorhandler.py\u001b[0m in \u001b[0;36mcheck_response\u001b[1;34m(self, response)\u001b[0m\n\u001b[0;32m    244\u001b[0m             \u001b[1;32melif\u001b[0m \u001b[1;34m'alert'\u001b[0m \u001b[1;32min\u001b[0m \u001b[0mvalue\u001b[0m\u001b[1;33m:\u001b[0m\u001b[1;33m\u001b[0m\u001b[1;33m\u001b[0m\u001b[0m\n\u001b[0;32m    245\u001b[0m                 \u001b[0malert_text\u001b[0m \u001b[1;33m=\u001b[0m \u001b[0mvalue\u001b[0m\u001b[1;33m[\u001b[0m\u001b[1;34m'alert'\u001b[0m\u001b[1;33m]\u001b[0m\u001b[1;33m.\u001b[0m\u001b[0mget\u001b[0m\u001b[1;33m(\u001b[0m\u001b[1;34m'text'\u001b[0m\u001b[1;33m)\u001b[0m\u001b[1;33m\u001b[0m\u001b[1;33m\u001b[0m\u001b[0m\n\u001b[1;32m--> 246\u001b[1;33m             \u001b[1;32mraise\u001b[0m \u001b[0mexception_class\u001b[0m\u001b[1;33m(\u001b[0m\u001b[0mmessage\u001b[0m\u001b[1;33m,\u001b[0m \u001b[0mscreen\u001b[0m\u001b[1;33m,\u001b[0m \u001b[0mstacktrace\u001b[0m\u001b[1;33m,\u001b[0m \u001b[0malert_text\u001b[0m\u001b[1;33m)\u001b[0m  \u001b[1;31m# type: ignore[call-arg]  # mypy is not smart enough here\u001b[0m\u001b[1;33m\u001b[0m\u001b[1;33m\u001b[0m\u001b[0m\n\u001b[0m\u001b[0;32m    247\u001b[0m         \u001b[1;32mraise\u001b[0m \u001b[0mexception_class\u001b[0m\u001b[1;33m(\u001b[0m\u001b[0mmessage\u001b[0m\u001b[1;33m,\u001b[0m \u001b[0mscreen\u001b[0m\u001b[1;33m,\u001b[0m \u001b[0mstacktrace\u001b[0m\u001b[1;33m)\u001b[0m\u001b[1;33m\u001b[0m\u001b[1;33m\u001b[0m\u001b[0m\n\u001b[0;32m    248\u001b[0m \u001b[1;33m\u001b[0m\u001b[0m\n",
      "\u001b[1;31mUnexpectedAlertPresentException\u001b[0m: Alert Text: None\nMessage: Dismissed user prompt dialog: Не удается связаться с сервисом reCAPTCHA. Проверьте подключение к Интернету и повторите попытку.\nStacktrace:\nWebDriverError@chrome://marionette/content/error.js:175:5\nUnexpectedAlertOpenError@chrome://marionette/content/error.js:460:5\nGeckoDriver.prototype._handleUserPrompts@chrome://marionette/content/driver.js:3374:13\n"
     ]
    }
   ],
   "source": [
    "main_page_url='https://www.bookyogaretreats.com'\n",
    "\n",
    "ua = UserAgent(verify_ssl=False)\n",
    "headers = {'User-Agent': ua.random}\n",
    "\n",
    "\n",
    "r = requests.get(main_page_url,headers=headers)\n",
    "response = r.text.encode('utf-8')\n",
    "soup = BeautifulSoup(response)\n",
    "\n",
    "categories_raw=soup.findAll('li', {'class': 'fakeCheck'})\n",
    "categories_raw=[' '.join(category.text.replace('\\n','').split(' ')[:-1]) for category in categories_raw][12:-4]\n",
    "categories=[]\n",
    "\n",
    "driver = webdriver.Firefox(executable_path= r\"D:\\загрузки\\geckodriver-v0.30.0-win64\\geckodriver.exe\")\n",
    "\n",
    "for i,category in enumerate(categories_raw):\n",
    "        if 'level' in category.lower():\n",
    "            categories.append(category.split(' ')[1])\n",
    "        else:\n",
    "            categories.append(category)\n",
    "\n",
    "\n",
    "# c_u=category_page_url=main_page_url+f'/sr?c={cat}&page={page}'\n",
    "            \n",
    "for page in range(147,428):\n",
    "#     cat='-'.join(category.split(' ')).lower()\n",
    "    cat='cat '\n",
    "#     stop=False\n",
    "\n",
    "#     data_categories[cat]=[]\n",
    "#     while stop is False:\n",
    "        \n",
    "    page_url=main_page_url+f'/?page={page}'\n",
    "    print('NEW Page ',page_url,'\\n----------------------')\n",
    "\n",
    "    # страница каталога \n",
    "    r = requests.get(page_url,headers=headers)\n",
    "    response = r.text.encode('utf-8')\n",
    "    soup = BeautifulSoup(response)\n",
    "\n",
    "    # если такой страницы нет, т.е. каталог закончился\n",
    "    error=soup.findAll('div', {'id': 'error-page'})\n",
    "\n",
    "    if len(error)>0:\n",
    "        stop=True\n",
    "        print(f'####Category page {page} ERROR####')\n",
    "        break\n",
    "\n",
    "    text = soup.findAll('a', {'class': 'js-showcard-link'},href=True)\n",
    "    card_urls=[]\n",
    "    for t in text:\n",
    "        card_urls.append(t['href'])\n",
    "\n",
    "    for card_url in card_urls:\n",
    "\n",
    "        url = f'{main_page_url}{card_url}'\n",
    "        print(f'category {cat}, url {url}')\n",
    "        r = requests.get(url,headers=headers)\n",
    "        response = r.text.encode('utf-8')\n",
    "        soup = BeautifulSoup(response,'html.parser')\n",
    "\n",
    "        error=soup.findAll('div', {'id': 'error-page'})\n",
    "        if len(error)>0:\n",
    "            continue\n",
    "\n",
    "\n",
    "        arr=soup.findAll('div', {'class': 'listing-overview__notes'})[0].text.split('\\n')\n",
    "        arr=[ a for a in arr if a!='']\n",
    "        duration=arr[0].split(' ')[0]\n",
    "\n",
    "        title=soup.findAll('h1', {'class': 'listing-title__title title listing-title-new'})[0].text\n",
    "#             data_categories[cat].append(title)\n",
    "\n",
    "        arrival=soup.findAll('span', {'class': 'js-sc1-inquiry-modal-arrival'})\n",
    "        if len(arrival)!=0:\n",
    "            arrival=arrival[0].text\n",
    "            arrival=arrival.replace(',','').split(' ')\n",
    "            arrival[1]=arrival[1][:3]\n",
    "            arrival=' '.join(arrival[1:])\n",
    "            arrival=datetime.strptime(arrival, '%b %d %Y').date()\n",
    "        else:\n",
    "            arrival=None\n",
    "\n",
    "        departure=soup.findAll('span', {'class': 'js-sc1-inquiry-modal-departure'})\n",
    "        if len(departure)!=0:\n",
    "            departure=departure[0].text\n",
    "            departure=departure.replace(',','').split(' ')\n",
    "            departure[1]=departure[1][:3]\n",
    "            departure=' '.join(departure[1:])\n",
    "            departure=datetime.strptime(departure, '%b %d %Y').date()\n",
    "        else:\n",
    "            departure=None\n",
    "\n",
    "        organizer=soup.findAll('div', {'class': 'listing-organizer-card__content'})[0].text[20:].split('\\n')[0]\n",
    "\n",
    "        location=soup.findAll('div', {'class': 'listing-title__location listing-location-new'})\n",
    "        if len(location[0])!=0:\n",
    "            location=location[0].text\n",
    "        else:\n",
    "            location=None\n",
    "\n",
    "        arr=soup.findAll('div', {'class': 'listing-overview__notes'})[0].text.split('\\n')\n",
    "        arr=[ a for a in arr if a!='']\n",
    "        group_size=[a for a in arr if 'Group' in a]\n",
    "\n",
    "        if len(group_size)!=0:\n",
    "            if len(group_size[0].split(' '))==6:\n",
    "                 group_size=group_size[0].split(' ')[4]\n",
    "            elif len(group_size[0].split(' '))==4:\n",
    "                group_size=group_size[0].split(' ')[2]\n",
    "        else:\n",
    "            group_size=None\n",
    "\n",
    "        driver.get(url)\n",
    "        \n",
    "        price_list=driver.find_elements_by_class_name('price')[0].text.split(' ')\n",
    "        if len(price_list)<2:\n",
    "            price=None\n",
    "        else:\n",
    "            price=price_list[1]\n",
    "\n",
    "        data=data.append({'title': [title],'duration': [duration], 'arrival': [arrival], 'departure':[departure] ,\n",
    "                          'organizer': [organizer], 'location': [location], 'group_size': [group_size],\n",
    "                          'price': [price]}, ignore_index=True)\n",
    "    data.to_csv('data.csv', encoding = 'utf-8')\n",
    "#         np.save('data_categories.npy',data_categories)\n",
    "\n",
    "#         page+=1"
   ]
  },
  {
   "cell_type": "code",
   "execution_count": 33,
   "metadata": {},
   "outputs": [
    {
     "name": "stderr",
     "output_type": "stream",
     "text": [
      "<ipython-input-33-8ea8e88faf2c>:1: DeprecationWarning: find_elements_by_* commands are deprecated. Please use find_elements() instead\n",
      "  driver.find_elements_by_class_name('price')[0].text\n"
     ]
    },
    {
     "data": {
      "text/plain": [
       "'--'"
      ]
     },
     "execution_count": 33,
     "metadata": {},
     "output_type": "execute_result"
    }
   ],
   "source": [
    "driver.find_elements_by_class_name('price')[0].text"
   ]
  },
  {
   "cell_type": "code",
   "execution_count": 258,
   "metadata": {},
   "outputs": [],
   "source": [
    "cat='-'.join(categories[0].split(' '))\n",
    "category_page_url=main_page_url+f'/sr?c={cat}'"
   ]
  }
 ],
 "metadata": {
  "kernelspec": {
   "display_name": "torch",
   "language": "python",
   "name": "torch"
  },
  "language_info": {
   "codemirror_mode": {
    "name": "ipython",
    "version": 3
   },
   "file_extension": ".py",
   "mimetype": "text/x-python",
   "name": "python",
   "nbconvert_exporter": "python",
   "pygments_lexer": "ipython3",
   "version": "3.8.12"
  }
 },
 "nbformat": 4,
 "nbformat_minor": 4
}
