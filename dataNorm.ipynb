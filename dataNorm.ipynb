{
 "cells": [
  {
   "cell_type": "code",
   "execution_count": 3,
   "metadata": {
    "collapsed": true,
    "pycharm": {
     "is_executing": false
    }
   },
   "outputs": [],
   "source": [
    "import pandas as pd\n",
    "import numpy as np\n"
   ]
  },
  {
   "cell_type": "code",
   "execution_count": 118,
   "outputs": [],
   "source": [
    "data = pd.read_csv('data.csv')"
   ],
   "metadata": {
    "collapsed": false,
    "pycharm": {
     "name": "#%%\n",
     "is_executing": false
    }
   }
  },
  {
   "cell_type": "code",
   "execution_count": 119,
   "outputs": [
    {
     "data": {
      "text/plain": "         date         sign                                               text\n0  2004-01-01        aries  Любые разногласия во мнениях скоро улягутся, а...\n1  2004-01-01       gemini  Первый день нового года прекрасно подходит для...\n2  2004-01-01       taurus  Этот день как нельзя лучше подходит для улучше...\n3  2004-01-01       cancer  Первый день нового года, да еще понедельник бу...\n4  2004-01-01          leo  Львы не сорвутся в начале года с места в карье...\n5  2004-01-01        virgo  Сегодняшнее расположение звезд может усилить д...\n6  2004-01-01        libra  В этот день вы, судя по всему, будете в более ...\n7  2004-01-01      scorpio  Этот день благоприятен для деловых встреч, зна...\n8  2004-01-01  sagittarius  Вероятны ухудшение самочувствия или проблемы с...\n9  2004-01-01    capricorn  Первый день года будет для вас днем, когда вам...",
      "text/html": "<div>\n<style scoped>\n    .dataframe tbody tr th:only-of-type {\n        vertical-align: middle;\n    }\n\n    .dataframe tbody tr th {\n        vertical-align: top;\n    }\n\n    .dataframe thead th {\n        text-align: right;\n    }\n</style>\n<table border=\"1\" class=\"dataframe\">\n  <thead>\n    <tr style=\"text-align: right;\">\n      <th></th>\n      <th>date</th>\n      <th>sign</th>\n      <th>text</th>\n    </tr>\n  </thead>\n  <tbody>\n    <tr>\n      <th>0</th>\n      <td>2004-01-01</td>\n      <td>aries</td>\n      <td>Любые разногласия во мнениях скоро улягутся, а...</td>\n    </tr>\n    <tr>\n      <th>1</th>\n      <td>2004-01-01</td>\n      <td>gemini</td>\n      <td>Первый день нового года прекрасно подходит для...</td>\n    </tr>\n    <tr>\n      <th>2</th>\n      <td>2004-01-01</td>\n      <td>taurus</td>\n      <td>Этот день как нельзя лучше подходит для улучше...</td>\n    </tr>\n    <tr>\n      <th>3</th>\n      <td>2004-01-01</td>\n      <td>cancer</td>\n      <td>Первый день нового года, да еще понедельник бу...</td>\n    </tr>\n    <tr>\n      <th>4</th>\n      <td>2004-01-01</td>\n      <td>leo</td>\n      <td>Львы не сорвутся в начале года с места в карье...</td>\n    </tr>\n    <tr>\n      <th>5</th>\n      <td>2004-01-01</td>\n      <td>virgo</td>\n      <td>Сегодняшнее расположение звезд может усилить д...</td>\n    </tr>\n    <tr>\n      <th>6</th>\n      <td>2004-01-01</td>\n      <td>libra</td>\n      <td>В этот день вы, судя по всему, будете в более ...</td>\n    </tr>\n    <tr>\n      <th>7</th>\n      <td>2004-01-01</td>\n      <td>scorpio</td>\n      <td>Этот день благоприятен для деловых встреч, зна...</td>\n    </tr>\n    <tr>\n      <th>8</th>\n      <td>2004-01-01</td>\n      <td>sagittarius</td>\n      <td>Вероятны ухудшение самочувствия или проблемы с...</td>\n    </tr>\n    <tr>\n      <th>9</th>\n      <td>2004-01-01</td>\n      <td>capricorn</td>\n      <td>Первый день года будет для вас днем, когда вам...</td>\n    </tr>\n  </tbody>\n</table>\n</div>"
     },
     "metadata": {},
     "output_type": "execute_result",
     "execution_count": 119
    }
   ],
   "source": [
    "data.head(10)"
   ],
   "metadata": {
    "collapsed": false,
    "pycharm": {
     "name": "#%%\n",
     "is_executing": false
    }
   }
  },
  {
   "cell_type": "code",
   "execution_count": 73,
   "outputs": [],
   "source": [
    "text=data['text'][0]\n",
    "text=text.replace(' Читать далее','')\n",
    "data['text'][0]=text"
   ],
   "metadata": {
    "collapsed": false,
    "pycharm": {
     "name": "#%%\n",
     "is_executing": false
    }
   }
  },
  {
   "cell_type": "code",
   "execution_count": 81,
   "outputs": [
    {
     "data": {
      "text/plain": "'Любые разногласия во мнениях скоро улягутся, а вы продолжайте делать, как делали, но постарайтесь не наступать на ноги слишком многим, иначе ваши сегодняшние действия сыграют против вас в будущем.'"
     },
     "metadata": {},
     "output_type": "execute_result",
     "execution_count": 81
    }
   ],
   "source": [
    "data['text'][0]"
   ],
   "metadata": {
    "collapsed": false,
    "pycharm": {
     "name": "#%%\n",
     "is_executing": false
    }
   }
  },
  {
   "cell_type": "code",
   "execution_count": 95,
   "outputs": [],
   "source": [
    "for i in range (len(data)):\n",
    "    text=str(data['text'][i])\n",
    "    text=text.replace('Читать далее','')\n",
    "    data['text'][i]=text"
   ],
   "metadata": {
    "collapsed": false,
    "pycharm": {
     "name": "#%%\n",
     "is_executing": false
    }
   }
  },
  {
   "cell_type": "code",
   "execution_count": 115,
   "outputs": [],
   "source": [
    "data.to_csv('data.csv', encoding = 'utf-8')"
   ],
   "metadata": {
    "collapsed": false,
    "pycharm": {
     "name": "#%%\n",
     "is_executing": false
    }
   }
  },
  {
   "cell_type": "code",
   "execution_count": 101,
   "outputs": [
    {
     "data": {
      "text/plain": "Unnamed: 0                                                46710\ndate                                                 2014-09-03\nsign                                                sagittarius\ntext          На интересы Стрельцов сегодня работает их собс...\nName: 46710, dtype: object"
     },
     "metadata": {},
     "output_type": "execute_result",
     "execution_count": 101
    }
   ],
   "source": [
    "data.loc[46710]\n"
   ],
   "metadata": {
    "collapsed": false,
    "pycharm": {
     "name": "#%%\n",
     "is_executing": false
    }
   }
  }
 ],
 "metadata": {
  "kernelspec": {
   "display_name": "Python 3",
   "language": "python",
   "name": "python3"
  },
  "language_info": {
   "codemirror_mode": {
    "name": "ipython",
    "version": 2
   },
   "file_extension": ".py",
   "mimetype": "text/x-python",
   "name": "python",
   "nbconvert_exporter": "python",
   "pygments_lexer": "ipython2",
   "version": "2.7.6"
  },
  "pycharm": {
   "stem_cell": {
    "cell_type": "raw",
    "source": [],
    "metadata": {
     "collapsed": false
    }
   }
  }
 },
 "nbformat": 4,
 "nbformat_minor": 0
}