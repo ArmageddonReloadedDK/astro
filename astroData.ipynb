{
 "cells": [
  {
   "cell_type": "code",
   "execution_count": 2,
   "metadata": {},
   "outputs": [
    {
     "name": "stderr",
     "output_type": "stream",
     "text": [
      "Using TensorFlow backend.\n"
     ]
    }
   ],
   "source": [
    "from keras.layers.core import Activation, Dense, Dropout\n",
    "from keras.layers import concatenate,Reshape,Add,LSTM,Multiply\n",
    "from keras.layers.embeddings import Embedding\n",
    "from keras.layers.recurrent import LSTM\n",
    "from keras.models import Sequential,Model\n",
    "from keras import Model\n",
    "from keras.preprocessing import sequence\n",
    "from sklearn.model_selection import train_test_split\n",
    "from keras import Input\n",
    "import keras\n",
    "import numpy as np\n",
    "import collections\n",
    "from keras.preprocessing.sequence import TimeseriesGenerator\n",
    "from keras.preprocessing.text import text_to_word_sequence\n",
    "from nltk.tokenize import word_tokenize\n",
    "from nltk.corpus import stopwords\n",
    "import nltk\n",
    "import string\n",
    "import pandas as pd\n",
    "import numpy as np\n",
    "from matplotlib import pyplot as plt\n",
    "import pymorphy2\n",
    "import gensim\n",
    "#nltk.download('punkt')\n",
    "#nltk.download('stopwords')\n"
   ]
  },
  {
   "cell_type": "code",
   "execution_count": 3,
   "metadata": {},
   "outputs": [],
   "source": [
    "data=np.array(pd.read_csv('data.csv'))"
   ]
  },
  {
   "cell_type": "code",
   "execution_count": 4,
   "metadata": {},
   "outputs": [
    {
     "data": {
      "text/plain": [
       "array(['2004-01-04', 'capricorn',\n",
       "       'Не будьте слишком настойчивы, побольше оригинальности в поступках. Дело, запланированное на сегодня, успешно завершится, а его плоды вы начнете собирать в скором будущем.'],\n",
       "      dtype=object)"
      ]
     },
     "execution_count": 4,
     "metadata": {},
     "output_type": "execute_result"
    }
   ],
   "source": [
    "data[45]"
   ]
  },
  {
   "cell_type": "code",
   "execution_count": 4,
   "metadata": {},
   "outputs": [
    {
     "name": "stdout",
     "output_type": "stream",
     "text": [
      "['и', 'в', 'а', 'с', 'но', 'у', 'я', 'же']\n"
     ]
    }
   ],
   "source": [
    "russian_stopwords = ['и', 'в', 'а', 'с', 'но', 'у', 'я', 'же'] #укороченная последовательность стопслов\n",
    "#russian_stopwords = set(stopwords.words('russian')) #результат может ухудшаться\n",
    "print(russian_stopwords)"
   ]
  },
  {
   "cell_type": "markdown",
   "metadata": {},
   "source": [
    "### Функция для преобразования списка предложений в очищенный от лишних слов список предложений и разбитый по словам:"
   ]
  },
  {
   "cell_type": "code",
   "execution_count": null,
   "metadata": {},
   "outputs": [],
   "source": [
    "def textToList(text):\n",
    "review_lines = list()\n",
    "for line in text:\n",
    "    if line.strip() != \"\":\n",
    "        tokens = word_tokenize(line)\n",
    "        tokens = [w.lower() for w in tokens] #приводим Case к нижнему регистру\n",
    "        table = str.maketrans('', '', string.punctuation)\n",
    "        stripped = [w.translate(table) for w in tokens]\n",
    "        words = [word for word in stripped if word.isalpha()] #убираем токены, которые не являются символами\n",
    "        words = [w for w in words if not w in russian_stopwords]\n",
    "    if (len(words) > 0):\n",
    "        review_lines.append(words)\n",
    "return review_lines  "
   ]
  },
  {
   "cell_type": "code",
   "execution_count": null,
   "metadata": {},
   "outputs": [],
   "source": [
    "def processText(text_list):\n",
    "    tokens = [text_to_word_sequence(line, filters='!\"#$%&amp;()*+,-./:;&lt;=>?@[\\\\]^_`{|}~\\t\\n\\ufeff 🏠🚗😈🤦🤦‍♂️‼️♥❤️💗😻',\n",
    "                                    lower=True, split=' ') for line in text_list]\n",
    "    review_lines = list()\n",
    "    for words in tokens:\n",
    "        words = [w for w in words if w.isalpha()] #убираем токены, которые не являются символами\n",
    "        words = [w for w in words if not w in russian_stopwords] #убираем стопслова\n",
    "        review_lines.append(words)\n",
    "    return review_lines  "
   ]
  },
  {
   "cell_type": "code",
   "execution_count": null,
   "metadata": {},
   "outputs": [],
   "source": [
    "writers_lines = processText(writers_x_train_all)\n",
    "print(writers_lines)\n",
    "print(len(writers_lines))"
   ]
  },
  {
   "cell_type": "markdown",
   "metadata": {},
   "source": [
    "Создадим слой embedding, обучив модель Word2Vec на своих данных."
   ]
  },
  {
   "cell_type": "code",
   "execution_count": null,
   "metadata": {},
   "outputs": [],
   "source": [
    "EMBEDDING_DIM = 100\n",
    "w2v=gensim.models.Word2Vec(sentences = writers_lines, size = EMBEDDING_DIM, min_count = 1, window = 5)"
   ]
  },
  {
   "cell_type": "code",
   "execution_count": null,
   "metadata": {},
   "outputs": [],
   "source": [
    "w2v = Word2Vec(min_count=1)\n",
    "w2v.build_vocab(sentences)  # prepare the model vocabulary\n",
    "w2v.train(sentences = writers_lines, total_examples=w2v.corpus_count, epochs=20)"
   ]
  },
  {
   "cell_type": "code",
   "execution_count": null,
   "metadata": {},
   "outputs": [],
   "source": [
    "words = list(w2v.wv.vocab)\n",
    "print(\"Размер словаря\", len(words))"
   ]
  }
 ],
 "metadata": {
  "kernelspec": {
   "display_name": "env_neuro",
   "language": "python",
   "name": "env_neuro"
  },
  "language_info": {
   "codemirror_mode": {
    "name": "ipython",
    "version": 3
   },
   "file_extension": ".py",
   "mimetype": "text/x-python",
   "name": "python",
   "nbconvert_exporter": "python",
   "pygments_lexer": "ipython3",
   "version": "3.6.10"
  }
 },
 "nbformat": 4,
 "nbformat_minor": 4
}
