{
 "cells": [
  {
   "cell_type": "code",
   "execution_count": null,
   "metadata": {
    "pycharm": {
     "name": "#%%\n"
    }
   },
   "outputs": [],
   "source": [
    "import pandas as pd\n",
    "import numpy as np\n",
    "from matplotlib import pyplot as plt\n",
    "import torch\n",
    "from transformers import GPT2LMHeadModel, GPT2Tokenizer\n",
    "from datasets import load_dataset"
   ]
  },
  {
   "cell_type": "code",
   "execution_count": null,
   "outputs": [],
   "source": [
    "dataset = load_dataset(\"dkagramanyan/horoscopes_ru\")"
   ],
   "metadata": {
    "collapsed": false,
    "pycharm": {
     "name": "#%%\n"
    }
   }
  },
  {
   "cell_type": "code",
   "execution_count": 14,
   "outputs": [],
   "source": [
    "def dataset2gpt(dataset, file_name):\n",
    "    with open(f'{file_name}.txt', 'w', encoding='utf-8') as f:\n",
    "        for line in dataset:\n",
    "            date = line['date']\n",
    "            date = date.split('-')\n",
    "            date = date[2] + '-' + date[1] + '-' + date[0]\n",
    "            sign = line['sign'].capitalize()\n",
    "            text = line['text']\n",
    "            context = '<s>' + sign + ' ' + date + '\\n' + text + '</s>\\n'\n",
    "            f.write(context)\n",
    "        f.close()"
   ],
   "metadata": {
    "collapsed": false,
    "pycharm": {
     "name": "#%%\n"
    }
   }
  },
  {
   "cell_type": "code",
   "execution_count": 15,
   "outputs": [],
   "source": [
    "dataset2gpt(dataset['train'],'train_horoscopes')\n",
    "dataset2gpt(dataset['test'],'test_horoscopes')"
   ],
   "metadata": {
    "collapsed": false,
    "pycharm": {
     "name": "#%%\n"
    }
   }
  },
  {
   "cell_type": "markdown",
   "metadata": {
    "pycharm": {
     "name": "#%% md\n"
    }
   },
   "source": [
    "[Дообучение](https://github.com/sberbank-ai/ru-gpts/blob/master/examples/Finetune_RuGPTs_with_HF.ipynb) GPT3small на своем наборе данных"
   ]
  },
  {
   "cell_type": "markdown",
   "source": [
    "python ru-gpts/pretrain_transformers.py --output_dir=models/horoscopes --model_type=gpt2 --model_name_or_path=sberbank-ai/rugpt3small_based_on_gpt2 --do_train --train_data_file=train_horoscopes.txt --do_eval --eval_data_file=test_horoscopes.txt --per_gpu_train_batch_size 15 --gradient_accumulation_steps 1 --num_train_epochs 10 --block_size 2048 --overwrite_output_dir\n",
    "\n",
    "python ru-gpts/generate_transformers.py --model_type=gpt2 --model_name_or_path=models/essays --k=5 --p=0.95 --length=50 --repetition_penalty=5"
   ],
   "metadata": {
    "collapsed": false,
    "pycharm": {
     "name": "#%% md\n"
    }
   }
  },
  {
   "cell_type": "markdown",
   "source": [
    "# Prepare training dataset"
   ],
   "metadata": {
    "collapsed": false,
    "pycharm": {
     "name": "#%% md\n"
    }
   }
  },
  {
   "cell_type": "code",
   "execution_count": null,
   "metadata": {
    "pycharm": {
     "name": "#%%\n"
    }
   },
   "outputs": [],
   "source": [
    "signs_r = ['овен', 'близнецы', 'телец', 'рак', 'лев', 'дева', 'весы', 'скорпион', 'стрелец', 'козерог', 'водолей',\n",
    "           'рыбы']"
   ]
  },
  {
   "cell_type": "code",
   "execution_count": null,
   "metadata": {
    "pycharm": {
     "name": "#%%\n"
    }
   },
   "outputs": [],
   "source": [
    "text = data.values[:, 2]\n",
    "vals = np.zeros((text.shape[0]))\n",
    "for i, line in enumerate(text):\n",
    "    vals[i] = len(line.split())\n",
    "print(vals.max())\n",
    "print(vals.mean())\n",
    "print(vals.std())"
   ]
  },
  {
   "cell_type": "code",
   "execution_count": null,
   "metadata": {
    "pycharm": {
     "name": "#%%\n"
    }
   },
   "outputs": [],
   "source": [
    "plt.figure(figsize=(10, 10))\n",
    "plt.hist(vals, bins=50)"
   ]
  },
  {
   "cell_type": "markdown",
   "source": [
    "# Text generation"
   ],
   "metadata": {
    "collapsed": false,
    "pycharm": {
     "name": "#%% md\n"
    }
   }
  },
  {
   "cell_type": "code",
   "execution_count": null,
   "outputs": [],
   "source": [
    "#signs=['aries','gemini','taurus','cancer','leo','virgo','libra','scorpio','sagittarius','capricorn','aquarius','pisces']\n",
    "signs_r = ['овен', 'близнецы', 'телец', 'рак', 'лев', 'дева', 'весы', 'скорпион', 'стрелец', 'козерог', 'водолей',\n",
    "           'рыбы']\n",
    "sign_dict = {'aries': 'овен',\n",
    "             'gemini': 'близнецы',\n",
    "             'taurus': 'телец',\n",
    "             'cancer': 'рак',\n",
    "             'leo': 'лев',\n",
    "             'virgo': 'дева',\n",
    "             'libra': ' весы',\n",
    "             'scorpio': 'скорпион',\n",
    "             'sagittarius': 'стрелец',\n",
    "             'capricorn': 'козерог',\n",
    "             'aquarius': 'водолей',\n",
    "             'pisces': 'рыбы'}"
   ],
   "metadata": {
    "collapsed": false,
    "pycharm": {
     "name": "#%%\n"
    }
   }
  },
  {
   "cell_type": "code",
   "execution_count": null,
   "metadata": {
    "pycharm": {
     "name": "#%%\n"
    }
   },
   "outputs": [],
   "source": [
    "model_path = 'models/astro_gpt3large'\n",
    "tok = GPT2Tokenizer.from_pretrained(model_path)\n",
    "model = GPT2LMHeadModel.from_pretrained(model_path)\n",
    "model.cuda()"
   ]
  },
  {
   "cell_type": "code",
   "execution_count": null,
   "metadata": {
    "pycharm": {
     "name": "#%%\n"
    }
   },
   "outputs": [],
   "source": [
    "for sig in signs_r:\n",
    "    text = \"<s> \" + sig\n",
    "    inpt = tok.encode(text, return_tensors=\"pt\")\n",
    "    out = model.generate(inpt.cuda(),\n",
    "                         max_length=100\n",
    "                         ,\n",
    "                         repetition_penalty=5.0,\n",
    "\n",
    "                         do_sample=True, top_k=5,\n",
    "                         top_p=0.95,\n",
    "                         temperature=1)\n",
    "    predict = tok.decode(out[0])\n",
    "    print(sig.capitalize() + '\\n' + str(predict).capitalize() + '\\n')"
   ]
  }
 ],
 "metadata": {
  "kernelspec": {
   "display_name": "torch",
   "language": "python",
   "name": "torch"
  },
  "language_info": {
   "codemirror_mode": {
    "name": "ipython",
    "version": 3
   },
   "file_extension": ".py",
   "mimetype": "text/x-python",
   "name": "python",
   "nbconvert_exporter": "python",
   "pygments_lexer": "ipython3",
   "version": "3.6.13"
  }
 },
 "nbformat": 4,
 "nbformat_minor": 4
}