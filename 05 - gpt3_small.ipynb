{
 "cells": [
  {
   "cell_type": "code",
   "execution_count": null,
   "metadata": {},
   "outputs": [],
   "source": [
    "import pandas as pd\n",
    "import numpy as np\n",
    "from matplotlib import pyplot as plt\n",
    "import torch\n",
    "from transformers import GPT2LMHeadModel, GPT2Tokenizer"
   ]
  },
  {
   "cell_type": "markdown",
   "metadata": {},
   "source": [
    "[Дообучение](https://github.com/sberbank-ai/ru-gpts/blob/master/examples/Finetune_RuGPTs_with_HF.ipynb) GPT3small на своем наборе данных"
   ]
  },
  {
   "cell_type": "markdown",
   "source": [
    "# Prepare training dataset"
   ],
   "metadata": {
    "collapsed": false,
    "pycharm": {
     "name": "#%% md\n"
    }
   }
  },
  {
   "cell_type": "code",
   "execution_count": null,
   "metadata": {},
   "outputs": [],
   "source": [
    "data=pd.read_csv('data.csv')\n",
    "data.columns"
   ]
  },
  {
   "cell_type": "code",
   "execution_count": null,
   "metadata": {},
   "outputs": [],
   "source": [
    "#signs=['aries','gemini','taurus','cancer','leo','virgo','libra','scorpio','sagittarius','capricorn','aquarius','pisces']\n",
    "signs_r=['овен','близнецы','телец','рак','лев','дева','весы','скорпион','стрелец','козерог','водолей','рыбы']\n",
    "sign_dict={'aries':'овен',\n",
    "           'gemini':'близнецы',\n",
    "           'taurus':'телец',\n",
    "           'cancer':'рак',\n",
    "           'leo':'лев',\n",
    "           'virgo':'дева',\n",
    "           'libra':' весы',\n",
    "           'scorpio':'скорпион',\n",
    "           'sagittarius':'стрелец',\n",
    "           'capricorn':'козерог',\n",
    "           'aquarius':'водолей',\n",
    "           'pisces':'рыбы'}"
   ]
  },
  {
   "cell_type": "code",
   "execution_count": null,
   "metadata": {},
   "outputs": [],
   "source": [
    "with open(\"text.txt\", \"w\", encoding=\"utf-8\") as file:\n",
    "    for line in data.values:\n",
    "        sign=sign_dict[line[1]]\n",
    "        text=line[2]\n",
    "        \n",
    "        context='<s>'+sign+'\\n' +text+'</s>\\n'\n",
    "        \n",
    "        file.write(context)\n",
    "file.close()"
   ]
  },
  {
   "cell_type": "code",
   "execution_count": null,
   "metadata": {},
   "outputs": [],
   "source": [
    "with open(\"text1.txt\", \"w\", encoding=\"utf-8\") as file:\n",
    "    for i,line in enumerate(data.values):\n",
    "        if i==36000:\n",
    "            break\n",
    "        sign=sign_dict[line[1]]\n",
    "        text=line[2]\n",
    "        \n",
    "        context='<s>'+sign+'\\n' +text+'</s>\\n'\n",
    "        \n",
    "        file.write(context)\n",
    "file.close()\n",
    "\n",
    "with open(\"text2.txt\", \"w\", encoding=\"utf-8\") as file:\n",
    "    \n",
    "    for i,line in enumerate(data.values):\n",
    "        if i>=36000:\n",
    "            sign=sign_dict[line[1]]\n",
    "            text=line[2]\n",
    "\n",
    "            context='<s>'+sign+'\\n' +text+'</s>\\n'\n",
    "\n",
    "            file.write(context)\n",
    "file.close()\n"
   ]
  },
  {
   "cell_type": "code",
   "execution_count": null,
   "metadata": {},
   "outputs": [],
   "source": [
    "text=data.values[:,2]\n",
    "vals=np.zeros((text.shape[0]))\n",
    "for i,line in enumerate(text):\n",
    "    vals[i]=len(line.split())\n",
    "print(vals.max())\n",
    "print(vals.mean())\n",
    "print(vals.std())"
   ]
  },
  {
   "cell_type": "code",
   "execution_count": null,
   "metadata": {},
   "outputs": [],
   "source": [
    "plt.figure(figsize=(10,10))\n",
    "plt.hist(vals,bins=50)"
   ]
  },
  {
   "cell_type": "markdown",
   "source": [
    "# Text generation"
   ],
   "metadata": {
    "collapsed": false,
    "pycharm": {
     "name": "#%% md\n"
    }
   }
  },
  {
   "cell_type": "code",
   "execution_count": null,
   "outputs": [],
   "source": [
    "#signs=['aries','gemini','taurus','cancer','leo','virgo','libra','scorpio','sagittarius','capricorn','aquarius','pisces']\n",
    "signs_r=['овен','близнецы','телец','рак','лев','дева','весы','скорпион','стрелец','козерог','водолей','рыбы']\n",
    "sign_dict={'aries':'овен',\n",
    "           'gemini':'близнецы',\n",
    "           'taurus':'телец',\n",
    "           'cancer':'рак',\n",
    "           'leo':'лев',\n",
    "           'virgo':'дева',\n",
    "           'libra':' весы',\n",
    "           'scorpio':'скорпион',\n",
    "           'sagittarius':'стрелец',\n",
    "           'capricorn':'козерог',\n",
    "           'aquarius':'водолей',\n",
    "           'pisces':'рыбы'}"
   ],
   "metadata": {
    "collapsed": false,
    "pycharm": {
     "name": "#%%\n"
    }
   }
  },
  {
   "cell_type": "code",
   "execution_count": null,
   "metadata": {},
   "outputs": [],
   "source": [
    "model_path='models/astro_gpt3large'\n",
    "tok = GPT2Tokenizer.from_pretrained(model_path)\n",
    "model = GPT2LMHeadModel.from_pretrained(model_path)\n",
    "model.cuda()"
   ]
  },
  {
   "cell_type": "code",
   "execution_count": null,
   "metadata": {
    "pycharm": {
     "name": "#%%\n"
    }
   },
   "outputs": [],
   "source": [
    "for sig in signs_r:\n",
    "\n",
    "    text = \"<s> \"+sig\n",
    "    inpt = tok.encode(text, return_tensors=\"pt\")\n",
    "    out = model.generate(inpt.cuda(), \n",
    "                         max_length=100\n",
    "                         ,\n",
    "                         repetition_penalty=5.0,\n",
    "                         \n",
    "                         do_sample=True, top_k=5,\n",
    "                         top_p=0.95,\n",
    "                         temperature=1)\n",
    "    predict=tok.decode(out[0])\n",
    "    print(sig.capitalize()+'\\n'+str(predict).capitalize()+'\\n')"
   ]
  }
 ],
 "metadata": {
  "kernelspec": {
   "display_name": "torch",
   "language": "python",
   "name": "torch"
  },
  "language_info": {
   "codemirror_mode": {
    "name": "ipython",
    "version": 3
   },
   "file_extension": ".py",
   "mimetype": "text/x-python",
   "name": "python",
   "nbconvert_exporter": "python",
   "pygments_lexer": "ipython3",
   "version": "3.6.13"
  }
 },
 "nbformat": 4,
 "nbformat_minor": 4
}