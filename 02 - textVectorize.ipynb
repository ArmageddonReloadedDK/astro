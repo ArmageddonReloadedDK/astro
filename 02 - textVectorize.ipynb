{
 "cells": [
  {
   "cell_type": "code",
   "execution_count": 2,
   "metadata": {
    "pycharm": {
     "name": "#%%\n"
    }
   },
   "outputs": [],
   "source": [
    "import numpy as np\n",
    "import multiprocessing\n",
    "from tensorflow.keras.preprocessing.text import text_to_word_sequence\n",
    "import seaborn as sns\n",
    "import pandas as pd\n",
    "from matplotlib import pyplot as plt\n",
    "from time import time\n",
    "from gensim.models import Word2Vec, FastText, KeyedVectors, fasttext, word2vec\n",
    "from sklearn.decomposition import PCA\n",
    "from sklearn.manifold import TSNE\n",
    "\n",
    "from transformers import AutoTokenizer, AutoModel\n",
    "import torch"
   ]
  },
  {
   "cell_type": "markdown",
   "metadata": {
    "pycharm": {
     "name": "#%% md\n"
    }
   },
   "source": [
    "## Считаем данные"
   ]
  },
  {
   "cell_type": "code",
   "execution_count": 29,
   "metadata": {
    "pycharm": {
     "name": "#%%\n"
    }
   },
   "outputs": [
    {
     "data": {
      "text/plain": [
       "Index(['Unnamed: 0', 'header', 'date', 'news'], dtype='object')"
      ]
     },
     "execution_count": 29,
     "metadata": {},
     "output_type": "execute_result"
    }
   ],
   "source": [
    "news=pd.read_csv('news.csv')\n",
    "news.columns"
   ]
  },
  {
   "cell_type": "code",
   "execution_count": 30,
   "metadata": {
    "pycharm": {
     "name": "#%%\n"
    }
   },
   "outputs": [],
   "source": [
    "news=news.drop(['Unnamed: 0'],axis=1)"
   ]
  },
  {
   "cell_type": "code",
   "execution_count": 34,
   "metadata": {
    "pycharm": {
     "name": "#%%\n"
    }
   },
   "outputs": [
    {
     "data": {
      "text/plain": [
       "array(['\\nВ ОКДЦ пройдет школа для пациентов «Профилактика остеоартроза» \\n',\n",
       "       '\\n14:03, 21 мая 2019 г.        ',\n",
       "       'В среду, 22 мая в 12.00 в ОКДЦ по адресу: Пушкинская, 127, врач-ревматолог первой категории Ольга Агуреева проведет школу для пациентов «Профилактика остеоартроза».Остеоартроз - распространённая форма заболевания суставов, причина которого - поражение хрящевой ткани суставных поверхностей. Симптомы заболевания: боли или неприятные ощущения в суставах и снижение их подвижности, которые мешают заниматься привычными делами. Факторы риска остеоартроза - наследственная предрасположенность и избыточная масса тела.Очень важно как можно раньше поставить диагноз и назначить необходимую терапию.Как предупреждать эту болезнь и бороться с ней, расскажет доктор Ольга Агуреева на бесплатном занятии в ОКДЦ.В арсенале врачей ОКДЦ – все современные методы диагностики: рентгенография, УЗИ суставов, компьютерная и магнитно-резонансная томография, электрокардиография, электромиография и другие.'],\n",
       "      dtype=object)"
      ]
     },
     "execution_count": 34,
     "metadata": {},
     "output_type": "execute_result"
    }
   ],
   "source": [
    "news.values[1]"
   ]
  },
  {
   "cell_type": "code",
   "execution_count": 38,
   "metadata": {
    "pycharm": {
     "name": "#%%\n"
    }
   },
   "outputs": [
    {
     "data": {
      "text/plain": [
       "'В среду, 22 мая в 12.00 в ОКДЦ по адресу: Пушкинская, 127, врач-ревматолог первой категории Ольга Агуреева проведет школу для пациентов «Профилактика остеоартроза».Остеоартроз - распространённая форма заболевания суставов, причина которого - поражение хрящевой ткани суставных поверхностей. Симптомы заболевания: боли или неприятные ощущения в суставах и снижение их подвижности, которые мешают заниматься привычными делами. Факторы риска остеоартроза - наследственная предрасположенность и избыточная масса тела.Очень важно как можно раньше поставить диагноз и назначить необходимую терапию.Как предупреждать эту болезнь и бороться с ней, расскажет доктор Ольга Агуреева на бесплатном занятии в ОКДЦ.В арсенале врачей ОКДЦ – все современные методы диагностики: рентгенография, УЗИ суставов, компьютерная и магнитно-резонансная томография, электрокардиография, электромиография и другие.'"
      ]
     },
     "execution_count": 38,
     "metadata": {},
     "output_type": "execute_result"
    }
   ],
   "source": [
    "text=news.values[:,2]\n",
    "text[1]"
   ]
  },
  {
   "cell_type": "markdown",
   "metadata": {
    "pycharm": {
     "name": "#%% md\n"
    }
   },
   "source": [
    "## Проведем токенизацию"
   ]
  },
  {
   "cell_type": "code",
   "execution_count": 43,
   "metadata": {
    "pycharm": {
     "name": "#%%\n"
    }
   },
   "outputs": [],
   "source": [
    "def processText(data):\n",
    "    tokens=[]\n",
    "    for line in data:\n",
    "        newToken=text_to_word_sequence(line,filters='!\"#$%&amp;()*+,-./:;&lt;=>?@[\\\\]^_`{|}~\\t\\n\\ufeff',\n",
    "                                  lower=True,split=' ')\n",
    "        tokens.append(newToken)\n",
    "    return tokens"
   ]
  },
  {
   "cell_type": "code",
   "execution_count": 45,
   "metadata": {
    "pycharm": {
     "name": "#%%\n"
    }
   },
   "outputs": [
    {
     "name": "stdout",
     "output_type": "stream",
     "text": [
      "['в', 'среду', '22', 'мая', 'в', '12', '00', 'в', 'окдц', 'по', 'адресу', 'пушкинская', '127', 'врач', 'ревматолог', 'первой', 'категории', 'ольга', 'агуреева', 'проведет', 'школу', 'для', 'пациентов', '«профилактика', 'остеоартроза»', 'остеоартроз', 'распространённая', 'форма', 'заболевания', 'суставов', 'причина', 'которого', 'поражение', 'хрящевой', 'ткани', 'суставных', 'поверхностей', 'симптомы', 'заболевания', 'боли', 'или', 'неприятные', 'ощущения', 'в', 'суставах', 'и', 'снижение', 'их', 'подвижности', 'которые', 'мешают', 'заниматься', 'привычными', 'делами', 'факторы', 'риска', 'остеоартроза', 'наследственная', 'предрасположенность', 'и', 'избыточная', 'масса', 'тела', 'очень', 'важно', 'как', 'можно', 'раньше', 'поставить', 'диагноз', 'и', 'назначить', 'необходимую', 'терапию', 'как', 'предупреждать', 'эту', 'болезнь', 'и', 'бороться', 'с', 'ней', 'расскажет', 'доктор', 'ольга', 'агуреева', 'на', 'бесплатном', 'занятии', 'в', 'окдц', 'в', 'арсенале', 'врачей', 'окдц', '–', 'все', 'современные', 'методы', 'диагностики', 'рентгенография', 'узи', 'суставов', 'компьютерная', 'и', 'магнитно', 'резонансная', 'томография', 'электрокардиография', 'электромиография', 'и', 'другие']\n"
     ]
    }
   ],
   "source": [
    "tokens=processText(text)\n",
    "print(tokens[1])"
   ]
  },
  {
   "cell_type": "markdown",
   "metadata": {
    "pycharm": {
     "name": "#%% md\n"
    }
   },
   "source": [
    "## Обучим на нашем корпусе модель word2vec"
   ]
  },
  {
   "cell_type": "code",
   "execution_count": 50,
   "metadata": {
    "pycharm": {
     "name": "#%%\n"
    }
   },
   "outputs": [],
   "source": [
    "cores = multiprocessing.cpu_count() \n",
    "\n",
    "w2v_model = Word2Vec(min_count=1,\n",
    "                     window=5,\n",
    "                     vector_size=300,\n",
    "                     sample=6e-5, \n",
    "                     alpha=0.03, \n",
    "                     min_alpha=0.0007, \n",
    "                     negative=20,\n",
    "                     workers=cores-2)\n",
    "\n",
    "w2v_model.build_vocab(tokens, progress_per=10000) # загрузка словаря"
   ]
  },
  {
   "cell_type": "markdown",
   "metadata": {
    "pycharm": {
     "name": "#%% md\n"
    }
   },
   "source": [
    "Для векторизации используется алгоритм skip-gram"
   ]
  },
  {
   "cell_type": "code",
   "execution_count": 52,
   "metadata": {
    "pycharm": {
     "name": "#%%\n"
    }
   },
   "outputs": [
    {
     "name": "stdout",
     "output_type": "stream",
     "text": [
      "Time to train the model: 2.01 mins\n"
     ]
    }
   ],
   "source": [
    "t = time()\n",
    "w2v_model.train(tokens, total_examples=w2v_model.corpus_count, epochs=400, report_delay=1)\n",
    "\n",
    "print('Time to train the model: {} mins'.format(round((time() - t) / 60, 2)))\n",
    "\n",
    "w2v_model.save(\"news_word2vec.model\")"
   ]
  },
  {
   "cell_type": "code",
   "execution_count": 68,
   "metadata": {
    "pycharm": {
     "name": "#%%\n"
    }
   },
   "outputs": [],
   "source": [
    "#w2v_model = Word2Vec.load(\"weights/word2vec.model\")"
   ]
  },
  {
   "cell_type": "code",
   "execution_count": 64,
   "metadata": {
    "pycharm": {
     "name": "#%%\n"
    }
   },
   "outputs": [
    {
     "data": {
      "text/plain": [
       "[('«расследование', 0.45152929425239563),\n",
       " ('яне', 0.4470641314983368),\n",
       " ('покушение', 0.43443429470062256),\n",
       " ('случайного', 0.42635226249694824),\n",
       " ('«29', 0.41899344325065613),\n",
       " ('бандитизм', 0.4089791476726532),\n",
       " ('соверши\\xa0', 0.40599653124809265),\n",
       " ('покушении', 0.4059793949127197),\n",
       " ('слушалось', 0.38803744316101074),\n",
       " ('самообороной', 0.38268062472343445)]"
      ]
     },
     "execution_count": 64,
     "metadata": {},
     "output_type": "execute_result"
    }
   ],
   "source": [
    "w2v_model.wv.most_similar('убийство')"
   ]
  },
  {
   "cell_type": "markdown",
   "source": [
    "# Считаем готовые модели\n",
    "\n",
    "Веса можно скачать вот тут https://rusvectores.org/ru/models/"
   ],
   "metadata": {
    "collapsed": false,
    "pycharm": {
     "name": "#%% md\n"
    }
   }
  },
  {
   "cell_type": "markdown",
   "source": [
    "## Fasttext"
   ],
   "metadata": {
    "collapsed": false,
    "pycharm": {
     "name": "#%% md\n"
    }
   }
  },
  {
   "cell_type": "code",
   "execution_count": 3,
   "outputs": [],
   "source": [
    " # Обрабатывает ТОЛЬКО по одному слову\n",
    "\n",
    "ft_path='weights/geowac_lemmas_none_fasttextskipgram_300_5_2020'\n",
    "ft_model = fasttext.FastTextKeyedVectors.load(ft_path)"
   ],
   "metadata": {
    "collapsed": false,
    "pycharm": {
     "name": "#%%\n"
    }
   }
  },
  {
   "cell_type": "markdown",
   "source": [
    "## Word2vec"
   ],
   "metadata": {
    "collapsed": false,
    "pycharm": {
     "name": "#%% md\n"
    }
   }
  },
  {
   "cell_type": "code",
   "execution_count": 8,
   "outputs": [
    {
     "data": {
      "text/plain": "[('мобильник_NOUN', 0.7253797650337219),\n ('телефончик_NOUN', 0.6618183851242065),\n ('тлф_X', 0.6574768424034119),\n ('мобилка_NOUN', 0.6435704827308655),\n ('звонить_VERB', 0.6251471042633057),\n ('позвонить_VERB', 0.6051713228225708),\n ('факс_NOUN', 0.6026340126991272),\n ('автоответчик_NOUN', 0.6012487411499023),\n ('сотик_NOUN', 0.5854730606079102),\n ('сотовый_ADJ', 0.5771450996398926)]"
     },
     "execution_count": 8,
     "metadata": {},
     "output_type": "execute_result"
    }
   ],
   "source": [
    "# Обрабатывает ТОЛЬКО по одному слову\n",
    "\n",
    "w2v_model=KeyedVectors.load_word2vec_format('weights/araneum_upos_skipgram_300_2_2018.vec.gz')\n",
    "w2v_model.most_similar('телефон_NOUN')"
   ],
   "metadata": {
    "collapsed": false,
    "pycharm": {
     "name": "#%%\n"
    }
   }
  },
  {
   "cell_type": "markdown",
   "source": [
    "## Sbert\n",
    "\n",
    "https://huggingface.co/sberbank-ai/sbert_large_mt_nlu_ru"
   ],
   "metadata": {
    "collapsed": false,
    "pycharm": {
     "name": "#%% md\n"
    }
   }
  },
  {
   "cell_type": "code",
   "execution_count": null,
   "outputs": [],
   "source": [
    "# Обрабатывает по всему предложению или абзацу\n",
    "\n",
    "def mean_pooling(model_output, attention_mask):\n",
    "    token_embeddings = model_output[0] #First element of model_output contains all token embeddings\n",
    "    input_mask_expanded = attention_mask.unsqueeze(-1).expand(token_embeddings.size()).float()\n",
    "    sum_embeddings = torch.sum(token_embeddings * input_mask_expanded, 1)\n",
    "    sum_mask = torch.clamp(input_mask_expanded.sum(1), min=1e-9)\n",
    "    return sum_embeddings / sum_mask\n",
    "#Sentences we want sentence embeddings for\n",
    "sentences = ['Привет! Как твои дела?',\n",
    "             'А правда, что 42 твое любимое число?']\n",
    "#Load AutoModel from huggingface model repository\n",
    "tokenizer = AutoTokenizer.from_pretrained(\"sberbank-ai/sbert_large_mt_nlu_ru\")\n",
    "model = AutoModel.from_pretrained(\"sberbank-ai/sbert_large_mt_nlu_ru\")\n",
    "#Tokenize sentences\n",
    "encoded_input = tokenizer(sentences, padding=True, truncation=True, max_length=24, return_tensors='pt')\n",
    "#Compute token embeddings\n",
    "with torch.no_grad():\n",
    "    model_output = model(**encoded_input)\n",
    "#Perform pooling. In this case, mean pooling\n",
    "sentence_embeddings = mean_pooling(model_output, encoded_input['attention_mask'])"
   ],
   "metadata": {
    "collapsed": false,
    "pycharm": {
     "name": "#%%\n"
    }
   }
  },
  {
   "cell_type": "markdown",
   "metadata": {
    "pycharm": {
     "name": "#%% md\n"
    }
   },
   "source": [
    "## Визуализация векторов слов"
   ]
  },
  {
   "cell_type": "code",
   "execution_count": 71,
   "metadata": {
    "pycharm": {
     "name": "#%%\n"
    }
   },
   "outputs": [],
   "source": [
    "def tsnescatterplot(model, word, list_names):\n",
    "   \n",
    "   # инициализируем массив слов для вывода \n",
    "    arrays = np.empty((0, 300), dtype='f')\n",
    "\n",
    "    word_labels = [word]\n",
    "    color_list  = ['red']\n",
    "    \n",
    "    # добавим вектор опорного слова в массив вывода\n",
    "    arrays = np.append(arrays, model.wv.__getitem__([word]), axis=0)\n",
    "    \n",
    "    # найдем наиболее похожие слова по отношению к опорному\n",
    "    close_words = model.wv.most_similar([word])\n",
    "    \n",
    "    # добавим вектора похожих слов в массив вывода\n",
    "    for wrd_score in close_words:\n",
    "        wrd_vector = model.wv.__getitem__([wrd_score[0]])\n",
    "        word_labels.append(wrd_score[0])\n",
    "        color_list.append('blue')\n",
    "        arrays = np.append(arrays, wrd_vector, axis=0)\n",
    "    \n",
    "    # добавим вектора интересующих слов в массив вывода\n",
    "    for wrd in list_names:\n",
    "        wrd_vector = model.wv.__getitem__([wrd])\n",
    "        word_labels.append(wrd)\n",
    "        color_list.append('green')\n",
    "        arrays = np.append(arrays, wrd_vector, axis=0)\n",
    "        \n",
    "    # с помощью метода главных компонент уменьшим размероность массива вывода\n",
    "    reduc = PCA(n_components=12).fit_transform(arrays)\n",
    "    \n",
    "    \n",
    "    # сделаем вывод чисел с плав. зап. как вывод чисел с фикс. зап.\n",
    "    np.set_printoptions(suppress=True)\n",
    "    \n",
    "    # получим умную 2-х мерную матрицу вывода из 12-ти мерной\n",
    "    Y = TSNE(n_components=2, random_state=0, perplexity=15).fit_transform(reduc)\n",
    "    \n",
    "    # создадим дф для вывода\n",
    "    df = pd.DataFrame({'x': [x for x in Y[:, 0]],\n",
    "                       'y': [y for y in Y[:, 1]],\n",
    "                       'words': word_labels,\n",
    "                       'color': color_list})\n",
    "    N=15\n",
    "    fig, _ = plt.subplots(figsize=(N,N))\n",
    "\n",
    "    \n",
    "    # проставляем точки\n",
    "    p1 = sns.regplot(data=df,\n",
    "                     x=\"x\",\n",
    "                     y=\"y\",\n",
    "                     fit_reg=False,\n",
    "                     marker=\"o\",\n",
    "                     scatter_kws={'s': 40,\n",
    "                                  'facecolors': df['color']\n",
    "                                 }\n",
    "                    )\n",
    "    \n",
    "    # проставляем сами слова\n",
    "    for line in range(0, df.shape[0]):\n",
    "         p1.text(df[\"x\"][line],\n",
    "                 df['y'][line],\n",
    "                 '  ' + df[\"words\"][line].title(),\n",
    "                 horizontalalignment='left',\n",
    "                 verticalalignment='bottom', size='medium',\n",
    "                 color=df['color'][line],\n",
    "                 weight='normal'\n",
    "                ).set_size(15)\n",
    "\n",
    "    \n",
    "    plt.xlim(Y[:, 0].min()-50, Y[:, 0].max()+50)\n",
    "    plt.ylim(Y[:, 1].min()-50, Y[:, 1].max()+50)\n",
    "            \n",
    "    plt.title('t-SNE visualization for {}'.format(word.title()))\n",
    "    "
   ]
  },
  {
   "cell_type": "code",
   "execution_count": 72,
   "metadata": {
    "pycharm": {
     "name": "#%%\n"
    }
   },
   "outputs": [
    {
     "data": {
      "image/png": "[encoded data removed]",
      "text/plain": [
       "<Figure size 1080x1080 with 1 Axes>"
      ]
     },
     "metadata": {
      "needs_background": "light"
     },
     "output_type": "display_data"
    }
   ],
   "source": [
    "tsnescatterplot(w2v_model, 'июнь', ['кредит','счастье'])"
   ]
  }
 ],
 "metadata": {
  "kernelspec": {
   "name": "torch",
   "language": "python",
   "display_name": "torch"
  },
  "language_info": {
   "codemirror_mode": {
    "name": "ipython",
    "version": 3
   },
   "file_extension": ".py",
   "mimetype": "text/x-python",
   "name": "python",
   "nbconvert_exporter": "python",
   "pygments_lexer": "ipython3",
   "version": "3.7.10"
  }
 },
 "nbformat": 4,
 "nbformat_minor": 4
}